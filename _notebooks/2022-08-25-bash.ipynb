{
 "cells": [
  {
   "cell_type": "markdown",
   "metadata": {},
   "source": [
    "# \"Bash Tutorial\"\n",
    "> \"test\"\n",
    " \n",
    "- toc:true\n",
    "- branch: master\n",
    "- badges: true\n",
    "- comments: true\n",
    "- author: Derek Sol\n",
    "- categories: [fastpages, jupyter]"
   ]
  },
  {
   "cell_type": "code",
   "execution_count": 4,
   "metadata": {
    "vscode": {
     "languageId": "shellscript"
    }
   },
   "outputs": [
    {
     "name": "stdout",
     "output_type": "stream",
     "text": [
      "Using conditional statement to create a project directory and project\n",
      "Directory /Users/dmsol/vscode exists.\n",
      "Directory /Users/dmsol/vscode/APCSP exists.\n"
     ]
    }
   ],
   "source": [
    "echo \"Using conditional statement to create a project directory and project\"\n",
    " \n",
    "# Variable section\n",
    "export project_dir=$HOME/vscode  # change vscode to different name to test git clone\n",
    "export project=$project_dir/APCSP  # change APCSP to name of project from git clone\n",
    "export project_repo=\"https://github.com/nighthawkcoders/APCSP.git\"  # change to project of choice\n",
    " \n",
    "cd ~    # start in home directory\n",
    " \n",
    "# Conditional block to make a project directory\n",
    "if [ ! -d $project_dir ]\n",
    "then\n",
    "   echo \"Directory $project_dir does not exists... makinng directory $project_dir\"\n",
    "   mkdir -p $project_dir\n",
    "fi\n",
    "echo \"Directory $project_dir exists.\"\n",
    " \n",
    "# Conditional block to git clone a project from project_repo\n",
    "if [ ! -d $project ]\n",
    "then\n",
    "   echo \"Directory $project does not exists... cloning $project_repo\"\n",
    "   cd $project_dir\n",
    "   git clone $project_repo\n",
    "   cd ~\n",
    "fi\n",
    "echo \"Directory $project exists.\"\n"
   ]
  },
  {
   "cell_type": "code",
   "execution_count": 5,
   "metadata": {
    "vscode": {
     "languageId": "shellscript"
    }
   },
   "outputs": [
    {
     "name": "stdout",
     "output_type": "stream",
     "text": [
      "Navigate to project, then navigate to area wwhere files were cloned\n",
      "/Users/dmsol/vscode/APCSP\n",
      "\n",
      "list top level or root of files with project pulled from github\n",
      "Gemfile\t\t\t_includes\t\t_word\n",
      "LICENSE\t\t\t_layouts\t\tassets\n",
      "Makefile\t\t_notebooks\t\tdocker-compose.yml\n",
      "README.md\t\t_pages\t\t\timages\n",
      "_action_files\t\t_plugins\t\tindex.html\n",
      "_config.yml\t\t_posts\t\t\tpython\n",
      "_fastpages_docs\t\t_sass\n",
      "\n",
      "list again with hidden files pulled from github\n",
      ".\t\t\tMakefile\t\t_posts\n",
      "..\t\t\tREADME.md\t\t_sass\n",
      ".devcontainer.json\t_action_files\t\t_word\n",
      ".git\t\t\t_config.yml\t\tassets\n",
      ".gitattributes\t\t_fastpages_docs\t\tdocker-compose.yml\n",
      ".github\t\t\t_includes\t\timages\n",
      ".gitignore\t\t_layouts\t\tindex.html\n",
      ".vscode\t\t\t_notebooks\t\tpython\n",
      "Gemfile\t\t\t_pages\n",
      "LICENSE\t\t\t_plugins\n",
      "\n",
      "list all files in long format\n",
      "total 96\n",
      "drwxr-xr-x  28 dmsol  staff    896 Aug 21 22:08 .\n",
      "drwxr-xr-x   4 dmsol  staff    128 Aug 24 11:54 ..\n",
      "-rw-r--r--   1 dmsol  staff    420 Aug 21 22:08 .devcontainer.json\n",
      "drwxr-xr-x  14 dmsol  staff    448 Aug 25 15:18 .git\n",
      "-rw-r--r--   1 dmsol  staff     84 Aug 21 22:08 .gitattributes\n",
      "drwxr-xr-x   4 dmsol  staff    128 Aug 21 22:08 .github\n",
      "-rw-r--r--   1 dmsol  staff    917 Aug 21 22:08 .gitignore\n",
      "drwxr-xr-x   3 dmsol  staff     96 Aug 21 22:08 .vscode\n",
      "-rwxr-xr-x   1 dmsol  staff   1304 Aug 21 22:08 Gemfile\n",
      "-rw-r--r--   1 dmsol  staff  11351 Aug 21 22:08 LICENSE\n",
      "-rwxr-xr-x   1 dmsol  staff   1422 Aug 21 22:08 Makefile\n",
      "-rwxr-xr-x   1 dmsol  staff   3614 Aug 21 22:08 README.md\n",
      "drwxr-xr-x  18 dmsol  staff    576 Aug 21 22:08 _action_files\n",
      "-rw-r--r--   1 dmsol  staff   3716 Aug 21 22:08 _config.yml\n",
      "drwxr-xr-x  24 dmsol  staff    768 Aug 21 22:08 _fastpages_docs\n",
      "drwxr-xr-x  29 dmsol  staff    928 Aug 21 22:08 _includes\n",
      "drwxr-xr-x   6 dmsol  staff    192 Aug 21 22:08 _layouts\n",
      "drwxr-xr-x  12 dmsol  staff    384 Aug 25 15:18 _notebooks\n",
      "drwxr-xr-x   9 dmsol  staff    288 Aug 25 15:18 _pages\n",
      "drwxr-xr-x   4 dmsol  staff    128 Aug 21 22:08 _plugins\n",
      "drwxr-xr-x  29 dmsol  staff    928 Aug 25 15:18 _posts\n",
      "drwxr-xr-x   3 dmsol  staff     96 Aug 21 22:08 _sass\n",
      "drwxr-xr-x   3 dmsol  staff     96 Aug 21 22:08 _word\n",
      "drwxr-xr-x   4 dmsol  staff    128 Aug 21 22:08 assets\n",
      "-rwxr-xr-x   1 dmsol  staff   1136 Aug 21 22:08 docker-compose.yml\n",
      "drwxr-xr-x  52 dmsol  staff   1664 Aug 21 22:08 images\n",
      "-rw-r--r--   1 dmsol  staff   1061 Aug 21 22:08 index.html\n",
      "drwxr-xr-x   3 dmsol  staff     96 Aug 21 22:08 python\n"
     ]
    }
   ],
   "source": [
    "# You must run cells above to define variable and project\n",
    " \n",
    "echo \"Navigate to project, then navigate to area wwhere files were cloned\"\n",
    "cd $project\n",
    "pwd\n",
    " \n",
    "echo \"\"\n",
    "echo \"list top level or root of files with project pulled from github\"\n",
    "ls\n",
    " \n",
    "echo \"\"\n",
    "echo \"list again with hidden files pulled from github\"\n",
    "ls -a   # hidden files flag, many shell commands have flags\n",
    " \n",
    "echo \"\"\n",
    "echo \"list all files in long format\"\n",
    "ls -al   # all files and long listing"
   ]
  },
  {
   "cell_type": "code",
   "execution_count": 6,
   "metadata": {
    "vscode": {
     "languageId": "shellscript"
    }
   },
   "outputs": [
    {
     "name": "stdout",
     "output_type": "stream",
     "text": [
      "Look for posts\n",
      "/Users/dmsol/vscode/APCSP/_posts\n",
      "total 456\n",
      "-rw-r--r--  1 dmsol  staff  21306 Aug 21 22:08 2022-06-01-TT160-deploy.md\n",
      "-rw-r--r--  1 dmsol  staff   5861 Aug 21 22:08 2022-07-07-PBL-binary.md\n",
      "-rw-r--r--  1 dmsol  staff   3085 Aug 21 22:08 2022-07-08-PBL-grade_calc.md\n",
      "-rw-r--r--  1 dmsol  staff   3698 Aug 21 22:08 2022-07-08-PBL-graph.md\n",
      "-rw-r--r--  1 dmsol  staff   5729 Aug 21 22:08 2022-07-08-PBL-life.md\n",
      "-rw-r--r--  1 dmsol  staff  14387 Aug 21 22:08 2022-07-08-PBL-snake.md\n",
      "-rw-r--r--  1 dmsol  staff    334 Aug 21 22:08 2022-07-10-PBL-database.md\n",
      "-rw-r--r--  1 dmsol  staff   2908 Aug 21 22:08 2022-07-10-PBL-jokes.md\n",
      "-rw-r--r--  1 dmsol  staff   4046 Aug 21 22:08 2022-07-10-PBL-rapidapi.md\n",
      "-rw-r--r--  1 dmsol  staff   6685 Aug 21 22:08 2022-07-19-PBL-calculator.md\n",
      "-rw-r--r--  1 dmsol  staff  23325 Aug 21 22:08 2022-07-25-CSP-workshop.md\n",
      "-rw-r--r--  1 dmsol  staff   2333 Aug 21 22:08 2022-08-15-TP000-student_score_history.md\n",
      "-rw-r--r--  1 dmsol  staff   4363 Aug 21 22:08 2022-08-15-TP100-pseudo_code.md\n",
      "-rw-r--r--  1 dmsol  staff   7968 Aug 21 22:08 2022-08-15-TR100-tool_setup.md\n",
      "-rw-r--r--  1 dmsol  staff  15026 Aug 21 22:08 2022-08-15-TT100-tools.md\n",
      "-rw-r--r--  1 dmsol  staff   5590 Aug 21 22:08 2022-08-15-TT101-vscode-wsl.md\n",
      "-rw-r--r--  1 dmsol  staff   2155 Aug 25 15:18 2022-08-22-TR110-intro_python.md\n",
      "-rw-r--r--  1 dmsol  staff   5173 Aug 21 22:08 2022-08-22-TT110-fastpages.md\n",
      "-rw-r--r--  1 dmsol  staff   2798 Aug 25 15:18 2022-08-22-TT110-focus.md\n",
      "-rw-r--r--  1 dmsol  staff   2737 Aug 21 22:08 2022-08-29-TR120-data_abstract.md\n",
      "-rw-r--r--  1 dmsol  staff  10683 Aug 21 22:08 2022-08-29-TT120-agile.md\n",
      "-rw-r--r--  1 dmsol  staff   4498 Aug 21 22:08 2022-08-29-TT120-html_fragments.md\n",
      "-rw-r--r--  1 dmsol  staff   9037 Aug 21 22:08 2022-09-05-TP130-create_performance_task.md\n",
      "-rw-r--r--  1 dmsol  staff   7753 Aug 21 22:08 2022-09-05-TP131-create-task-bria.md\n",
      "-rw-r--r--  1 dmsol  staff   8066 Aug 21 22:08 2022-09-05-TR130-creative_development.md\n",
      "-rw-r--r--  1 dmsol  staff   3520 Aug 21 22:08 2022-09-05-TT130-applab.md\n",
      "-rw-r--r--  1 dmsol  staff    720 Aug 21 22:08 README.md\n"
     ]
    }
   ],
   "source": [
    "\n",
    "# You must run cells above to define variable and project\n",
    " \n",
    "echo \"Look for posts\"\n",
    "export posts=$project/_posts  # _posts inside project\n",
    "cd $posts  # this should exist per fastpages\n",
    "pwd  # present working directory\n",
    "ls -l  # list posts"
   ]
  },
  {
   "cell_type": "code",
   "execution_count": 7,
   "metadata": {
    "vscode": {
     "languageId": "shellscript"
    }
   },
   "outputs": [
    {
     "name": "stdout",
     "output_type": "stream",
     "text": [
      "Look for notebooks\n",
      "/Users/dmsol/vscode/APCSP/_notebooks\n",
      "total 280\n",
      "-rw-r--r--  1 dmsol  staff  14243 Aug 21 22:08 2022-06-01-TT150-webapi_tutorial.ipynb\n",
      "-rw-r--r--  1 dmsol  staff   8653 Aug 21 22:08 2022-07-21-PBL-neo4j_intro.ipynb\n",
      "-rw-r--r--  1 dmsol  staff  11694 Aug 25 15:18 2022-08-22-TP110-python_hello.ipynb\n",
      "-rw-r--r--  1 dmsol  staff  20003 Aug 25 15:18 2022-08-22-TT110-anthony_and_sahil.ipynb\n",
      "-rw-r--r--  1 dmsol  staff   9797 Aug 25 15:23 2022-08-22-TT110-bash_tutorial.ipynb\n",
      "-rw-r--r--  1 dmsol  staff  35721 Aug 25 15:18 2022-08-25-tool_check.ipynb\n",
      "-rw-r--r--  1 dmsol  staff  10141 Aug 21 22:08 2022-08-29-TP120-python_lists.ipynb\n",
      "-rw-r--r--  1 dmsol  staff  12632 Aug 21 22:08 2022-09-05-TT130-js_tutorial.ipynb\n",
      "-rw-r--r--  1 dmsol  staff    771 Aug 21 22:08 README.md\n",
      "drwxr-xr-x  3 dmsol  staff     96 Aug 21 22:08 images\n"
     ]
    }
   ],
   "source": [
    "# You must run cells above to define variable and project\n",
    " \n",
    "echo \"Look for notebooks\"\n",
    "export notebooks=$project/_notebooks  # _notebooks is inside project\n",
    "cd $notebooks   # this should exist per fastpages\n",
    "pwd  # present working directory\n",
    "ls -l  # list notebooks"
   ]
  },
  {
   "cell_type": "code",
   "execution_count": 8,
   "metadata": {
    "vscode": {
     "languageId": "shellscript"
    }
   },
   "outputs": [
    {
     "name": "stdout",
     "output_type": "stream",
     "text": [
      "Look for images in notebooks, print working directory, list files\n",
      "/Users/dmsol/vscode/APCSP/_notebooks/images\n",
      "total 200\n",
      "-rw-r--r--  1 dmsol  staff  101617 Aug 21 22:08 kernels.png\n"
     ]
    }
   ],
   "source": [
    "# You must run cells above to define notebooks location\n",
    " \n",
    "echo \"Look for images in notebooks, print working directory, list files\"\n",
    "cd $notebooks/images  # this should exist per fastpages\n",
    "pwd\n",
    "ls -l\n"
   ]
  },
  {
   "cell_type": "code",
   "execution_count": 3,
   "metadata": {
    "vscode": {
     "languageId": "shellscript"
    }
   },
   "outputs": [
    {
     "name": "stdout",
     "output_type": "stream",
     "text": [
      "Navigate to project, then navigate to area wwhere files were cloned\n",
      "show the contents of README.md\n",
      "\n",
      "cat: README.md: No such file or directory\n",
      "\n",
      "end of README.md\n"
     ]
    }
   ],
   "source": [
    "# You must run cells above to define project\n",
    "echo \"Navigate to project, then navigate to area wwhere files were cloned\"\n",
    " \n",
    "cd $project\n",
    "echo \"show the contents of README.md\"\n",
    "echo \"\"\n",
    " \n",
    "cat README.md  # show contents of file, in this case markdown\n",
    "echo \"\"\n",
    "echo \"end of README.md\""
   ]
  },
  {
   "cell_type": "code",
   "execution_count": 9,
   "metadata": {
    "vscode": {
     "languageId": "shellscript"
    }
   },
   "outputs": [
    {
     "name": "stdout",
     "output_type": "stream",
     "text": [
      "Show the shell environment variables, key on left of equal value on right\n",
      "\n",
      "SHELL=/bin/bash\n",
      "TMPDIR=/var/folders/m3/xnfxr90d6696g4yv0yfqy1_40000gn/T/\n",
      "CONDA_SHLVL=1\n",
      "PYTHONUNBUFFERED=1\n",
      "CONDA_PROMPT_MODIFIER=(base) \n",
      "OLDPWD=/Users/dmsol/vscode/APCSP/_notebooks\n",
      "ORIGINAL_XDG_CURRENT_DESKTOP=undefined\n",
      "MallocNanoZone=0\n",
      "PYTHONIOENCODING=utf-8\n",
      "USER=dmsol\n",
      "CONDA_EXE=/opt/anaconda3/bin/conda\n",
      "SSH_AUTH_SOCK=/private/tmp/com.apple.launchd.Ub6XgHKNQG/Listeners\n",
      "__CF_USER_TEXT_ENCODING=0x1F5:0x0:0x0\n",
      "PAGER=cat\n",
      "VSCODE_AMD_ENTRYPOINT=vs/workbench/api/node/extensionHostProcess\n",
      "ELECTRON_RUN_AS_NODE=1\n",
      "_CE_CONDA=\n",
      "PATH=/opt/anaconda3/bin:/opt/anaconda3/condabin:/Library/Frameworks/Python.framework/Versions/2.7/bin:/usr/local/bin:/usr/bin:/bin:/usr/sbin:/sbin\n",
      "CONDA_PREFIX=/opt/anaconda3\n",
      "PWD=/Users/dmsol/vscode/APCSP/_notebooks/images\n",
      "notebooks=/Users/dmsol/vscode/APCSP/_notebooks\n",
      "VSCODE_HANDLES_UNCAUGHT_ERRORS=true\n",
      "project_repo=https://github.com/nighthawkcoders/APCSP.git\n",
      "project=/Users/dmsol/vscode/APCSP\n",
      "project_dir=/Users/dmsol/vscode\n",
      "XPC_FLAGS=0x0\n",
      "PS1=[PEXP\\[\\]ECT_PROMPT>\n",
      "_CE_M=\n",
      "XPC_SERVICE_NAME=0\n",
      "SHLVL=2\n",
      "HOME=/Users/dmsol\n",
      "APPLICATION_INSIGHTS_NO_DIAGNOSTIC_CHANNEL=1\n",
      "VSCODE_NLS_CONFIG={\"locale\":\"en-us\",\"availableLanguages\":{},\"_languagePackSupport\":true}\n",
      "CONDA_PYTHON_EXE=/opt/anaconda3/bin/python\n",
      "LOGNAME=dmsol\n",
      "VSCODE_IPC_HOOK=/Users/dmsol/Library/Application Support/Code/1.70.2-main.sock\n",
      "VSCODE_CODE_CACHE_PATH=/Users/dmsol/Library/Application Support/Code/CachedData/e4503b30fc78200f846c62cf8091b76ff5547662\n",
      "CONDA_DEFAULT_ENV=base\n",
      "VSCODE_PID=27686\n",
      "posts=/Users/dmsol/vscode/APCSP/_posts\n",
      "VSCODE_CWD=/\n",
      "_=/usr/bin/env\n"
     ]
    }
   ],
   "source": [
    "# This command has no dependencies\n",
    " \n",
    "echo \"Show the shell environment variables, key on left of equal value on right\"\n",
    "echo \"\"\n",
    " \n",
    "env\n"
   ]
  },
  {
   "cell_type": "code",
   "execution_count": 10,
   "metadata": {
    "vscode": {
     "languageId": "shellscript"
    }
   },
   "outputs": [
    {
     "name": "stdout",
     "output_type": "stream",
     "text": [
      "\n",
      "show the secrets of .git\n",
      "total 88\n",
      "-rw-r--r--   1 dmsol  staff    102 Aug 25 15:18 FETCH_HEAD\n",
      "-rw-r--r--   1 dmsol  staff     23 Aug 21 22:08 HEAD\n",
      "-rw-r--r--   1 dmsol  staff     41 Aug 25 15:18 ORIG_HEAD\n",
      "-rw-r--r--   1 dmsol  staff    314 Aug 21 22:08 config\n",
      "-rw-r--r--   1 dmsol  staff     73 Aug 21 22:08 description\n",
      "drwxr-xr-x  15 dmsol  staff    480 Aug 21 22:08 hooks\n",
      "-rw-r--r--   1 dmsol  staff  20021 Aug 25 15:18 index\n",
      "drwxr-xr-x   3 dmsol  staff     96 Aug 21 22:08 info\n",
      "drwxr-xr-x   4 dmsol  staff    128 Aug 21 22:08 logs\n",
      "drwxr-xr-x  44 dmsol  staff   1408 Aug 25 15:18 objects\n",
      "-rw-r--r--   1 dmsol  staff    271 Aug 21 22:08 packed-refs\n",
      "drwxr-xr-x   5 dmsol  staff    160 Aug 21 22:08 refs\n",
      "\n",
      "look at config file\n",
      "[core]\n",
      "\trepositoryformatversion = 0\n",
      "\tfilemode = true\n",
      "\tbare = false\n",
      "\tlogallrefupdates = true\n",
      "\tignorecase = true\n",
      "\tprecomposeunicode = true\n",
      "[remote \"origin\"]\n",
      "\turl = https://github.com/nighthawkcoders/APCSP.git\n",
      "\tfetch = +refs/heads/*:refs/remotes/origin/*\n",
      "[branch \"master\"]\n",
      "\tremote = origin\n",
      "\tmerge = refs/heads/master\n"
     ]
    }
   ],
   "source": [
    "cd $project\n",
    "\n",
    "echo \"\"\n",
    "echo \"show the secrets of .git\"\n",
    "cd .git\n",
    "ls -l\n",
    "\n",
    "echo \"\"\n",
    "echo \"look at config file\"\n",
    "cat config"
   ]
  }
 ],
 "metadata": {
  "kernelspec": {
   "display_name": "Bash",
   "language": "bash",
   "name": "bash"
  },
  "language_info": {
   "codemirror_mode": "shell",
   "file_extension": ".sh",
   "mimetype": "text/x-sh",
   "name": "bash"
  },
  "orig_nbformat": 4
 },
 "nbformat": 4,
 "nbformat_minor": 2
}
