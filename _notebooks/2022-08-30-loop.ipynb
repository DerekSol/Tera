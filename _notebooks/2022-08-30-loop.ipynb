{
 "cells": [
  {
   "cell_type": "code",
   "execution_count": 2,
   "metadata": {},
   "outputs": [],
   "source": [
    "InfoDb = []\n",
    "\n",
    "# InfoDB is a data structure with expected Keys and Values\n",
    "\n",
    "# Append to List a Dictionary of key/values related to a person and cars\n",
    "InfoDb.append({\n",
    "    \"FirstName\": \"Derek\",\n",
    "    \"LastName\": \"Sol\",\n",
    "    \"DOB\": \"January 17\",\n",
    "    \"Residence\": \"San Diego\",\n",
    "    \"Email\": \"dmsol218@gmail.com\",\n",
    "    \"Owns_Cars\": [\"2018 Toyota Camry SE\"]\n",
    "})\n"
   ]
  },
  {
   "cell_type": "code",
   "execution_count": 3,
   "metadata": {},
   "outputs": [
    {
     "name": "stdout",
     "output_type": "stream",
     "text": [
      "For loop output\n",
      "\n",
      "Derek Sol\n",
      "\t Residence: San Diego\n",
      "\t Birth Day: January 17\n",
      "\t Cars: 2018 Toyota Camry SE\n",
      "\n"
     ]
    }
   ],
   "source": [
    "# print function: given a dictionary of InfoDb content\n",
    "def print_data(d_rec):\n",
    "    print(d_rec[\"FirstName\"], d_rec[\"LastName\"])  # using comma puts space between values\n",
    "    print(\"\\t\", \"Residence:\", d_rec[\"Residence\"]) # \\t is a tab indent\n",
    "    print(\"\\t\", \"Birth Day:\", d_rec[\"DOB\"])\n",
    "    print(\"\\t\", \"Cars: \", end=\"\")  # end=\"\" make sure no return occurs\n",
    "    print(\", \".join(d_rec[\"Owns_Cars\"]))  # join allows printing a string list with separator\n",
    "    print()\n",
    "\n",
    "\n",
    "# for loop algorithm iterates on length of InfoDb\n",
    "def for_loop():\n",
    "    print(\"For loop output\\n\")\n",
    "    for record in InfoDb:\n",
    "        print_data(record)\n",
    "\n",
    "for_loop()"
   ]
  },
  {
   "cell_type": "code",
   "execution_count": 4,
   "metadata": {},
   "outputs": [
    {
     "name": "stdout",
     "output_type": "stream",
     "text": [
      "While loop output\n",
      "\n",
      "Derek Sol\n",
      "\t Residence: San Diego\n",
      "\t Birth Day: January 17\n",
      "\t Cars: 2018 Toyota Camry SE\n",
      "\n"
     ]
    }
   ],
   "source": [
    "# while loop algorithm contains an initial n and an index incrementing statement (n += 1)\n",
    "def while_loop():\n",
    "    print(\"While loop output\\n\")\n",
    "    i = 0\n",
    "    while i < len(InfoDb):\n",
    "        record = InfoDb[i]\n",
    "        print_data(record)\n",
    "        i += 1\n",
    "    return\n",
    "\n",
    "while_loop()"
   ]
  },
  {
   "cell_type": "code",
   "execution_count": 5,
   "metadata": {},
   "outputs": [
    {
     "name": "stdout",
     "output_type": "stream",
     "text": [
      "Recursive loop output\n",
      "\n",
      "Derek Sol\n",
      "\t Residence: San Diego\n",
      "\t Birth Day: January 17\n",
      "\t Cars: 2018 Toyota Camry SE\n",
      "\n"
     ]
    }
   ],
   "source": [
    "# recursion algorithm loops incrementing on each call (n + 1) until exit condition is met\n",
    "def recursive_loop(i):\n",
    "    if i < len(InfoDb):\n",
    "        record = InfoDb[i]\n",
    "        print_data(record)\n",
    "        recursive_loop(i + 1)\n",
    "    return\n",
    "    \n",
    "print(\"Recursive loop output\\n\")\n",
    "recursive_loop(0)"
   ]
  },
  {
   "cell_type": "code",
   "execution_count": 12,
   "metadata": {},
   "outputs": [
    {
     "name": "stdout",
     "output_type": "stream",
     "text": [
      "Hello Derek Sol welcome to the this Marvel quiz, lets get started...\n",
      "What is Captain America's shield made out of?\n",
      "a. Vibranium\n",
      "b. Steel\n",
      "c. Iron\n",
      "d. Copper\n",
      "correct answer, you got 1 point\n",
      "How many Infinity Stone are there?\n",
      "a. 4\n",
      "b. 6\n",
      "c. 3\n",
      "d. 8\n",
      "correct answer, you got 1 point\n",
      "Who lifts Thor's hammer in Endgame?\n",
      "a. Iron Man\n",
      "b. Vision\n",
      "c. Captain America\n",
      "d. Captain Marvel\n",
      "correct answer, you got 1 point\n",
      "Final score is: 3\n"
     ]
    }
   ],
   "source": [
    "q1 = \"\"\"What is Captain America's shield made out of?\n",
    "a. Vibranium\n",
    "b. Steel\n",
    "c. Iron\n",
    "d. Copper\"\"\"\n",
    "q2 = \"\"\"How many Infinity Stone are there?\n",
    "a. 4\n",
    "b. 6\n",
    "c. 3\n",
    "d. 8\"\"\"\n",
    "q3 = \"\"\"Who lifts Thor's hammer in Endgame?\n",
    "a. Iron Man\n",
    "b. Vision\n",
    "c. Captain America\n",
    "d. Captain Marvel\"\"\"\n",
    " \n",
    "questions = {q1 : \"a\",q2 : \"b\",q3 : \"c\"}\n",
    " \n",
    "name = input(\"Enter your name: \")\n",
    "print(\"Hello\",name, \"welcome to the this Marvel quiz, lets get started...\")\n",
    "score=0\n",
    "for i in questions:\n",
    "   print(i)\n",
    "   ans = input(\"enter the answer(a/b/c/d) : \")\n",
    "   if ans==questions[i]:\n",
    "       print(\"correct answer, you got 1 point\")\n",
    "       score = score+1\n",
    "   else:\n",
    "       print(\"wrong answer, you lost 1 point\")\n",
    "       score=score-1\n",
    "print(\"Final score is:\", score)"
   ]
  },
  {
   "cell_type": "markdown",
   "metadata": {},
   "source": [
    "# My Loop Marvel Quiz"
   ]
  }
 ],
 "metadata": {
  "kernelspec": {
   "display_name": "Python 3.8.2 64-bit",
   "language": "python",
   "name": "python3"
  },
  "language_info": {
   "codemirror_mode": {
    "name": "ipython",
    "version": 3
   },
   "file_extension": ".py",
   "mimetype": "text/x-python",
   "name": "python",
   "nbconvert_exporter": "python",
   "pygments_lexer": "ipython3",
   "version": "3.8.2"
  },
  "orig_nbformat": 4,
  "vscode": {
   "interpreter": {
    "hash": "31f2aee4e71d21fbe5cf8b01ff0e069b9275f58929596ceb00d14d90e3e16cd6"
   }
  }
 },
 "nbformat": 4,
 "nbformat_minor": 2
}
