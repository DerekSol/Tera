{
 "cells": [
  {
   "cell_type": "markdown",
   "metadata": {},
   "source": [
    "# Performance Task Planning/Draft\n",
    "\n",
    "- toc:true\n",
    "- branch: master\n",
    "- badges: true\n",
    "- comments: true\n",
    "- author: Derek Sol\n",
    "- categories: [APCSP week 3]"
   ]
  },
  {
   "cell_type": "markdown",
   "metadata": {},
   "source": [
    "## Idea on Project\n",
    "An idea I had for this project is somehow creating a website with a whole bunch of movies and TV shows that you can choose from, and a way to search for all of them.\n",
    "The technical requirements for this project include:\n",
    "- Final program code (created independently or collaboratively)\n",
    "- A video that displays the running of your program and demonstrates functionality you developed (created independently)\n",
    "- Written responses to all the prompts in the performance task (created independently)\n",
    "I feel like the things I can design now are probably the dropdown menu to choose from all these movies, and the code for when they click on the movie, for it to take them to a different screen to watch it. It also says \"students need practice implementing programs that first include sequencing, then incorporate selection and iteration, and finally use procedures and lists.\" I feel that we've touched most if not all of these basics over the first couple of weeks. Somethings I would still need to learn is how to put the actual movie or TV show on the site, so when they hit play, they are watching it on the site. Some resources that I have available is code.org to maybe help we work with building apps more and understanding the code, the people around me in this class, and past students that have already taken this class. "
   ]
  },
  {
   "cell_type": "markdown",
   "metadata": {},
   "source": [
    "![]({{site.baseurl}}/images/Screen Shot 2022-09-11 at 12.29.24 PM.png)\n"
   ]
  },
  {
   "cell_type": "code",
   "execution_count": null,
   "metadata": {},
   "outputs": [],
   "source": []
  }
 ],
 "metadata": {
  "kernelspec": {
   "display_name": "Python 3.8.2 64-bit",
   "language": "python",
   "name": "python3"
  },
  "language_info": {
   "name": "python",
   "version": "3.8.2"
  },
  "orig_nbformat": 4,
  "vscode": {
   "interpreter": {
    "hash": "31f2aee4e71d21fbe5cf8b01ff0e069b9275f58929596ceb00d14d90e3e16cd6"
   }
  }
 },
 "nbformat": 4,
 "nbformat_minor": 2
}
