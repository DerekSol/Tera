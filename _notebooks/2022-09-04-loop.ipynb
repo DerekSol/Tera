{
 "cells": [
  {
   "cell_type": "code",
   "execution_count": 2,
   "metadata": {},
   "outputs": [],
   "source": [
    "InfoDb = []\n",
    "\n",
    "# InfoDB is a data structure with expected Keys and Values\n",
    "\n",
    "# Append to List a Dictionary of key/values related to a person and cars\n",
    "InfoDb.append({\n",
    "    \"FirstName\": \"Derek\",\n",
    "    \"LastName\": \"Sol\",\n",
    "    \"DOB\": \"January 17\",\n",
    "    \"Residence\": \"San Diego\",\n",
    "    \"Email\": \"dmsol218@gmail.com\",\n",
    "    \"Owns_Cars\": [\"2018 Toyota Camry SE\"]\n",
    "})\n"
   ]
  },
  {
   "cell_type": "markdown",
   "metadata": {},
   "source": [
    "#### For loop/For loop with Index"
   ]
  },
  {
   "cell_type": "code",
   "execution_count": 3,
   "metadata": {},
   "outputs": [
    {
     "name": "stdout",
     "output_type": "stream",
     "text": [
      "For loop output\n",
      "\n",
      "Derek Sol\n",
      "\t Residence: San Diego\n",
      "\t Birth Day: January 17\n",
      "\t Cars: 2018 Toyota Camry SE\n",
      "\n"
     ]
    }
   ],
   "source": [
    "# print function: given a dictionary of InfoDb content\n",
    "def print_data(d_rec):\n",
    "    print(d_rec[\"FirstName\"], d_rec[\"LastName\"])  # using comma puts space between values\n",
    "    print(\"\\t\", \"Residence:\", d_rec[\"Residence\"]) # \\t is a tab indent\n",
    "    print(\"\\t\", \"Birth Day:\", d_rec[\"DOB\"])\n",
    "    print(\"\\t\", \"Cars: \", end=\"\")  # end=\"\" make sure no return occurs\n",
    "    print(\", \".join(d_rec[\"Owns_Cars\"]))  # join allows printing a string list with separator\n",
    "    print()\n",
    "\n",
    "\n",
    "# for loop algorithm iterates on length of InfoDb\n",
    "def for_loop():\n",
    "    print(\"For loop output\\n\")\n",
    "    for record in InfoDb:\n",
    "        print_data(record)\n",
    "\n",
    "for_loop()"
   ]
  },
  {
   "cell_type": "markdown",
   "metadata": {},
   "source": [
    "#### While Loop"
   ]
  },
  {
   "cell_type": "code",
   "execution_count": 4,
   "metadata": {},
   "outputs": [
    {
     "name": "stdout",
     "output_type": "stream",
     "text": [
      "While loop output\n",
      "\n",
      "Derek Sol\n",
      "\t Residence: San Diego\n",
      "\t Birth Day: January 17\n",
      "\t Cars: 2018 Toyota Camry SE\n",
      "\n"
     ]
    }
   ],
   "source": [
    "# while loop algorithm contains an initial n and an index incrementing statement (n += 1)\n",
    "def while_loop():\n",
    "    print(\"While loop output\\n\")\n",
    "    i = 0\n",
    "    while i < len(InfoDb):\n",
    "        record = InfoDb[i]\n",
    "        print_data(record)\n",
    "        i += 1\n",
    "    return\n",
    "\n",
    "while_loop()"
   ]
  },
  {
   "cell_type": "markdown",
   "metadata": {},
   "source": [
    "#### Recursion"
   ]
  },
  {
   "cell_type": "code",
   "execution_count": 5,
   "metadata": {},
   "outputs": [
    {
     "name": "stdout",
     "output_type": "stream",
     "text": [
      "Recursive loop output\n",
      "\n",
      "Derek Sol\n",
      "\t Residence: San Diego\n",
      "\t Birth Day: January 17\n",
      "\t Cars: 2018 Toyota Camry SE\n",
      "\n"
     ]
    }
   ],
   "source": [
    "# recursion algorithm loops incrementing on each call (n + 1) until exit condition is met\n",
    "def recursive_loop(i):\n",
    "    if i < len(InfoDb):\n",
    "        record = InfoDb[i]\n",
    "        print_data(record)\n",
    "        recursive_loop(i + 1)\n",
    "    return\n",
    "    \n",
    "print(\"Recursive loop output\\n\")\n",
    "recursive_loop(0)"
   ]
  },
  {
   "cell_type": "markdown",
   "metadata": {},
   "source": [
    "#### Marvel Quiz Version 1"
   ]
  },
  {
   "cell_type": "code",
   "execution_count": 12,
   "metadata": {},
   "outputs": [
    {
     "name": "stdout",
     "output_type": "stream",
     "text": [
      "Hello Derek Sol welcome to the this Marvel quiz, lets get started...\n",
      "What is Captain America's shield made out of?\n",
      "a. Vibranium\n",
      "b. Steel\n",
      "c. Iron\n",
      "d. Copper\n",
      "correct answer, you got 1 point\n",
      "How many Infinity Stone are there?\n",
      "a. 4\n",
      "b. 6\n",
      "c. 3\n",
      "d. 8\n",
      "correct answer, you got 1 point\n",
      "Who lifts Thor's hammer in Endgame?\n",
      "a. Iron Man\n",
      "b. Vision\n",
      "c. Captain America\n",
      "d. Captain Marvel\n",
      "correct answer, you got 1 point\n",
      "Final score is: 3\n"
     ]
    }
   ],
   "source": [
    "q1 = \"\"\"What is Captain America's shield made out of?\n",
    "a. Vibranium\n",
    "b. Steel\n",
    "c. Iron\n",
    "d. Copper\"\"\"\n",
    "q2 = \"\"\"How many Infinity Stone are there?\n",
    "a. 4\n",
    "b. 6\n",
    "c. 3\n",
    "d. 8\"\"\"\n",
    "q3 = \"\"\"Who lifts Thor's hammer in Endgame?\n",
    "a. Iron Man\n",
    "b. Vision\n",
    "c. Captain America\n",
    "d. Captain Marvel\"\"\"\n",
    " \n",
    "questions = {q1 : \"a\",q2 : \"b\",q3 : \"c\"}\n",
    " \n",
    "name = input(\"Enter your name: \")\n",
    "print(\"Hello\",name, \"welcome to the this Marvel quiz, lets get started...\")\n",
    "score=0\n",
    "for i in questions:\n",
    "   print(i)\n",
    "   ans = input(\"enter the answer(a/b/c/d) : \")\n",
    "   if ans==questions[i]:\n",
    "       print(\"correct answer, you got 1 point\")\n",
    "       score = score+1\n",
    "   else:\n",
    "       print(\"wrong answer, you lost 1 point\")\n",
    "       score=score-1\n",
    "print(\"Final score is:\", score)"
   ]
  },
  {
   "cell_type": "markdown",
   "metadata": {},
   "source": [
    "#### Marvel Quiz Version 2"
   ]
  },
  {
   "cell_type": "code",
   "execution_count": 1,
   "metadata": {},
   "outputs": [
    {
     "name": "stdout",
     "output_type": "stream",
     "text": [
      "-------------------------\n",
      "What is Captain America's shield made out of?: \n",
      "A. Vibranium\n",
      "B. Copper\n",
      "C. Iron\n",
      "D. Steel\n",
      "CORRECT!\n",
      "-------------------------\n",
      "How many Infinity Stones are there?: \n",
      "A. 4\n",
      "B. 6\n",
      "C. 3\n",
      "D. 2\n",
      "CORRECT!\n",
      "-------------------------\n",
      "Who lifts Thor's hammer in Endgame?: \n",
      "A. Iron Man\n",
      "B. Vision\n",
      "C. Captain America\n",
      "D. Captain Marvel\n",
      "CORRECT!\n",
      "-------------------------\n",
      "Who holds the Time Stone?: \n",
      "A. Doctor Strange\n",
      "B. Ant-Man\n",
      "C. Vision\n",
      "D. Thor\n",
      "WRONG!\n",
      "-------------------------\n",
      "RESULTS\n",
      "-------------------------\n",
      "Answers: A B C A \n",
      "Guesses:  A B C D \n",
      "Your score is: 75%\n",
      "-------------------------\n",
      "What is Captain America's shield made out of?: \n",
      "A. Vibranium\n",
      "B. Copper\n",
      "C. Iron\n",
      "D. Steel\n",
      "CORRECT!\n",
      "-------------------------\n",
      "How many Infinity Stones are there?: \n",
      "A. 4\n",
      "B. 6\n",
      "C. 3\n",
      "D. 2\n",
      "CORRECT!\n",
      "-------------------------\n",
      "Who lifts Thor's hammer in Endgame?: \n",
      "A. Iron Man\n",
      "B. Vision\n",
      "C. Captain America\n",
      "D. Captain Marvel\n",
      "CORRECT!\n",
      "-------------------------\n",
      "Who holds the Time Stone?: \n",
      "A. Doctor Strange\n",
      "B. Ant-Man\n",
      "C. Vision\n",
      "D. Thor\n",
      "CORRECT!\n",
      "-------------------------\n",
      "RESULTS\n",
      "-------------------------\n",
      "Answers: A B C A \n",
      "Guesses:  A B C A \n",
      "Your score is: 100%\n",
      "Bye!\n"
     ]
    }
   ],
   "source": [
    "# -------------------------\n",
    "def new_game():\n",
    "    \n",
    "    guesses = []\n",
    "    correct_guesses = 0\n",
    "    question_num = 1\n",
    "    \n",
    "    for key in questions:\n",
    "        print(\"-------------------------\")\n",
    "        print(key)\n",
    "        for i in options[question_num-1]:\n",
    "            print(i)\n",
    "        guess = input(\"Enter (A, B, C, or D): \")\n",
    "        guess = guess.upper()\n",
    "        guesses.append(guess)\n",
    "        \n",
    "        correct_guesses += check_answer(questions.get(key),guess)\n",
    "        question_num += 1\n",
    "        \n",
    "    display_score(correct_guesses, guesses)\n",
    "    \n",
    "# -------------------------\n",
    "def check_answer(answer, guess):\n",
    "    \n",
    "    if answer == guess:\n",
    "        print(\"CORRECT!\")\n",
    "        return 1\n",
    "    else:\n",
    "        print(\"WRONG!\")\n",
    "        return 0\n",
    "# -------------------------\n",
    "def display_score(correct_guesses, guesses):\n",
    "    print(\"-------------------------\")\n",
    "    print(\"RESULTS\")\n",
    "    print(\"-------------------------\")\n",
    "    \n",
    "    print(\"Answers: \", end=\"\")\n",
    "    for i in questions:\n",
    "        print(questions.get(i), end =\" \")\n",
    "    print()\n",
    "        \n",
    "    print(\"Guesses:  \", end=\"\")\n",
    "    for i in guesses:\n",
    "        print(i, end =\" \")\n",
    "    print()\n",
    "    \n",
    "    score = int((correct_guesses/len(questions))*100)\n",
    "    print(\"Your score is: \"+str(score)+\"%\")\n",
    "# -------------------------\n",
    "def play_again():\n",
    "    \n",
    "    response = input(\"Do you want to play again?: (yes or no): \")\n",
    "    response = response.upper()\n",
    "    \n",
    "    if response == \"YES\":\n",
    "        return True\n",
    "    else:\n",
    "        return False\n",
    "# -------------------------\n",
    "\n",
    "\n",
    "questions = {\n",
    " \"What is Captain America's shield made out of?: \": \"A\",\n",
    " \"How many Infinity Stones are there?: \": \"B\",\n",
    " \"Who lifts Thor's hammer in Endgame?: \": \"C\",\n",
    " \"Who holds the Time Stone?: \": \"A\",\n",
    "}\n",
    "\n",
    "options = [[\"A. Vibranium\", \"B. Copper\", \"C. Iron\", \"D. Steel\"],\n",
    "           [\"A. 4\", \"B. 6\", \"C. 3\", \"D. 2\"],\n",
    "           [\"A. Iron Man\", \"B. Vision\", \"C. Captain America\", \"D. Captain Marvel\"],\n",
    "           [\"A. Doctor Strange\", \"B. Ant-Man\", \"C. Vision\", \"D. Thor\"]]\n",
    "\n",
    "new_game()\n",
    "\n",
    "while play_again():\n",
    "    new_game()\n",
    "    \n",
    "print(\"Bye!\")\n",
    "\n"
   ]
  },
  {
   "cell_type": "markdown",
   "metadata": {},
   "source": [
    "# My Loop Marvel Quiz\n",
    "\n",
    "- toc:true\n",
    "- branch: master\n",
    "- badges: true\n",
    "- comments: true\n",
    "- author: Derek Sol\n",
    "- categories: [APCSP week 2]"
   ]
  }
 ],
 "metadata": {
  "kernelspec": {
   "display_name": "Python 3.8.2 64-bit",
   "language": "python",
   "name": "python3"
  },
  "language_info": {
   "codemirror_mode": {
    "name": "ipython",
    "version": 3
   },
   "file_extension": ".py",
   "mimetype": "text/x-python",
   "name": "python",
   "nbconvert_exporter": "python",
   "pygments_lexer": "ipython3",
   "version": "3.8.2"
  },
  "orig_nbformat": 4,
  "vscode": {
   "interpreter": {
    "hash": "31f2aee4e71d21fbe5cf8b01ff0e069b9275f58929596ceb00d14d90e3e16cd6"
   }
  }
 },
 "nbformat": 4,
 "nbformat_minor": 2
}
