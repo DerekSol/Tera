{
 "cells": [
  {
   "cell_type": "markdown",
   "metadata": {},
   "source": [
    "# Code Corrections\n",
    "\n",
    "- toc:true\n",
    "- branch: master\n",
    "- badges: true\n",
    "- comments: true\n",
    "- author: Derek Sol\n",
    "- categories: [APCSP Week 7]"
   ]
  },
  {
   "cell_type": "code",
   "execution_count": 3,
   "metadata": {},
   "outputs": [
    {
     "name": "stdout",
     "output_type": "stream",
     "text": [
      "['a', 'b', 'c', 'd', 'e', 'f', 'g', 'h', 'i', 'j', 'k', 'l', 'm', 'n', 'o', 'p', 'q', 'r', 's', 't', 'u', 'v', 'w', 'x', 'y', 'z']\n"
     ]
    }
   ],
   "source": [
    "alphabet = \"abcdefghijklmnopqrstuvwxyz\"\n",
    "\n",
    "alphabetList = []\n",
    "\n",
    "for i in alphabet:\n",
    "    alphabetList.append(i)\n",
    "\n",
    "print(alphabetList)"
   ]
  },
  {
   "cell_type": "markdown",
   "metadata": {},
   "source": [
    "After"
   ]
  },
  {
   "cell_type": "code",
   "execution_count": 5,
   "metadata": {},
   "outputs": [
    {
     "name": "stdout",
     "output_type": "stream",
     "text": [
      "The letter z is the 26 letter in the alphabet\n"
     ]
    }
   ],
   "source": [
    "letter = input(\"What letter would you like to check?\")\n",
    "\n",
    "i = 0\n",
    "\n",
    "while i < 26:\n",
    "    if alphabetList[i] == letter:\n",
    "        print(\"The letter \" + letter + \" is the \" + str(i+1) + \" letter in the alphabet\")\n",
    "    i += 1"
   ]
  },
  {
   "cell_type": "code",
   "execution_count": 24,
   "metadata": {},
   "outputs": [
    {
     "name": "stdout",
     "output_type": "stream",
     "text": [
      "The letter a is the 1 letter in the alphabet\n"
     ]
    }
   ],
   "source": [
    "letter = input(\"What letter would you like to check?\")\n",
    "\n",
    "for i in alphabetList:\n",
    "    count = 0\n",
    "    if i == letter:\n",
    "        print(\"The letter \" + letter + \" is the \" + str(count+1) + \" letter in the alphabet\")\n",
    "    count += 1"
   ]
  },
  {
   "cell_type": "code",
   "execution_count": 25,
   "metadata": {},
   "outputs": [
    {
     "name": "stdout",
     "output_type": "stream",
     "text": [
      "[1, 3, 5, 7, 9]\n"
     ]
    }
   ],
   "source": [
    "evens = []\n",
    "i = 1\n",
    "\n",
    "while i <= 10:\n",
    "    evens.append(i)\n",
    "    i += 2\n",
    "\n",
    "print(evens)"
   ]
  },
  {
   "cell_type": "code",
   "execution_count": 31,
   "metadata": {},
   "outputs": [
    {
     "name": "stdout",
     "output_type": "stream",
     "text": [
      "[1, 3, 5, 7, 9]\n"
     ]
    }
   ],
   "source": [
    "odds = []\n",
    "i = 1\n",
    "\n",
    "while i <= 10:\n",
    "    odds.append(i)\n",
    "    i += 2\n",
    "\n",
    "print(odds)"
   ]
  },
  {
   "cell_type": "code",
   "execution_count": 32,
   "metadata": {},
   "outputs": [
    {
     "name": "stdout",
     "output_type": "stream",
     "text": [
      "[1, 3, 5, 7, 9]\n"
     ]
    }
   ],
   "source": [
    "numbers = [0,1,2,3,4,5,6,7,8,9,10]\n",
    "evens = []\n",
    "\n",
    "for i in numbers:\n",
    "    if (numbers[i] % 2 == 1): # % sign is a division sign\n",
    "        evens.append(numbers[i])\n",
    "\n",
    "print(evens)"
   ]
  },
  {
   "cell_type": "code",
   "execution_count": 33,
   "metadata": {},
   "outputs": [
    {
     "name": "stdout",
     "output_type": "stream",
     "text": [
      "[0, 2, 4, 6, 8, 10]\n"
     ]
    }
   ],
   "source": [
    "numbers = [0,1,2,3,4,5,6,7,8,9,10]\n",
    "odds = []\n",
    "\n",
    "for i in numbers:\n",
    "    if (numbers[i] % 2 == 0):\n",
    "        odds.append(numbers[i])\n",
    "\n",
    "print(odds)"
   ]
  },
  {
   "cell_type": "code",
   "execution_count": 42,
   "metadata": {},
   "outputs": [
    {
     "name": "stdout",
     "output_type": "stream",
     "text": [
      "[2, 4, 5, 6, 8, 10, 12, 14, 15, 16, 18, 20, 22, 24, 25, 26, 28, 30, 32, 34, 35, 36, 38, 40, 42, 44, 45, 46, 48, 50, 52, 54, 55, 56, 58, 60, 62, 64, 65, 66, 68, 70, 72, 74, 75, 76, 78, 80, 82, 84, 85, 86, 88, 90, 92, 94, 95, 96, 98]\n"
     ]
    }
   ],
   "source": [
    "# new version without 0 in the list\n",
    "# 0 is involved in the list \"numbers\", so we need to make the code omit the 0\n",
    "\n",
    "numbers = []\n",
    "newNumbers = []\n",
    "i = 0\n",
    "\n",
    "while i < 100:\n",
    "    numbers.append(i)\n",
    "    i += 1\n",
    "    # using del list[0] to perform removal\n",
    "\n",
    "for i in numbers:\n",
    "    if numbers[i] % 5 == 0: # if it is divisible by 5, it will append the list\n",
    "        newNumbers.append(numbers[i])\n",
    "    elif numbers[i] % 2 == 0: # or else if it is divisible by 2, it will also append the list\n",
    "        newNumbers.append(numbers[i])\n",
    "\n",
    "del newNumbers[0] # deletes 0 from the list to be printed\n",
    "print(newNumbers)"
   ]
  },
  {
   "cell_type": "code",
   "execution_count": 45,
   "metadata": {},
   "outputs": [
    {
     "name": "stdout",
     "output_type": "stream",
     "text": [
      "Derek's Restaurant Menu\n",
      "burger  $3.99\n",
      "fries  $1.99\n",
      "drink  $0.99\n",
      "Please select items from the menu. Once you are done selecting items, type 'done'\n",
      "1 burger: $3.99\n",
      "1 drink: $0.99\n",
      "1 burger: $3.99\n",
      "Your total is $8.97\n"
     ]
    }
   ],
   "source": [
    "menu =  {\"burger\": 3.99, \n",
    "         \"fries\": 1.99,\n",
    "         \"drink\": 0.99} # use of dictionary\n",
    "total = 0\n",
    "\n",
    "#shows the user the menu and prompts them to select an item\n",
    "print(\"Derek's Restaurant Menu\")\n",
    "for k,v in menu.items(): # \"k\" is the item name, \"v\" is the price. \"k\" stands for key and \"v\" stands for value.\n",
    "    print(k + \"  $\" + str(v)) #why does v have \"str\" in front of it?\n",
    "\n",
    "#ideally the code should prompt the user multiple times\n",
    "print(\"Please select items from the menu. Once you are done selecting items, type 'done'\")\n",
    "item = input(\"Please select items from the menu. Once you are done selecting items, type 'done'\")\n",
    "\n",
    "while True:             # Loop continuously\n",
    "    inp = input()       # Get the input\n",
    "    if inp == \"burger\": # input for burger\n",
    "        print(\"1 burger: $3.99\") \n",
    "        total = total + 3.99\n",
    "    elif inp == \"fries\": # input for fries\n",
    "        print(\"1 fries: $1.99\")   \n",
    "        total = total + 1.99\n",
    "    elif inp == \"drink\": # input for a drink\n",
    "         print(\"1 drink: $0.99\")\n",
    "         total = total + 0.99\n",
    "    elif inp == \"done\": # input for completing the order\n",
    "        break # stop asking the user for inputs\n",
    "\n",
    "# print the total order cost\n",
    "print(\"Your total is $\" + str(total))"
   ]
  }
 ],
 "metadata": {
  "kernelspec": {
   "display_name": "Python 3.8.2 64-bit",
   "language": "python",
   "name": "python3"
  },
  "language_info": {
   "codemirror_mode": {
    "name": "ipython",
    "version": 3
   },
   "file_extension": ".py",
   "mimetype": "text/x-python",
   "name": "python",
   "nbconvert_exporter": "python",
   "pygments_lexer": "ipython3",
   "version": "3.8.2"
  },
  "orig_nbformat": 4,
  "vscode": {
   "interpreter": {
    "hash": "31f2aee4e71d21fbe5cf8b01ff0e069b9275f58929596ceb00d14d90e3e16cd6"
   }
  }
 },
 "nbformat": 4,
 "nbformat_minor": 2
}
