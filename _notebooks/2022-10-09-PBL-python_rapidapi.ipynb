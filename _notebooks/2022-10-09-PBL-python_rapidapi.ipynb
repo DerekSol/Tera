{
 "cells": [
  {
   "cell_type": "markdown",
   "metadata": {},
   "source": [
    "# Application Programming Interface (API)"
   ]
  },
  {
   "cell_type": "markdown",
   "metadata": {},
   "source": [
    "### Covid19 RapidAPI Example"
   ]
  },
  {
   "cell_type": "code",
   "execution_count": 2,
   "metadata": {},
   "outputs": [
    {
     "name": "stdout",
     "output_type": "stream",
     "text": [
      "<bound method Response.json of <Response [200]>>\n",
      "World Totals\n",
      "total_cases 509,268,964\n",
      "new_cases 204,268\n",
      "total_deaths 6,242,509\n",
      "new_deaths 630\n",
      "total_recovered 461,827,849\n",
      "active_cases 41,198,606\n",
      "serious_critical 42,510\n",
      "total_cases_per_1m_population 65,334\n",
      "deaths_per_1m_population 800.9\n",
      "statistic_taken_at 2022-04-24 11:18:01\n",
      "\n",
      "Country Totals\n",
      "country_name USA\n",
      "cases 82,649,779\n",
      "deaths 1,018,316\n",
      "region \n",
      "total_recovered 80,434,925\n",
      "new_deaths 0\n",
      "new_cases 0\n",
      "serious_critical 1,465\n",
      "active_cases 1,196,538\n",
      "total_cases_per_1m_population 247,080\n",
      "deaths_per_1m_population 3,044\n",
      "total_tests 1,000,275,726\n",
      "tests_per_1m_population 2,990,303\n"
     ]
    }
   ],
   "source": [
    "\"\"\"\n",
    "Requests is a HTTP library for the Python programming language.\n",
    "The goal of the project is to make HTTP requests simpler and more human-friendly.\n",
    "\"\"\"\n",
    " \n",
    "import requests\n",
    " \n",
    "url = \"https://corona-virus-world-and-india-data.p.rapidapi.com/api\"\n",
    " \n",
    "headers = {\n",
    "   \"X-RapidAPI-Key\": \"561be3d3dcmsh26da5c03e252f9fp1d2d4fjsn25f9e92f38d8\",\n",
    "   \"X-RapidAPI-Host\": \"corona-virus-world-and-india-data.p.rapidapi.com\"\n",
    "}\n",
    " \n",
    "response = requests.request(\"GET\", url, headers=headers)\n",
    " \n",
    "print(response.json)\n",
    " \n",
    "# This code looks for \"world data\"\n",
    "print(\"World Totals\")\n",
    "world = response.json().get('world_total')  # turn response to json() so we can extract \"world_total\"\n",
    "for key, value in world.items():  # this finds key, value pairs in country\n",
    "   print(key, value)\n",
    " \n",
    "print()\n",
    " \n",
    "# This code looks for USA in \"countries_stats\"\n",
    "print(\"Country Totals\")\n",
    "countries = response.json().get('countries_stat')\n",
    "for country in countries:  # countries is a list\n",
    "   if country[\"country_name\"] == \"USA\":  # this filters for USA\n",
    "       for key, value in country.items():  # this finds key, value pairs in country\n",
    "           print(key, value)\n"
   ]
  },
  {
   "cell_type": "markdown",
   "metadata": {},
   "source": [
    "# API For my Project"
   ]
  },
  {
   "cell_type": "code",
   "execution_count": 3,
   "metadata": {},
   "outputs": [
    {
     "name": "stdout",
     "output_type": "stream",
     "text": [
      "[{'isNational': False, 'country': {'name': 'Australia', 'shortName': 'AUS', 'id': 6}, 'name': 'Adelaide 36ers', 'shortName': 'ADE', 'mediumName': 'Ad. 36ers', 'id': 1448}, {'isNational': False, 'country': {'name': 'Australia', 'shortName': 'AUS', 'id': 6}, 'name': 'Brisbane Bullets', 'shortName': 'BRI', 'mediumName': 'B.Bullets', 'id': 2503}, {'isNational': False, 'country': {'name': 'Australia', 'shortName': 'AUS', 'id': 6}, 'name': 'Cairns Taipans', 'shortName': 'CTP', 'mediumName': 'C.Taipans', 'id': 1446}, {'isNational': False, 'country': {'name': 'Australia', 'shortName': 'AUS', 'id': 6}, 'name': 'Illawarra Hawks', 'shortName': 'ILH', 'mediumName': 'I.Hawks', 'id': 1443}, {'isNational': False, 'country': {'name': 'Australia', 'shortName': 'AUS', 'id': 6}, 'name': 'Melbourne United', 'shortName': 'MEL', 'mediumName': 'Melb.United', 'id': 1445}, {'isNational': False, 'country': {'name': 'Australia', 'shortName': 'AUS', 'id': 6}, 'name': 'New Zealand Breakers', 'shortName': 'NZB', 'mediumName': 'N.Z.Breakers', 'id': 1441}, {'isNational': False, 'country': {'name': 'Australia', 'shortName': 'AUS', 'id': 6}, 'name': 'Perth Wildcats', 'shortName': 'PWC', 'mediumName': 'P.Wildcats', 'id': 1442}, {'isNational': False, 'country': {'name': 'Australia', 'shortName': 'AUS', 'id': 6}, 'name': 'SE Melbourne Phoenix', 'shortName': '', 'mediumName': '', 'id': 3696}, {'isNational': False, 'country': {'name': 'Australia', 'shortName': 'AUS', 'id': 6}, 'name': 'Sydney Kings', 'shortName': 'SDK', 'mediumName': 'S.Kings', 'id': 1444}]\n"
     ]
    }
   ],
   "source": [
    "import requests\n",
    "\n",
    "url = \"https://basketball-data.p.rapidapi.com/tournament/teams\"\n",
    "\n",
    "querystring = {\"tournamentId\":\"89\"}\n",
    "\n",
    "headers = {\n",
    "\t\"X-RapidAPI-Key\": \"b731fee7a5mshf2b6608334c0b07p13bf5fjsn09fcf5df26f4\",\n",
    "\t\"X-RapidAPI-Host\": \"basketball-data.p.rapidapi.com\"\n",
    "}\n",
    "\n",
    "response = requests.request(\"GET\", url, headers=headers, params=querystring)\n",
    "\n",
    "print(response.json())\n"
   ]
  }
 ],
 "metadata": {
  "kernelspec": {
   "display_name": "Python 3.9.12 ('base')",
   "language": "python",
   "name": "python3"
  },
  "language_info": {
   "codemirror_mode": {
    "name": "ipython",
    "version": 3
   },
   "file_extension": ".py",
   "mimetype": "text/x-python",
   "name": "python",
   "nbconvert_exporter": "python",
   "pygments_lexer": "ipython3",
   "version": "3.9.12"
  },
  "orig_nbformat": 4,
  "vscode": {
   "interpreter": {
    "hash": "40d3a090f54c6569ab1632332b64b2c03c39dcf918b08424e98f38b5ae0af88f"
   }
  }
 },
 "nbformat": 4,
 "nbformat_minor": 2
}
