{
 "cells": [
  {
   "cell_type": "markdown",
   "metadata": {},
   "source": [
    "# Student Teaching Portfolio\n",
    "- toc:true\n",
    "- branch: master\n",
    "- badges: true\n",
    "- comments: true\n",
    "- author: Derek Sol\n",
    "- categories: [APCSP Week 14-17]"
   ]
  },
  {
   "cell_type": "markdown",
   "metadata": {},
   "source": [
    "# Unit 3 Sections 1-2"
   ]
  },
  {
   "cell_type": "markdown",
   "metadata": {},
   "source": [
    "## <mark>Notes</mark>"
   ]
  },
  {
   "cell_type": "markdown",
   "metadata": {},
   "source": [
    "- Variable is an abstraction inside a program that can hold a value\n",
    "- organizes data by labeling it with descriptive name\n",
    "- consists of three parts: name, value, and type\n",
    "- When naming variables, keep it easy and simple to read, because it can be messy and confusing later on\n",
    "- types of data, integer is a number, text/string is a word, and Boolean is data that determines if something is true or false\n",
    "- assignment operator allows a program to change the value represented by a variable, used to assign values to variables\n",
    "- value stored in a variable will be the most recent value assigned\n",
    "\n",
    "### Data Abstraction\n",
    "\n",
    "- Method used in coding to represent data in a useful form, by taking away aspects of data that aren't being used in the situation\n",
    "- Variables and lists are primary tools in data abstraction\n",
    "- Provides a separation between the abstract properties of a data type and the concrete details of its representation\n",
    "\n",
    "### Lists & Strings\n",
    "\n",
    "- List = ordered sequence of elements\n",
    "- Element = individual value in a list that is assigned to a unique index\n",
    "- Index = a way to reference the elements in a list or string using natural numbers; each element of a string is referenced by an index\n",
    "- String = ordered sequence of characters (Letters, numbers, special characters)\n",
    "\n",
    "**What are Lists?**\n",
    "\n",
    "- Allow for data abstraction\n",
    "- Bundle variables together\n",
    "- Store multiple elements\n",
    "- Allows multiple related items to be treated as a single value\n",
    "- Give one name to a set of memory cells\n",
    "- Can keep adding elements to it as needed\n",
    "- Can store elements as a single variable by using a list\n",
    "\n",
    "**3 Types of List Operations**\n",
    "\n",
    "1. Assigning values to a list at certain indices\n",
    "2. Creating an empty list and assigning it to a variable\n",
    "3. Assigning a copy of one list to another list (setting one list equal to another list)"
   ]
  },
  {
   "cell_type": "markdown",
   "metadata": {},
   "source": [
    "## Practice"
   ]
  },
  {
   "cell_type": "code",
   "execution_count": 7,
   "metadata": {},
   "outputs": [
    {
     "name": "stdout",
     "output_type": "stream",
     "text": [
      "['green', 'red', 'pink', 'purple', 'blue', 'brown']\n"
     ]
    }
   ],
   "source": [
    "colorList=[\"green\", \"red\", \"pink\", \"purple\", \"blue\", \"brown\"]\n",
    "\n",
    "print(str(colorList))"
   ]
  },
  {
   "cell_type": "markdown",
   "metadata": {},
   "source": [
    "# <mark> Homework/Hacks </mark>"
   ]
  },
  {
   "cell_type": "code",
   "execution_count": 27,
   "metadata": {},
   "outputs": [
    {
     "name": "stdout",
     "output_type": "stream",
     "text": [
      "General Knowledge Trivia\n",
      "Current number of questions: 5\n",
      "#1) What is the largest mammal?\n",
      "Correct!\n",
      "#2) What is the largest organ in the body?\n",
      "heart is incorrect \n",
      "#3) What galaxy do we live in?\n",
      "Correct!\n",
      "#4) Who founded Amazon?\n",
      "Correct!\n",
      "#5) What is the world's largest ocean?\n",
      "atlantic ocean is incorrect \n",
      "You scored 3/5\n",
      "Which is also, 60.0%\n"
     ]
    }
   ],
   "source": [
    "print(\"General Knowledge Trivia\")\n",
    "QandA = { \n",
    "    \"#1) What is the largest mammal?\": \"blue whale\", \n",
    "    \"#2) What is the largest organ in the body?\": \"skin\", \n",
    "    \"#3) What galaxy do we live in?\": \"milky way\", \n",
    "    \"#4) Who founded Amazon?\": \"jeff bezos\", \n",
    "    \"#5) What is the world's largest ocean?\": \"pacific ocean\", \n",
    "}\n",
    "\n",
    "def qandresp(question): # display question, return inputted response\n",
    "    print(question)\n",
    "    resp = input()\n",
    "    return resp\n",
    "\n",
    "correct = 0 \n",
    "\n",
    "# Setup\n",
    "print(\"Current number of questions: \" + str(len(QandA)))\n",
    "\n",
    "# iterate over each key\n",
    "for key in QandA:\n",
    "    rsp = qandresp(key) # save user's response to a variable rsp\n",
    "    rsp = rsp.lower() # answer is case sensitive, so match response to lowercase for answer key to work\n",
    "    if rsp == QandA[key]: # check if the response is equal to the answer in the dictionary\n",
    "        print(f\"Correct!\")\n",
    "        correct += 1\n",
    "    else:\n",
    "        print(f\"{rsp} is incorrect \") \n",
    "\n",
    "percent = str(round(correct/len(QandA), 2)*100) # calculate percentage\n",
    "\n",
    "print(\"You scored \" + str(correct) +\"/\" + str(len(QandA)))\n",
    "print(f\"Which is also, {percent}%\") # print score and percentage"
   ]
  }
 ],
 "metadata": {
  "kernelspec": {
   "display_name": "Python 3.8.2 64-bit",
   "language": "python",
   "name": "python3"
  },
  "language_info": {
   "codemirror_mode": {
    "name": "ipython",
    "version": 3
   },
   "file_extension": ".py",
   "mimetype": "text/x-python",
   "name": "python",
   "nbconvert_exporter": "python",
   "pygments_lexer": "ipython3",
   "version": "3.8.2"
  },
  "orig_nbformat": 4,
  "vscode": {
   "interpreter": {
    "hash": "31f2aee4e71d21fbe5cf8b01ff0e069b9275f58929596ceb00d14d90e3e16cd6"
   }
  }
 },
 "nbformat": 4,
 "nbformat_minor": 2
}
