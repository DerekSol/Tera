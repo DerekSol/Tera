{
 "cells": [
  {
   "cell_type": "markdown",
   "metadata": {},
   "source": [
    "# Student Teaching Portfolio\n",
    "- toc:true\n",
    "- branch: master\n",
    "- badges: true\n",
    "- comments: true\n",
    "- author: Derek Sol\n",
    "- categories: [APCSP Week 14-17]"
   ]
  },
  {
   "cell_type": "markdown",
   "metadata": {},
   "source": [
    "# Unit 3 Sections 1-2"
   ]
  },
  {
   "cell_type": "markdown",
   "metadata": {},
   "source": [
    "## <mark>Notes</mark>"
   ]
  },
  {
   "cell_type": "markdown",
   "metadata": {},
   "source": [
    "- Variable is an abstraction inside a program that can hold a value\n",
    "- organizes data by labeling it with descriptive name\n",
    "- consists of three parts: name, value, and type\n",
    "- When naming variables, keep it easy and simple to read, because it can be messy and confusing later on\n",
    "- types of data, integer is a number, text/string is a word, and Boolean is data that determines if something is true or false\n",
    "- assignment operator allows a program to change the value represented by a variable, used to assign values to variables\n",
    "- value stored in a variable will be the most recent value assigned\n",
    "\n",
    "### Data Abstraction\n",
    "\n",
    "- Method used in coding to represent data in a useful form, by taking away aspects of data that aren't being used in the situation\n",
    "- Variables and lists are primary tools in data abstraction\n",
    "- Provides a separation between the abstract properties of a data type and the concrete details of its representation\n",
    "\n",
    "### Lists & Strings\n",
    "\n",
    "- List = ordered sequence of elements\n",
    "- Element = individual value in a list that is assigned to a unique index\n",
    "- Index = a way to reference the elements in a list or string using natural numbers; each element of a string is referenced by an index\n",
    "- String = ordered sequence of characters (Letters, numbers, special characters)\n",
    "\n",
    "**What are Lists?**\n",
    "\n",
    "- Allow for data abstraction\n",
    "- Bundle variables together\n",
    "- Store multiple elements\n",
    "- Allows multiple related items to be treated as a single value\n",
    "- Give one name to a set of memory cells\n",
    "- Can keep adding elements to it as needed\n",
    "- Can store elements as a single variable by using a list\n",
    "\n",
    "**3 Types of List Operations**\n",
    "\n",
    "1. Assigning values to a list at certain indices\n",
    "2. Creating an empty list and assigning it to a variable\n",
    "3. Assigning a copy of one list to another list (setting one list equal to another list)"
   ]
  },
  {
   "cell_type": "markdown",
   "metadata": {},
   "source": [
    "## Practice"
   ]
  },
  {
   "cell_type": "code",
   "execution_count": 7,
   "metadata": {},
   "outputs": [
    {
     "name": "stdout",
     "output_type": "stream",
     "text": [
      "['green', 'red', 'pink', 'purple', 'blue', 'brown']\n"
     ]
    }
   ],
   "source": [
    "colorList=[\"green\", \"red\", \"pink\", \"purple\", \"blue\", \"brown\"]\n",
    "\n",
    "print(str(colorList))"
   ]
  },
  {
   "cell_type": "markdown",
   "metadata": {},
   "source": [
    "## <mark> Homework/Hacks </mark>"
   ]
  },
  {
   "cell_type": "code",
   "execution_count": 27,
   "metadata": {},
   "outputs": [
    {
     "name": "stdout",
     "output_type": "stream",
     "text": [
      "General Knowledge Trivia\n",
      "Current number of questions: 5\n",
      "#1) What is the largest mammal?\n",
      "Correct!\n",
      "#2) What is the largest organ in the body?\n",
      "heart is incorrect \n",
      "#3) What galaxy do we live in?\n",
      "Correct!\n",
      "#4) Who founded Amazon?\n",
      "Correct!\n",
      "#5) What is the world's largest ocean?\n",
      "atlantic ocean is incorrect \n",
      "You scored 3/5\n",
      "Which is also, 60.0%\n"
     ]
    }
   ],
   "source": [
    "print(\"General Knowledge Trivia\")\n",
    "QandA = { \n",
    "    \"#1) What is the largest mammal?\": \"blue whale\", \n",
    "    \"#2) What is the largest organ in the body?\": \"skin\", \n",
    "    \"#3) What galaxy do we live in?\": \"milky way\", \n",
    "    \"#4) Who founded Amazon?\": \"jeff bezos\", \n",
    "    \"#5) What is the world's largest ocean?\": \"pacific ocean\", \n",
    "}\n",
    "\n",
    "def qandresp(question): # display question, return inputted response\n",
    "    print(question)\n",
    "    resp = input()\n",
    "    return resp\n",
    "\n",
    "correct = 0 \n",
    "\n",
    "# Setup\n",
    "print(\"Current number of questions: \" + str(len(QandA)))\n",
    "\n",
    "# iterate over each key\n",
    "for key in QandA:\n",
    "    rsp = qandresp(key) # save user's response to a variable rsp\n",
    "    rsp = rsp.lower() # answer is case sensitive, so match response to lowercase for answer key to work\n",
    "    if rsp == QandA[key]: # check if the response is equal to the answer in the dictionary\n",
    "        print(f\"Correct!\")\n",
    "        correct += 1\n",
    "    else:\n",
    "        print(f\"{rsp} is incorrect \") \n",
    "\n",
    "percent = str(round(correct/len(QandA), 2)*100) # calculate percentage\n",
    "\n",
    "print(\"You scored \" + str(correct) +\"/\" + str(len(QandA)))\n",
    "print(f\"Which is also, {percent}%\") # print score and percentage"
   ]
  },
  {
   "cell_type": "markdown",
   "metadata": {},
   "source": [
    "# Unit 3 Sections 3-4"
   ]
  },
  {
   "cell_type": "markdown",
   "metadata": {},
   "source": [
    "## <mark>Notes</mark>\n"
   ]
  },
  {
   "cell_type": "markdown",
   "metadata": {},
   "source": [
    "- An algorithm has three components: sequencing, selection, and iteration\n",
    "- sequencing is algorithms doing tasks in the order of specification\n",
    "- selection is allowing is to choose two different outcomes based off a decision\n",
    "- iteration is that if a condition is true, then the code is repeated\n",
    "\n",
    "### Algorithm Can Be Represented In Two Ways\n",
    "- flowcharts, which uses shapes and arrows to represent steps of an algorithm\n",
    "- pseudocode, which is a blend of human language and coding format\n",
    "\n",
    "### Basic Operations\n",
    "- subtraction, represented by -\n",
    "- addition, represented by +\n",
    "- multiplication, represented by *\n",
    "- division, represented by /\n",
    "- getting the remainder, represented by MOD(% in python)\n",
    "\n",
    "### Different Ways Values Are Stored in Variables\n",
    "- numerical value stored in variable\n",
    "- value of another variable stored in variable\n",
    "- result of an operation stored in a variable\n",
    "- result of a procedure call stored in a variable\n",
    "\n",
    "### Strings\n",
    "What is a String?\n",
    "A String: A string is a collection of characters. What is a character as character can be anything from numbers, letters, spaces, special symbols, etc.\n",
    "\n",
    "A string is a collection of characters. What is a character as character can be anything from numbers, letters, spaces, special symbols, etc.\n",
    "\n",
    "Certain procedures may be used with strings and they vary from programming language to language Python examples\n",
    "\n",
    "len() to find the length of a string\n",
    "\n",
    "lower() to convert to lowercase\n",
    "\n",
    "etc. Pseudocode examples\n",
    "\n",
    "len() returns the length of a string\n",
    "\n",
    "concat() returns a string made up of the concatenated strings ex. concat(\"string1\", \"string2\") would return string1string2\n",
    "\n",
    "substring() returns the characters from the string beginning at the at the first position to the last so an example of this would be substring (\"abcdefghijk\", 2, 5) would print bcde (pseudocode starts at 1)\n"
   ]
  },
  {
   "cell_type": "markdown",
   "metadata": {},
   "source": [
    "## <mark> Homework/Hacks </mark>"
   ]
  },
  {
   "cell_type": "markdown",
   "metadata": {},
   "source": [
    "### Tracking Variables Hack"
   ]
  },
  {
   "cell_type": "code",
   "execution_count": 30,
   "metadata": {},
   "outputs": [],
   "source": [
    "Num1 = 50\n",
    "Num2 = Num1 % 9 + 15\n",
    "Num3 = Num2 / Num1 + ( Num2 * 2 )\n",
    "Num4 = Num3 + Num1 / 5 - 10\n",
    "Result = Num4 - Num2\n",
    "# Result is 20.4"
   ]
  },
  {
   "cell_type": "code",
   "execution_count": 31,
   "metadata": {},
   "outputs": [],
   "source": [
    "Num1 = 10\n",
    "Num2 = Num1 % 3 * 4\n",
    "Num1 = Num2\n",
    "Num3 = Num1 * 3\n",
    "Result = Num3 % 2\n",
    "# Result is 0"
   ]
  },
  {
   "cell_type": "code",
   "execution_count": 33,
   "metadata": {},
   "outputs": [
    {
     "name": "stdout",
     "output_type": "stream",
     "text": [
      "17\n"
     ]
    }
   ],
   "source": [
    "valueA = 4\n",
    "valueB = 90\n",
    "valueC = 17\n",
    "valueB = valueC - valueA\n",
    "valueA = valueA * 10\n",
    "if valueB > 10:\n",
    "    print(valueC)\n",
    "# Result is 17 "
   ]
  },
  {
   "cell_type": "code",
   "execution_count": 35,
   "metadata": {},
   "outputs": [
    {
     "name": "stdout",
     "output_type": "stream",
     "text": [
      "straightbrownshort\n"
     ]
    }
   ],
   "source": [
    "type = \"curly\"\n",
    "color = \"brown\"\n",
    "length = \"short\"\n",
    "type = \"straight\"\n",
    "hair = type + color + length\n",
    "print(hair)\n",
    "# Result is straightbrownshort"
   ]
  },
  {
   "cell_type": "markdown",
   "metadata": {},
   "source": [
    "### String Hacks"
   ]
  },
  {
   "cell_type": "markdown",
   "metadata": {},
   "source": [
    "##### Problem 1"
   ]
  },
  {
   "cell_type": "code",
   "execution_count": 54,
   "metadata": {},
   "outputs": [
    {
     "name": "stdout",
     "output_type": "stream",
     "text": [
      "Mr.Mort is Very handsome.\n"
     ]
    }
   ],
   "source": [
    "Noun = \"Mr.Mortenson\"\n",
    "Adjective = \"handsome\"\n",
    "Adjective2 = \"Very\"\n",
    "Verb = \"is\"\n",
    "abrev = Noun[:7]\n",
    "yoda = abrev + \" \" + Verb + \" \" + Adjective2 + \" \" + Adjective + \".\"\n",
    "print(yoda)"
   ]
  },
  {
   "cell_type": "markdown",
   "metadata": {},
   "source": [
    "##### Problem 2"
   ]
  },
  {
   "cell_type": "code",
   "execution_count": 55,
   "metadata": {},
   "outputs": [
    {
     "name": "stdout",
     "output_type": "stream",
     "text": [
      "choclate vote 225 rasin vote 4.0\n"
     ]
    }
   ],
   "source": [
    "cookie = \"choclate\"\n",
    "cookie2 = \"rasin\"\n",
    "len1 = len(cookie) / 2\n",
    "len2 = len(cookie2) * 45\n",
    "vote1 = (str(cookie) + \" vote \" + str(len2))\n",
    "vote2 = (str(cookie2) + \" vote \" + str(len1))\n",
    "votes = (str(vote1) + \" \" + str(vote2))\n",
    "print(votes)"
   ]
  },
  {
   "cell_type": "markdown",
   "metadata": {},
   "source": [
    "# Unit 3 Sections 8-10"
   ]
  },
  {
   "cell_type": "markdown",
   "metadata": {},
   "source": [
    "## <mark>Notes</mark>\n",
    "Lists: a sequence of variables\n",
    "- we can use lists to store multiple items into one variable\n",
    "- used to store collections of data\n",
    "- changeable, ordered, allow duplicates\n",
    "\n",
    "There is list, then four total collection data types in Python\n",
    "\n",
    "- Tuple: collection that is ordered, unchangeable, allows duplicates\n",
    "- Set: collection that is unordered, unchangeable, doesn't allow duplicates\n",
    "- Dictionary: collection that is ordered, changeable, doesn't allow duplicates\n",
    "\n",
    "More Terms\n",
    "\n",
    "- Index: a term used to sort data in order to reference to an element in a list (allows for duplicates)\n",
    "- Elements: the values in the list assigned to an index\n",
    "\n",
    "Methods\n",
    "\n",
    "| Method | Definition | Example |\n",
    "|-|-|-|\n",
    "| append() | adds element to the end of the list | fruits.append(\"watermelon\") |\n",
    "| index() | returns the index of the first element with the specified value | fruits.index(\"apple\") |\n",
    "| insert() | adds element at given position | fruits.insert(1, \"watermelon\")|\n",
    "| remove() | removes the first item with the specified value | fruits.remove(\"strawberry\") |\n",
    "| reverse() | reverses the list order | fruits.reverse() |\n",
    "| sort() | sorts the list | fruits.sort() |\n",
    "| count() | returns the amount of elements with the specified value | fruits.count(\"apple\") |\n",
    "| copy() | returns a copy of the list | fruits.copy() |\n",
    "| clear() | removes the elements from the list | fruits.clear() |\n",
    "\n",
    "Iteration\n",
    "- Iteration is the repetition of a process or utterance applied to the result or taken from a previous statement.\n",
    "- There's a lot of types of iteration though, what to use? How do we apply iteration to lists? \n",
    "- Some methods include using a \"for loop\", using a \"for loop and range()\", using a \"while loop\", and using comprehension \n",
    "- here are 2 types of iteration: definite and indefinite. Definite iteration clarifies how many times the loop is going to run, while indefinite specifies a condition that must be met\n",
    "\n",
    "Else, elif, break\n",
    "- Else: when the condition does not meet, do statement()\n",
    "- Elif: when the condition does not meet, but meets another condition, do statement()\n",
    "- Break: stop the loop"
   ]
  },
  {
   "cell_type": "markdown",
   "metadata": {},
   "source": [
    "## <mark>Homework</mark>\n"
   ]
  },
  {
   "cell_type": "markdown",
   "metadata": {},
   "source": [
    "### HW Iteration"
   ]
  },
  {
   "cell_type": "code",
   "execution_count": 49,
   "metadata": {},
   "outputs": [
    {
     "name": "stdout",
     "output_type": "stream",
     "text": [
      "derek ->\n",
      "delta\n",
      "echo\n",
      "romeo\n",
      "echo\n",
      "kilo\n"
     ]
    }
   ],
   "source": [
    "words = [\"alfa\", \"bravo\", \"charlie\", \"delta\", \"echo\", \"foxtrot\", \"golf\", \"hotel\", \"india\", \"juliett\", \"kilo\",\n",
    "\"lima\", \"mike\", \"november\", \"oscar\", \"papa\", \"quebec\", \"romeo\", \"sierra\", \"tango\", \"uniform\", \"victor\", \"whiskey\", \"xray\", \"yankee\", \"zulu\"]\n",
    "\n",
    "inp = input().lower()\n",
    "print(inp + \" ->\")\n",
    "for i in range(len(inp)):\n",
    "    for j in range(len(words)):\n",
    "        if inp[i] == words [j][0]:\n",
    "            print(words[j])"
   ]
  },
  {
   "cell_type": "markdown",
   "metadata": {},
   "source": [
    "### Other way to print matrix "
   ]
  },
  {
   "cell_type": "code",
   "execution_count": 3,
   "metadata": {},
   "outputs": [],
   "source": [
    "keypad =   [[1, 2, 3],\n",
    "            [4, 5, 6],\n",
    "            [7, 8, 9],\n",
    "            [\" \", 0, \" \"]]"
   ]
  },
  {
   "cell_type": "code",
   "execution_count": 4,
   "metadata": {},
   "outputs": [
    {
     "name": "stdout",
     "output_type": "stream",
     "text": [
      "1 2 3\n",
      "4 5 6\n",
      "7 8 9\n",
      "  0  \n"
     ]
    }
   ],
   "source": [
    "def print_matrix3(matrix):\n",
    "    for i in range(len(keypad)):\n",
    "        print(*keypad[i])\n",
    "print_matrix3(keypad)"
   ]
  },
  {
   "cell_type": "markdown",
   "metadata": {},
   "source": [
    "### Birth Month HW"
   ]
  },
  {
   "cell_type": "code",
   "execution_count": 53,
   "metadata": {},
   "outputs": [
    {
     "name": "stdout",
     "output_type": "stream",
     "text": [
      "1/17/2005\n",
      "17\n"
     ]
    }
   ],
   "source": [
    "keyboard = [[\"`\", 1, 2, 3, 4, 5, 6, 7, 8, 9, 0, \"-\", \"=\"],\n",
    "            [\"Q\", \"W\", \"E\", \"R\", \"T\", \"Y\", \"U\", \"I\", \"O\", \"P\", \"[\", \"]\"],\n",
    "            [\"A\", \"S\", \"D\", \"F\", \"G\", \"H\", \"J\", \"K\", \"L\", \";\", \"'\"],\n",
    "            [\"Z\", \"X\", \"C\", \"V\", \"B\", \"N\", \"M\", \",\", \".\", \"/\"]]\n",
    "\n",
    "      \n",
    "print(str(keyboard[0][1]) + str(keyboard[3][9]) + str(keyboard[0][1]) + str(keyboard[0][7]) + str(keyboard[3][9]) + str(keyboard[0][2]) + str(keyboard[0][10]) + str(keyboard[0][10]) + str(keyboard[0][5]) + \"\\n\" + str(keyboard[0][1]) + str(keyboard[0][7]))"
   ]
  }
 ],
 "metadata": {
  "kernelspec": {
   "display_name": "Python 3.8.2 64-bit",
   "language": "python",
   "name": "python3"
  },
  "language_info": {
   "codemirror_mode": {
    "name": "ipython",
    "version": 3
   },
   "file_extension": ".py",
   "mimetype": "text/x-python",
   "name": "python",
   "nbconvert_exporter": "python",
   "pygments_lexer": "ipython3",
   "version": "3.8.2"
  },
  "orig_nbformat": 4,
  "vscode": {
   "interpreter": {
    "hash": "31f2aee4e71d21fbe5cf8b01ff0e069b9275f58929596ceb00d14d90e3e16cd6"
   }
  }
 },
 "nbformat": 4,
 "nbformat_minor": 2
}
