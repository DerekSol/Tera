{
 "cells": [
  {
   "attachments": {},
   "cell_type": "markdown",
   "metadata": {},
   "source": [
    "# Unit 3 Sections 12 and 13 lesson\n",
    "> Developing and Writing Procedures Lesson\n",
    "\n",
    "- title: Unit 3 Sections 12-13\n",
    "- toc: true\n",
    "- badges: false\n",
    "- categories: [lessons]"
   ]
  },
  {
   "attachments": {},
   "cell_type": "markdown",
   "metadata": {},
   "source": [
    "## Calling Procedures\n",
    "\n",
    "Slide 1:\n",
    "- A <u>procedure</u> is a named group of programming instructions that may have parameters and return values.\n",
    "- Procedures are referred to by different names, such as <u>method</u> or <u>function</u>, depending on the programing language.\n",
    "- Parameters are input values of a procedure. <u>Arguments</u> specify the values of the parameters when procedure is called.\n",
    "- A procedure call interrupts the <u>sequential</u> execution of statements causing the program to execute the statements within the procedure before continuing. One the last statement in the procedure (or a return statement) has executed, flow or control is returned to the point immediately following where the procedure was <u>called</u>.\n",
    "\n",
    "Slide 2:\n",
    "- When calling procedures, it's important to take notice to whether it returns data, or a block of <u>statements</u>.\n",
    "- If the procedure just returns a block of statements, you call the procedure by referring to the procedure name, and <u>inputting</u> the arguments.\n",
    "- If the procedure returns some sort of data like a <u>boolean</u> or <u>value</u>, then you will assign that value to a variable\n",
    "\n",
    "Slide 3:\n",
    "\n",
    "- Assume the Temperature outside is Fahrenheit. \n",
    "- The procedure <u>convertFahrenheit</u> is intended to convert from Fahrenheit to Celsius.\n",
    "- Convert the following <u>psuedocode</u> to python\n",
    "\n"
   ]
  },
  {
   "cell_type": "code",
   "execution_count": 5,
   "metadata": {},
   "outputs": [
    {
     "name": "stdout",
     "output_type": "stream",
     "text": [
      "-15.0\n"
     ]
    }
   ],
   "source": [
    "def convertFahrenheit(temperature):\n",
    "    celsius = temperature -32\n",
    "    celsius = celsius * 5/9\n",
    "    return celsius\n",
    "\n",
    "\n",
    "outsideTemp = input(\"What is the temperature outside?\")\n",
    "outsideTemp = convertFahrenheit(int(outsideTemp))\n",
    "print(outsideTemp)"
   ]
  },
  {
   "attachments": {},
   "cell_type": "markdown",
   "metadata": {},
   "source": [
    "## Developing Procedures\n",
    "\n",
    "Slide 8: \n",
    "\n",
    "Picking a <u>descriptive</u> name is important in case you revisit the code later on (separate words with capitals)\n",
    "There are 2 different types of procedures- ones that return a value and those that simply execute a block of statements\n",
    "Steps of developing procedure: picking a useful name, thinking of parameters (what data does the procedure need to know), making a flowchart or writing procedure in pseudocode, and actually developing the procedure.\n",
    "\n",
    "Slide 9: \n",
    "\n",
    "In this example, a teacher is writing a program that will replace the grade on a previous quiz if the new grade is better than the previous.\n",
    "\n",
    "- What would be a good name for this procedure?\n",
    "- What parameters do we need for this procedure?\n",
    "- Try writing this procedure out in python based on the given pseudocode\n",
    "\n"
   ]
  },
  {
   "cell_type": "code",
   "execution_count": 11,
   "metadata": {},
   "outputs": [
    {
     "name": "stdout",
     "output_type": "stream",
     "text": [
      "your new grade is 87.5%\n"
     ]
    }
   ],
   "source": [
    "#input any number 25 and below to have it output \"else,\" input any number 26 and above to have it output \"if\"\n",
    "quizGrade = 25\n",
    "def currentGrade(currentPoints):    \n",
    "    currentGrade = currentPoints / 40\n",
    "    currentGrade = currentGrade * 100\n",
    "    return currentGrade\n",
    "\n",
    "newPoints = int(input(\"What did you get out of 40?\"))\n",
    "newPercent = (currentGrade(int(newPoints)))\n",
    "\n",
    "if (newPoints > quizGrade):\n",
    "    newquizGrade = newPercent\n",
    "    print(\"your new grade is \" + str(newquizGrade) + \"%\")\n",
    "else:\n",
    "    print(\"your grade is still \" + str(quizGrade) + \"/40\")\n",
    "    \n",
    "    "
   ]
  },
  {
   "attachments": {},
   "cell_type": "markdown",
   "metadata": {},
   "source": [
    "## Procedural Abstraction\n",
    "\n",
    "- One type of abstraction is <u>procedural</u> abstraction which provides a name for a process and allows a procedure to be used only knowing what it does and not how it does it\n",
    "- This is very helpful in managing <u>complexity</u> in a program\n",
    "- Subdivision of a program into separate subprograms is called <u>modularity</u>\n",
    "- A procedural abstraction may <u>extract</u> shared features to generalize functionality instead of duplicating code. This allows for program reuse, which helps manage complexity\n",
    "- When a pre-written procedure is called, you don’t necessarily need to know the details of this, just what it does and how to call it\n",
    "- Simply, procedural abstraction is naming and calling a <u>prewritten</u> procedure\n",
    "- Making sure to include the right arguments so the <u>procedure</u> can do what its supposed to do is crucial"
   ]
  },
  {
   "cell_type": "markdown",
   "metadata": {},
   "source": [
    "## Complexity Example\n",
    "\n",
    "One of the biggest advantages of procedural abstraction is managing complexity.\n",
    "\n",
    "Think about the process of simplifying the code?\n",
    "What do you think the advantage of the code segment on the left is?\n",
    "\n",
    "|Code Segment 1|Code Segment 2|\n",
    "|--------------|--------------|\n",
    "|ROTATE_LEFT()|detourLeft()|\n",
    "MOVE_FORWARD()|turnCorner()| \n",
    "ROTATE_RIGHT  |MOVE_FORWARD()| \n",
    "MOVE_FORWARD()|MOVE_FORWARD()|\n",
    "MOVE_FORWARD()\n",
    "ROTATE_RIGHT()\n",
    "MOVE_FORWARD()\n",
    "ROTATE_LEFT()\n",
    "MOVE_FORWARD()\n",
    "ROTATE_LEFT()\n",
    "MOVE_FORWARD()\n",
    "MOVE_FORWARD\n",
    "MOVE_FORWARD()"
   ]
  },
  {
   "attachments": {},
   "cell_type": "markdown",
   "metadata": {},
   "source": [
    "## Hacks\n",
    "\n",
    "- Write a python procedure about something which can help you in school, for example the teacher’s function we spoke about earlier.\n",
    "- Points will be awarded based on creativity and functionality\n",
    "- 0.1 points will be deducted for late submissions\n",
    "- Submit the notes with all blanks filled in (scored out of 0.5 points) and the python procedure (scored out of 0.5 points) by Monday 12/12 at 11:59 PM.\n"
   ]
  },
  {
   "cell_type": "code",
   "execution_count": 29,
   "metadata": {},
   "outputs": [
    {
     "name": "stdout",
     "output_type": "stream",
     "text": [
      "Roll Call Number:  26\n",
      "Name is:  Derek Sol\n",
      "Grade in subject 1:  81\n",
      "Grade in subject 2:  84\n",
      "Grade in subject 3:  93\n",
      "Average Grade of:  86.0\n",
      "your a B Student\n"
     ]
    }
   ],
   "source": [
    "#This can be used by teachers to know and store data about their students, still school related\n",
    "class Student:\n",
    "    marks = []\n",
    "    def getData(self, rn, name, m1, m2, m3):\n",
    "        Student.rn = rn\n",
    "        Student.name = name\n",
    "        Student.marks.append(m1)\n",
    "        Student.marks.append(m2)\n",
    "        Student.marks.append(m3)\n",
    "    \n",
    "    def displayData(self):\n",
    "        print(\"Roll Call Number: \", Student.rn)\n",
    "        print(\"Name is: \", Student.name)\n",
    "        print(\"Grade in subject 1: \", Student.marks[0])\n",
    "        print(\"Grade in subject 2: \", Student.marks[1])\n",
    "        print(\"Grade in subject 3: \", Student.marks[2])\n",
    "        print(\"Average Grade of: \", self.average())\n",
    "        GradeAverage = self.average()\n",
    "        if (GradeAverage > 90):\n",
    "            print(\"your an A student\")\n",
    "        elif (GradeAverage > 80):\n",
    "            print(\"your a B Student\")\n",
    "        else:\n",
    "            print(\"do better\")\n",
    "    \n",
    "    def total(self):\n",
    "        m = Student.marks\n",
    "        return(Student.marks[0] + Student.marks[1] +Student.marks[2])\n",
    "    \n",
    "    def average(self):\n",
    "        return ((Student.marks[0] + Student.marks[1] +Student.marks[2])/3)\n",
    "\n",
    "r = int (input(\"Enter the roll call number: \"))\n",
    "name = input(\"Enter the name: \")\n",
    "m1 = int (input(\"Enter the Grade in first subject: \"))\n",
    "m2 = int (input(\"Enter the Grade in second subject: \"))\n",
    "m3 = int (input(\"Enter the Grade in third subject: \"))\n",
    "\n",
    "s1 = Student()\n",
    "s1.getData(r, name, m1, m2, m3)\n",
    "s1.displayData()\n"
   ]
  }
 ],
 "metadata": {
  "kernelspec": {
   "display_name": "Python 3.8.10 64-bit",
   "language": "python",
   "name": "python3"
  },
  "language_info": {
   "codemirror_mode": {
    "name": "ipython",
    "version": 3
   },
   "file_extension": ".py",
   "mimetype": "text/x-python",
   "name": "python",
   "nbconvert_exporter": "python",
   "pygments_lexer": "ipython3",
   "version": "3.8.2"
  },
  "orig_nbformat": 4,
  "vscode": {
   "interpreter": {
    "hash": "31f2aee4e71d21fbe5cf8b01ff0e069b9275f58929596ceb00d14d90e3e16cd6"
   }
  }
 },
 "nbformat": 4,
 "nbformat_minor": 2
}
