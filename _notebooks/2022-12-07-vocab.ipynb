{
 "cells": [
  {
   "cell_type": "markdown",
   "metadata": {},
   "source": [
    "# Units 2/3 Vocab \n",
    "\n"
   ]
  },
  {
   "cell_type": "markdown",
   "metadata": {},
   "source": [
    "# <mark> Unit 2 Binary/Data Terms</mark>"
   ]
  },
  {
   "cell_type": "markdown",
   "metadata": {},
   "source": [
    "## Bits\n",
    "A bit is a unit of information that can have only two values: 0 or 1. It is the smallest unit of information that can be stored or processed by a computer. Bits are typically used to represent binary data, which is data that is encoded using only two possible values. In Python you can use \"int\" data type to represent binary data as a sequence of bits."
   ]
  },
  {
   "cell_type": "code",
   "execution_count": 1,
   "metadata": {},
   "outputs": [],
   "source": [
    "binary_number = 0b1010\n",
    "# represents 1010 as an integer"
   ]
  },
  {
   "cell_type": "markdown",
   "metadata": {},
   "source": [
    "## Bytes\n",
    "A byte is a group of 8 bits. It is a unit of information that can hold a single character in a computer's memory.\n",
    "\n"
   ]
  },
  {
   "cell_type": "markdown",
   "metadata": {},
   "source": [
    "## Hexadecimals/Nibbles\n",
    "- a hexadecimal is a base-16 number represented using the symbols 0-9 and A-F. Hexadecimals are often used to represent colors in web development, as they can be more concise and easier to read than longer binary numbers.\n",
    "- A nibble is a unit of data that is half of a byte (eight bits). It is often represented using a hexadecimal digit, which can represent a value from 0 to 15 in decimal."
   ]
  },
  {
   "cell_type": "markdown",
   "metadata": {},
   "source": [
    "## Unsigned Integer\n",
    "An unsigned integer is a type of integer that can only represent non-negative (greater than or equal to zero) whole numbers. It is called \"unsigned\" because it does not have a sign bit to indicate whether the number is positive or negative. This means that an unsigned integer can represent a larger range of values than a signed integer, which uses a sign bit to indicate the sign of the number."
   ]
  },
  {
   "cell_type": "markdown",
   "metadata": {},
   "source": [
    "## Signed Integer\n",
    "An integer is a whole number that can be either positive or negative. It has no decimal point and can store very large numbers. By default, Python integers are stored as signed integers, which means they can represent both positive and negative numbers."
   ]
  },
  {
   "cell_type": "code",
   "execution_count": null,
   "metadata": {},
   "outputs": [],
   "source": [
    "10\n",
    "-10\n",
    "12345678901234567890\n",
    "-9876543210987654321\n",
    "# All these numbers a valid integers in Python"
   ]
  },
  {
   "cell_type": "markdown",
   "metadata": {},
   "source": [
    "## Floating Point\n",
    "A floating point number is a number with a decimal point. It is used to represent real numbers, such as 3.14159 or -0.01.\n",
    "\n",
    "For example, the following are all valid floating point numbers in Python:"
   ]
  },
  {
   "cell_type": "code",
   "execution_count": null,
   "metadata": {},
   "outputs": [],
   "source": [
    "3.14\n",
    "-10.6\n",
    "0.0\n",
    "12345.6789"
   ]
  },
  {
   "cell_type": "markdown",
   "metadata": {},
   "source": [
    "## Boolean\n",
    "A boolean is a data type that represents a truth value. It can have two values: True or False.\n",
    "Booleans are often used in conditional statements to control the flow of a program"
   ]
  },
  {
   "cell_type": "code",
   "execution_count": null,
   "metadata": {},
   "outputs": [],
   "source": [
    "x = True\n",
    "if x:\n",
    "    print(\"x is True\")\n",
    "else:\n",
    "    print(\"x is False\")"
   ]
  },
  {
   "cell_type": "markdown",
   "metadata": {},
   "source": [
    "## ASCII\n",
    "ASCII (American Standard Code for Information Interchange) is a character encoding standard that represents text as a series of numbers. It defines a mapping between numerical values and characters, with each character being represented by a unique number between 0 and 127."
   ]
  },
  {
   "cell_type": "markdown",
   "metadata": {},
   "source": [
    "## Unicode\n",
    "Unicode is a character encoding standard that represents text as a series of numbers. It is a widely used standard that supports a much larger range of characters than ASCII, including non-Latin scripts and emojis.\n",
    "\n",
    "In Python, Unicode characters are represented using the str data type, which is a sequence of Unicode code points."
   ]
  },
  {
   "cell_type": "markdown",
   "metadata": {},
   "source": [
    "## RGB\n",
    "A problem solving approach (algorithm) to find a satisfactory solution where finding an optimal or exact solution is impractical or impossible."
   ]
  },
  {
   "cell_type": "markdown",
   "metadata": {},
   "source": [
    "## Lossy\n",
    "In the context of digital media, \"lossy\" refers to a type of data compression that reduces the quality of the data in order to save space. Lossy compression algorithms remove data that is not perceived by the human eye or ear, resulting in a smaller file size but lower quality. In Python, you can use various libraries and modules to work with lossy data formats. For "
   ]
  },
  {
   "cell_type": "code",
   "execution_count": null,
   "metadata": {},
   "outputs": [],
   "source": [
    "from PIL import Image\n",
    "\n",
    "# Open a JPEG image and save it as a PNG image\n",
    "image = Image.open('image.jpg')\n",
    "image.save('image.png')"
   ]
  },
  {
   "cell_type": "markdown",
   "metadata": {},
   "source": [
    "## Lossless\n",
    "Lossless compression algorithms remove redundant or unnecessary data from the file, but do not remove any data that is needed to accurately represent the original data. Lossless compression is commonly used for text, data, and other types of files where it is important to preserve the accuracy of the data. For example, the ZIP file format and the PDF document format are both lossless formats that are widely used for storing and distributing digital documents."
   ]
  },
  {
   "cell_type": "code",
   "execution_count": null,
   "metadata": {},
   "outputs": [],
   "source": [
    "import zipfile\n",
    "\n",
    "# Create a ZIP file\n",
    "with zipfile.ZipFile('documents.zip', 'w') as z:\n",
    "    z.write('document1.txt')\n",
    "    z.write('document2.txt')\n",
    "\n",
    "# Extract the contents of the ZIP file\n",
    "with zipfile.ZipFile('documents.zip', 'r') as z:\n",
    "    z.extractall()"
   ]
  },
  {
   "cell_type": "markdown",
   "metadata": {},
   "source": [
    "# <mark> Unit 3 Algorithm/Programming Terms</mark>"
   ]
  },
  {
   "cell_type": "markdown",
   "metadata": {},
   "source": [
    "## Variables\n",
    "A variable is a named location in memory that stores a value or reference to a value. When you create a variable, you can specify the value that you want to store in it. You can then use the variable to refer to the value throughout your program.\n",
    "\n",
    "For example, you might create a variable called name and store your name in it:"
   ]
  },
  {
   "cell_type": "code",
   "execution_count": null,
   "metadata": {},
   "outputs": [],
   "source": [
    "name = \"Derek\""
   ]
  },
  {
   "cell_type": "markdown",
   "metadata": {},
   "source": [
    "## Data Types\n",
    "In Python, data types are used to define the type of a value that can be stored in a variable.\n",
    "\n",
    "ex: \"int\", \"float\", \"str\", etc."
   ]
  },
  {
   "cell_type": "markdown",
   "metadata": {},
   "source": [
    "## Assignment Operators\n",
    "assignment operators are used to assign a value to a variable. The most basic assignment operator is the = operator, which assigns the value on the right side of the operator to the variable on the left side."
   ]
  },
  {
   "cell_type": "code",
   "execution_count": null,
   "metadata": {},
   "outputs": [],
   "source": [
    "x = 10\n",
    "y = 15"
   ]
  },
  {
   "cell_type": "markdown",
   "metadata": {},
   "source": [
    "## Lists\n",
    "A list is a collection of items that are ordered and changeable. Lists are written with square brackets and the items are separated by commas."
   ]
  },
  {
   "cell_type": "code",
   "execution_count": null,
   "metadata": {},
   "outputs": [],
   "source": [
    "superheroes = [    \"Superman\",    \"Batman\",    \"Wonder Woman\",    \"The Flash\",    \"Green Lantern\",    \"Aquaman\",    \"Martian Manhunter\",    \"Cyborg\",    \"Black Canary\",    \"Captain Marvel\"]"
   ]
  },
  {
   "cell_type": "markdown",
   "metadata": {},
   "source": [
    "## 2D Lists\n",
    "A 2D list is a list of lists. It is a data structure that allows you to store a collection of items, where each item is a list itself."
   ]
  },
  {
   "cell_type": "code",
   "execution_count": null,
   "metadata": {},
   "outputs": [],
   "source": [
    "matrix = [\n",
    "    [1, 2, 3],\n",
    "    [4, 5, 6],\n",
    "    [7, 8, 9]\n",
    "]"
   ]
  },
  {
   "cell_type": "markdown",
   "metadata": {},
   "source": [
    "## Dictionaries\n",
    " A dictionary is a collection of key-value pairs. It is an unordered data structure that allows you to store and retrieve data using keys rather than indices."
   ]
  },
  {
   "cell_type": "code",
   "execution_count": null,
   "metadata": {},
   "outputs": [],
   "source": [
    "contacts = {\n",
    "    \"Alice\": \"555-1234\",\n",
    "    \"Bob\": \"555-5678\",\n",
    "    \"Eve\": \"555-9101\"\n",
    "}"
   ]
  },
  {
   "cell_type": "markdown",
   "metadata": {},
   "source": [
    "## Class\n",
    "a class is a blueprint for creating objects. It defines the properties and behaviors that the objects will have."
   ]
  },
  {
   "cell_type": "code",
   "execution_count": null,
   "metadata": {},
   "outputs": [],
   "source": [
    "class Dog:\n",
    "    def __init__(self, name, breed, age):\n",
    "        self.name = name\n",
    "        self.breed = breed\n",
    "        self.age = age"
   ]
  },
  {
   "cell_type": "markdown",
   "metadata": {},
   "source": [
    "## Algorithms, Sequences, Selection, Iteration\n",
    "Algorithms: a list set of instructions, used to solve problems or perform tasks.\n",
    "\n",
    "Sequence: algorithms do tasks in the order of specification.\n",
    "\n",
    "Selection: helps choose two different outcomes based off a decision.\n",
    "\n",
    "Iteration: if a condition is true, then the code can repeat."
   ]
  },
  {
   "cell_type": "markdown",
   "metadata": {},
   "source": [
    "## Expressions\n",
    "An expression is a piece of code that returns a value. Expressions are made up of variables, operators, and function calls, and they can be used in a variety of contexts, such as assignments, function calls, and control structures."
   ]
  },
  {
   "cell_type": "markdown",
   "metadata": {},
   "source": [
    "## Comparison Operators\n",
    "Comparison operators are used to compare the values of two expressions. They return a Boolean value indicating whether the comparison is true or false.\n",
    "\n",
    "ex: 'x == y': returns True if x is equal to y, and False otherwise."
   ]
  },
  {
   "cell_type": "markdown",
   "metadata": {},
   "source": [
    "## Boolean Expressions and Selection\n",
    "a Boolean expression is an expression that evaluates to either True or False. Boolean expressions are often used in control structures, such as if statements and while loops, to determine whether a block of code should be executed.\n",
    "\n",
    "Here is an example of an if statement using a Boolean expression in Python:"
   ]
  },
  {
   "cell_type": "code",
   "execution_count": 11,
   "metadata": {},
   "outputs": [
    {
     "name": "stdout",
     "output_type": "stream",
     "text": [
      "x is positive\n"
     ]
    }
   ],
   "source": [
    "x = 5\n",
    "if x > 0:\n",
    "    print(\"x is positive\")"
   ]
  },
  {
   "cell_type": "markdown",
   "metadata": {},
   "source": [
    "## Boolean Expressions and Iteration\n",
    "You can use Boolean expressions in iteration structures, such as for loops and while loops, to control the flow of the loop.\n",
    "\n",
    "Here is an example of a while loop using a Boolean expression in Python:"
   ]
  },
  {
   "cell_type": "code",
   "execution_count": 12,
   "metadata": {},
   "outputs": [
    {
     "name": "stdout",
     "output_type": "stream",
     "text": [
      "5\n",
      "4\n",
      "3\n",
      "2\n",
      "1\n"
     ]
    }
   ],
   "source": [
    "x = 5\n",
    "while x > 0:\n",
    "    print(x)\n",
    "    x -= 1"
   ]
  },
  {
   "cell_type": "markdown",
   "metadata": {},
   "source": [
    "## Truth Tables\n",
    "A truth table is a way to represent the relationship between different logical statements or expressions. It lists all of the possible combinations of input values for the statements or expressions, and shows the corresponding output values that result.\n",
    "\n",
    "have two values\n",
    "\n",
    "0 = off, false\n",
    "\n",
    "1 = on, true\n",
    "\n",
    "Examples\n",
    "\n",
    "0 and 0 = false. And operator means both needs to be true.\n",
    "\n",
    "0 or 1 = true. Either or.\n",
    "\n",
    "Use this in conditionals (selection).\n",
    "\n",
    "XOR = exclusive or.\n",
    "\n",
    "Or = similar to true or false. -\n",
    "\n",
    "Ex: A is true, B is false"
   ]
  },
  {
   "cell_type": "markdown",
   "metadata": {},
   "source": [
    "## Characters\n",
    "A character is a single Unicode character, which is a unit of text that represents a letter, number, symbol, or other type of character. Unicode is a standardized character encoding system that represents characters from many different languages and scripts."
   ]
  },
  {
   "cell_type": "markdown",
   "metadata": {},
   "source": [
    "## Strings\n",
    "A string is a sequence of characters. Strings are used to represent text and are often used to store and manipulate data."
   ]
  },
  {
   "cell_type": "code",
   "execution_count": 13,
   "metadata": {},
   "outputs": [
    {
     "name": "stdout",
     "output_type": "stream",
     "text": [
      "H\n",
      "l\n"
     ]
    }
   ],
   "source": [
    "string1 = 'Hello'\n",
    "print(string1[0])  # Output: 'H'\n",
    "print(string1[2])  # Output: 'l'"
   ]
  },
  {
   "cell_type": "markdown",
   "metadata": {},
   "source": [
    "## Length\n",
    "The len() function returns the length of an object. For example, if you have a string, a list, or a tuple, you can use len() to determine the number of elements it contains.\n",
    "\n",
    "Here's an example of using len() with a string:"
   ]
  },
  {
   "cell_type": "code",
   "execution_count": 14,
   "metadata": {},
   "outputs": [
    {
     "data": {
      "text/plain": [
       "5"
      ]
     },
     "execution_count": 14,
     "metadata": {},
     "output_type": "execute_result"
    }
   ],
   "source": [
    "lst = [1, 2, 3, 4, 5]\n",
    "len(lst)"
   ]
  },
  {
   "cell_type": "markdown",
   "metadata": {},
   "source": [
    "## Concatenation\n",
    "Concatenation refers to the operation of joining two or more strings together to create a single string. This can be done using the + operator, which is used to add two or more strings together."
   ]
  },
  {
   "cell_type": "code",
   "execution_count": 17,
   "metadata": {},
   "outputs": [
    {
     "name": "stdout",
     "output_type": "stream",
     "text": [
      "Hello world\n"
     ]
    }
   ],
   "source": [
    " s1 = 'Hello'\n",
    " s2 = 'world'\n",
    " s3 = s1 + ' ' + s2\n",
    " print(s3)\n",
    "\n"
   ]
  },
  {
   "cell_type": "markdown",
   "metadata": {},
   "source": [
    "## Upper\n",
    "Used to check if the argument contains any uppercase characters."
   ]
  },
  {
   "cell_type": "markdown",
   "metadata": {},
   "source": [
    "## Lower\n",
    "Returns the lowercase string from the given string."
   ]
  },
  {
   "cell_type": "markdown",
   "metadata": {},
   "source": [
    "## Traversing Strings\n",
    "The process of going through a String one character at a time, often using loops.\n",
    "\n"
   ]
  },
  {
   "cell_type": "markdown",
   "metadata": {},
   "source": [
    "## Python If, Elif, Else Conditionals\n",
    "If: statement executes a piece of code when one statement is false and the following statement is true.\n",
    "\n",
    "Elif: first if statement isn't true, but want to check for another condition.\n",
    "\n",
    "Else: executes if \"if\" isn't true."
   ]
  },
  {
   "cell_type": "code",
   "execution_count": 7,
   "metadata": {},
   "outputs": [
    {
     "name": "stdout",
     "output_type": "stream",
     "text": [
      "Derek has a salary of: 130k and has experience: True\n"
     ]
    }
   ],
   "source": [
    "hours = 30\n",
    "sal = \"\"\n",
    "experienced = True\n",
    "# using operators to determine the salary\n",
    "if (hours >= 10):\n",
    "    sal = \"130k\"\n",
    "elif (hours >= 8):\n",
    "    sal = \"90k\"\n",
    "else:\n",
    "    sal = \"50k\"\n",
    "    experienced = False\n",
    "# printing the final statement \n",
    "print ('Derek has a salary of:' , sal,'and has experience:' , experienced)"
   ]
  },
  {
   "cell_type": "markdown",
   "metadata": {},
   "source": [
    "## Nested Selection Statements\n",
    "Conditional within a conditional. When more than one decision must be made before the appropriate action can be taken.\n",
    "\n"
   ]
  },
  {
   "cell_type": "markdown",
   "metadata": {},
   "source": [
    "## Python For, While loops with Range, with List\n",
    "Returns a sequence of numbers, starting from 0 by default, and increments by 1 (by default), and stops before a specified number."
   ]
  },
  {
   "cell_type": "markdown",
   "metadata": {},
   "source": [
    "## Combining loops with conditionals to break, continue\n",
    "A statement that controls the flow of execution depending on some condition."
   ]
  },
  {
   "cell_type": "markdown",
   "metadata": {},
   "source": [
    "## Procedural Abstraction\n",
    "A function encapsulates a bundle of program statements (code): The function gives us a name for the statements, a way to invoke them at a high-level."
   ]
  },
  {
   "cell_type": "markdown",
   "metadata": {},
   "source": [
    "## Python Def procedures\n",
    "def is the keyword for defining a function."
   ]
  },
  {
   "cell_type": "code",
   "execution_count": null,
   "metadata": {},
   "outputs": [],
   "source": [
    "def func1():\n",
    "    print(\"I am learning Python Function\")"
   ]
  },
  {
   "cell_type": "markdown",
   "metadata": {},
   "source": [
    "## Parameters\n",
    "A parameter is the variable listed inside the parentheses in the function definition. An argument is the value that is sent to the function when it is called."
   ]
  },
  {
   "cell_type": "code",
   "execution_count": null,
   "metadata": {},
   "outputs": [],
   "source": [
    "def f(data):\n",
    "    return data * 5"
   ]
  },
  {
   "cell_type": "markdown",
   "metadata": {},
   "source": [
    "## Return Values\n",
    "The value that a function returns to the caller is generally known as the function's return value. All Python functions have a return value, either explicit or implicit."
   ]
  },
  {
   "cell_type": "code",
   "execution_count": null,
   "metadata": {},
   "outputs": [],
   "source": [
    "def addition(first_number, second_number):\n",
    "    answer = first_number + second_number\n",
    "    return answer"
   ]
  }
 ],
 "metadata": {
  "kernelspec": {
   "display_name": "Python 3.9.12 ('base')",
   "language": "python",
   "name": "python3"
  },
  "language_info": {
   "codemirror_mode": {
    "name": "ipython",
    "version": 3
   },
   "file_extension": ".py",
   "mimetype": "text/x-python",
   "name": "python",
   "nbconvert_exporter": "python",
   "pygments_lexer": "ipython3",
   "version": "3.9.12"
  },
  "orig_nbformat": 4,
  "vscode": {
   "interpreter": {
    "hash": "40d3a090f54c6569ab1632332b64b2c03c39dcf918b08424e98f38b5ae0af88f"
   }
  }
 },
 "nbformat": 4,
 "nbformat_minor": 2
}
