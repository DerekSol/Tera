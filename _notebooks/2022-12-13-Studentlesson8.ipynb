{
 "cells": [
  {
   "attachments": {},
   "cell_type": "markdown",
   "metadata": {},
   "source": [
    "# 3.16 Lesson\n",
    "> Lesson about simulations and what they're used for \n",
    "\n",
    "- layout: default\n",
    "- toc: true\n",
    "- badges: false\n",
    "- comments: true\n",
    "- categories: [lesson]"
   ]
  },
  {
   "attachments": {},
   "cell_type": "markdown",
   "metadata": {},
   "source": [
    "# First Order of Business: Get your notebook \n",
    "\n",
    "- Open a terminal in vscode, run command: cd _notebooks, type 'wget' and paste this link into said terminal and run it \n",
    "\n",
    "- Take notes wherever you please, but you will be graded on participating "
   ]
  },
  {
   "attachments": {},
   "cell_type": "markdown",
   "metadata": {},
   "source": [
    "# So, what is a simulation anyway? \n",
    "\n",
    "- A simulation is a tested scenario used for viewing results/outputs to prepare for them in real world situations \n",
    "\n",
    "- These can be used for games like dice rolling, spinners, etc \n",
    "\n",
    "- These can be used for practical things such as building structures, testing car crashes, and other things before engaging in them in the real world \n",
    "\n",
    "- These simulations can have the option of obeying real world physics (Gravity, collision) or they can go against these norms since this is a fictitious scenario, and couldn't happen in real life"
   ]
  },
  {
   "attachments": {},
   "cell_type": "markdown",
   "metadata": {},
   "source": [
    "# Big Question \n",
    "\n",
    "- Which of the following simulations could be the LEAST useful? \n",
    "\n",
    "- A retailer trying to identify which products sold the most \n",
    "- A restaurant determining the efficiency of robots \n",
    "- An insurance company studying the rain impact of cars \n",
    "- A sports bike company studying design changes to their new bike design \n",
    "\n",
    "\n",
    "\n",
    "- If you guessed a bike company, you're wrong, because the retail simulation was the right answer. Simulating robots in food service, sudying rain impact on vehicles, and new bike design can contribute a lot more to society in comparison to seeing what products sell more than others. \n"
   ]
  },
  {
   "attachments": {},
   "cell_type": "markdown",
   "metadata": {},
   "source": [
    "# Next Big Question \n",
    "\n",
    "If you were making a simulation for making a new train station, which of the following would be true about this simulation? \n",
    "\n",
    "- It could reveal potential problems/safety issues before construction starts \n",
    "- It cannot be used to test the train station in different weather \n",
    "- Simulation will add high costs to projects \n",
    "- Simulation is not needed because this train station already exists  \n",
    "\n",
    "\n",
    "\n",
    "\n",
    "- Potential Saftey was the right answer, because you need somewhere to test the safety and ethicness of what you're about to do before you start building it. Otherwise, let's just say you'll have a special plaque for FBI's Most Wanted\n"
   ]
  },
  {
   "attachments": {},
   "cell_type": "markdown",
   "metadata": {},
   "source": [
    "# Simulation 1: \n",
    "\n",
    "Both programs below do the same thing. Given a height and a weight, they calculate how long it will take for a object to fall to the ground in a vacuum subjected to normal Earth levels of gravity. \n",
    "\n",
    "However, the second one is a simulation. It calculates the distance the object has fallen every 0.1 seconds. This is useful for if you wanted a visual representation of a falling object, which pure math can't do as smoothly. "
   ]
  },
  {
   "cell_type": "code",
   "execution_count": 3,
   "metadata": {},
   "outputs": [
    {
     "name": "stdout",
     "output_type": "stream",
     "text": [
      "It will take 1.4285714285714286 seconds for an object that weighs 50 pounds to fall  10.0 meters in a vacuum\n"
     ]
    }
   ],
   "source": [
    "height = float(input(\"height in meters?\"))\n",
    "\n",
    "weight = input(\"weight in pounds?\")\n",
    "\n",
    "stuff = (2 * (height / 9.8))**(1/2)\n",
    "\n",
    "print(\"It will take\", stuff,\"seconds for an object that weighs\",weight,\"pounds\",\"to fall \",height,\"meters in a vacuum\")"
   ]
  },
  {
   "cell_type": "code",
   "execution_count": 4,
   "metadata": {},
   "outputs": [
    {
     "name": "stdout",
     "output_type": "stream",
     "text": [
      "1.5000000000000002\n",
      "11.025000000000002\n"
     ]
    }
   ],
   "source": [
    "t = 0\n",
    "g = 0\n",
    "d = 0\n",
    "false = True\n",
    "while false:\n",
    "    t = t + 0.1\n",
    "    d = 9.8 / 2 * (t**2)\n",
    "    if d >= height:\n",
    "        false = False\n",
    "    #print(d) # if you want to print the distance every time it calculates it. Too long to output to a terminal, but this could be useful to display graphically. \n",
    "    #print(t)\n",
    "\n",
    "print(t)\n",
    "print(d)"
   ]
  },
  {
   "attachments": {},
   "cell_type": "markdown",
   "metadata": {},
   "source": [
    "# Simulation 2: \n",
    "\n",
    "- This simulation is made in order to simulate movement on a 2d plane vs a 3d plane.  \n",
    "\n",
    "- How it works: we have multiple variables, if statements and equations under a while command in order to randomy generate steps on a 2d plane. Once it reaches the set destination, it will say that the man made it home after x amount of steps. \n",
    "\n",
    "- For the 3D plane, it takes a lot longer due to how big and open the 3d environment is, so there are more if statements in the 3d plane \n",
    "\n",
    "(explain further)\n",
    "\n"
   ]
  },
  {
   "cell_type": "code",
   "execution_count": 5,
   "metadata": {},
   "outputs": [
    {
     "name": "stdout",
     "output_type": "stream",
     "text": [
      "The Man Has Made It Home After  4 Turns\n",
      "( 440 654 )\n",
      "( 1574 1142 )\n",
      "( 1988 1484 )\n",
      "( 2274 2238 )\n",
      "( 1424 2272 )\n",
      "( 913 3295 )\n",
      "( 509 3495 )\n",
      "( 261 3657 )\n",
      "( -400 3144 )\n",
      "( -1981 3347 )\n",
      "Caped\n",
      "The Man Has Made It Home After  44846 Turns\n",
      "The Man Has Made It Home After  4 Turns\n",
      "( -905 287 )\n",
      "( -966 354 )\n",
      "( -538 12 )\n",
      "( -319 -173 )\n",
      "( -253 -321 )\n",
      "( 33 -711 )\n",
      "The Man Has Made It Home After  6716252 Turns\n",
      "( 393 447 )\n",
      "( 261 605 )\n",
      "The Man Has Made It Home After  2691676 Turns\n",
      "( -673 -149 )\n",
      "( 212 784 )\n",
      "( 512 568 )\n",
      "( 1040 1556 )\n",
      "( 1247 2715 )\n",
      "( 602 1788 )\n",
      "( 154 2014 )\n",
      "( -166 2212 )\n",
      "( -917 2507 )\n",
      "( -2085 3059 )\n",
      "Caped\n",
      "The Man Has Made It Home After  654 Turns\n",
      "The Man Has Made It Home After  680 Turns\n",
      "( -22 -652 )\n",
      "( 769 -147 )\n",
      "( 780 -70 )\n",
      "( 522 -94 )\n",
      "The Man Has Made It Home After  4893306 Turns\n",
      "( 791 121 )\n",
      "( 710 -890 )\n",
      "( 1192 -792 )\n",
      "( 2243 -531 )\n",
      "( 3484 220 )\n",
      "( 3768 444 )\n",
      "( 4918 1976 )\n",
      "( 4889 2721 )\n",
      "( 4359 3667 )\n",
      "( 4854 4236 )\n",
      "Caped\n",
      "The Man Has Made It Home After  2 Turns\n",
      "The Man Has Made It Home After  18 Turns\n",
      "The Man Has Made It Home After  124 Turns\n",
      "The Man Has Made It Home After  4 Turns\n",
      "The Man Has Made It Home After  2 Turns\n",
      "The Man Has Made It Home After  2 Turns\n",
      "The Man Has Made It Home After  6 Turns\n",
      "The Man Has Made It Home After  506 Turns\n",
      "The Man Has Made It Home After  4852 Turns\n",
      "The Man Has Made It Home After  2 Turns\n",
      "The Man Has Made It Home After  2 Turns\n",
      "The Man Has Made It Home After  2 Turns\n",
      "The Man Has Made It Home After  2 Turns\n",
      "The Man Has Made It Home After  2 Turns\n",
      "The Man Has Made It Home After  4 Turns\n",
      "The Man Has Made It Home After  401730 Turns\n",
      "The Man Has Made It Home After  2 Turns\n",
      "The Man Has Made It Home After  2 Turns\n",
      "The Man Has Made It Home After  276 Turns\n",
      "The Man Has Made It Home After  12 Turns\n",
      "The Man Has Made It Home After  18 Turns\n",
      "( 427 143 )\n",
      "( 542 -620 )\n",
      "( 989 -1691 )\n",
      "( 2234 -1692 )\n",
      "( 1859 -2113 )\n",
      "( 1269 -2511 )\n",
      "( 592 -2206 )\n",
      "( 1028 -2328 )\n",
      "( 1025 -3321 )\n",
      "( 588 -2416 )\n",
      "Caped\n"
     ]
    },
    {
     "ename": "KeyboardInterrupt",
     "evalue": "",
     "output_type": "error",
     "traceback": [
      "\u001b[0;31m---------------------------------------------------------------------------\u001b[0m",
      "\u001b[0;31mKeyboardInterrupt\u001b[0m                         Traceback (most recent call last)",
      "\u001b[1;32m/Users/dmsol/Tera/_notebooks/2022-12-13-Studentlesson8.ipynb Cell 10\u001b[0m in \u001b[0;36m<cell line: 9>\u001b[0;34m()\u001b[0m\n\u001b[1;32m     <a href='vscode-notebook-cell:/Users/dmsol/Tera/_notebooks/2022-12-13-Studentlesson8.ipynb#X12sZmlsZQ%3D%3D?line=17'>18</a>\u001b[0m     y \u001b[39m=\u001b[39m y\u001b[39m-\u001b[39m\u001b[39m1\u001b[39m\n\u001b[1;32m     <a href='vscode-notebook-cell:/Users/dmsol/Tera/_notebooks/2022-12-13-Studentlesson8.ipynb#X12sZmlsZQ%3D%3D?line=19'>20</a>\u001b[0m turn \u001b[39m=\u001b[39m turn \u001b[39m+\u001b[39m \u001b[39m1\u001b[39m\n\u001b[0;32m---> <a href='vscode-notebook-cell:/Users/dmsol/Tera/_notebooks/2022-12-13-Studentlesson8.ipynb#X12sZmlsZQ%3D%3D?line=21'>22</a>\u001b[0m \u001b[39mif\u001b[39;00m x \u001b[39m==\u001b[39m \u001b[39m0\u001b[39m \u001b[39mand\u001b[39;00m y \u001b[39m==\u001b[39m \u001b[39m0\u001b[39m:\n\u001b[1;32m     <a href='vscode-notebook-cell:/Users/dmsol/Tera/_notebooks/2022-12-13-Studentlesson8.ipynb#X12sZmlsZQ%3D%3D?line=22'>23</a>\u001b[0m     nights \u001b[39m=\u001b[39m nights \u001b[39m+\u001b[39m \u001b[39m1\u001b[39m\n\u001b[1;32m     <a href='vscode-notebook-cell:/Users/dmsol/Tera/_notebooks/2022-12-13-Studentlesson8.ipynb#X12sZmlsZQ%3D%3D?line=23'>24</a>\u001b[0m     \u001b[39mprint\u001b[39m(\u001b[39m\"\u001b[39m\u001b[39mThe Man Has Made It Home After \u001b[39m\u001b[39m\"\u001b[39m, turn, \u001b[39m\"\u001b[39m\u001b[39mTurns\u001b[39m\u001b[39m\"\u001b[39m)\n",
      "\u001b[0;31mKeyboardInterrupt\u001b[0m: "
     ]
    }
   ],
   "source": [
    "import random\n",
    "x = 0\n",
    "y = 0\n",
    "nights = 0\n",
    "turn = 0\n",
    "stopped = 0\n",
    "turns = []\n",
    "\n",
    "while (nights < 100):\n",
    "    step = random.randrange(4)\n",
    "    if step == 0:\n",
    "        x = x+1\n",
    "    if step == 1:\n",
    "        x = x-1\n",
    "    if step == 2:\n",
    "        y = y+1\n",
    "    if step == 3:\n",
    "        y = y-1\n",
    "\n",
    "    turn = turn + 1\n",
    "\n",
    "    if x == 0 and y == 0:\n",
    "        nights = nights + 1\n",
    "        print(\"The Man Has Made It Home After \", turn, \"Turns\")\n",
    "        turns.append(turn)\n",
    "        turn = 0\n",
    "    if turn/1000 % 1000 == 0 and x + y != 0:\n",
    "        print(\"(\", x,y, \")\")\n",
    "    if (turn > 10000000):\n",
    "        stopped = stopped + 1\n",
    "        turn = 0\n",
    "        x = 0\n",
    "        y = 0\n",
    "        nights = nights + 1\n",
    "        print(\"Caped\")\n",
    "\n",
    "average = sum(turns) / len(turns)\n",
    "print(\"Avaerage\", average, \"Ones that when't too long \", stopped)"
   ]
  },
  {
   "cell_type": "code",
   "execution_count": 6,
   "metadata": {},
   "outputs": [
    {
     "name": "stdout",
     "output_type": "stream",
     "text": [
      "The Bird Has Made It Home After  2 Turns\n",
      "The Bird Has Made It Home After  2 Turns\n",
      "The Bird Has Made It Home After  2 Turns\n",
      "( -185 525 )  |  380\n",
      "( -293 379 )  |  498\n",
      "( -534 1074 )  |  828\n",
      "( 176 613 )  |  567\n"
     ]
    },
    {
     "ename": "KeyboardInterrupt",
     "evalue": "",
     "output_type": "error",
     "traceback": [
      "\u001b[0;31m---------------------------------------------------------------------------\u001b[0m",
      "\u001b[0;31mKeyboardInterrupt\u001b[0m                         Traceback (most recent call last)",
      "\u001b[1;32m/Users/dmsol/Tera/_notebooks/2022-12-13-Studentlesson8.ipynb Cell 11\u001b[0m in \u001b[0;36m<cell line: 10>\u001b[0;34m()\u001b[0m\n\u001b[1;32m      <a href='vscode-notebook-cell:/Users/dmsol/Tera/_notebooks/2022-12-13-Studentlesson8.ipynb#X13sZmlsZQ%3D%3D?line=7'>8</a>\u001b[0m turns \u001b[39m=\u001b[39m []\n\u001b[1;32m     <a href='vscode-notebook-cell:/Users/dmsol/Tera/_notebooks/2022-12-13-Studentlesson8.ipynb#X13sZmlsZQ%3D%3D?line=9'>10</a>\u001b[0m \u001b[39mwhile\u001b[39;00m (nights \u001b[39m<\u001b[39m \u001b[39m100\u001b[39m):\n\u001b[1;32m     <a href='vscode-notebook-cell:/Users/dmsol/Tera/_notebooks/2022-12-13-Studentlesson8.ipynb#X13sZmlsZQ%3D%3D?line=10'>11</a>\u001b[0m     \u001b[39m#rando movement\u001b[39;00m\n\u001b[0;32m---> <a href='vscode-notebook-cell:/Users/dmsol/Tera/_notebooks/2022-12-13-Studentlesson8.ipynb#X13sZmlsZQ%3D%3D?line=11'>12</a>\u001b[0m     step \u001b[39m=\u001b[39m random\u001b[39m.\u001b[39;49mrandrange(\u001b[39m6\u001b[39;49m)\n\u001b[1;32m     <a href='vscode-notebook-cell:/Users/dmsol/Tera/_notebooks/2022-12-13-Studentlesson8.ipynb#X13sZmlsZQ%3D%3D?line=12'>13</a>\u001b[0m     \u001b[39mif\u001b[39;00m step \u001b[39m==\u001b[39m \u001b[39m0\u001b[39m:\n\u001b[1;32m     <a href='vscode-notebook-cell:/Users/dmsol/Tera/_notebooks/2022-12-13-Studentlesson8.ipynb#X13sZmlsZQ%3D%3D?line=13'>14</a>\u001b[0m         x \u001b[39m=\u001b[39m x\u001b[39m+\u001b[39m\u001b[39m1\u001b[39m\n",
      "File \u001b[0;32m/Library/Developer/CommandLineTools/Library/Frameworks/Python3.framework/Versions/3.8/lib/python3.8/random.py:215\u001b[0m, in \u001b[0;36mRandom.randrange\u001b[0;34m(self, start, stop, step, _int)\u001b[0m\n\u001b[1;32m    213\u001b[0m \u001b[39mif\u001b[39;00m stop \u001b[39mis\u001b[39;00m \u001b[39mNone\u001b[39;00m:\n\u001b[1;32m    214\u001b[0m     \u001b[39mif\u001b[39;00m istart \u001b[39m>\u001b[39m \u001b[39m0\u001b[39m:\n\u001b[0;32m--> 215\u001b[0m         \u001b[39mreturn\u001b[39;00m \u001b[39mself\u001b[39;49m\u001b[39m.\u001b[39;49m_randbelow(istart)\n\u001b[1;32m    216\u001b[0m     \u001b[39mraise\u001b[39;00m \u001b[39mValueError\u001b[39;00m(\u001b[39m\"\u001b[39m\u001b[39mempty range for randrange()\u001b[39m\u001b[39m\"\u001b[39m)\n\u001b[1;32m    218\u001b[0m \u001b[39m# stop argument supplied.\u001b[39;00m\n",
      "File \u001b[0;32m/Library/Developer/CommandLineTools/Library/Frameworks/Python3.framework/Versions/3.8/lib/python3.8/random.py:255\u001b[0m, in \u001b[0;36mRandom._randbelow_with_getrandbits\u001b[0;34m(self, n)\u001b[0m\n\u001b[1;32m    253\u001b[0m getrandbits \u001b[39m=\u001b[39m \u001b[39mself\u001b[39m\u001b[39m.\u001b[39mgetrandbits\n\u001b[1;32m    254\u001b[0m k \u001b[39m=\u001b[39m n\u001b[39m.\u001b[39mbit_length()  \u001b[39m# don't use (n-1) here because n can be 1\u001b[39;00m\n\u001b[0;32m--> 255\u001b[0m r \u001b[39m=\u001b[39m getrandbits(k)          \u001b[39m# 0 <= r < 2**k\u001b[39;00m\n\u001b[1;32m    256\u001b[0m \u001b[39mwhile\u001b[39;00m r \u001b[39m>\u001b[39m\u001b[39m=\u001b[39m n:\n\u001b[1;32m    257\u001b[0m     r \u001b[39m=\u001b[39m getrandbits(k)\n",
      "\u001b[0;31mKeyboardInterrupt\u001b[0m: "
     ]
    }
   ],
   "source": [
    "import random\n",
    "x = 0\n",
    "y = 0\n",
    "z = 0\n",
    "nights = 0\n",
    "turn = 0\n",
    "stopped = 0\n",
    "turns = []\n",
    "\n",
    "while (nights < 100):\n",
    "    #rando movement\n",
    "    step = random.randrange(6)\n",
    "    if step == 0:\n",
    "        x = x+1\n",
    "    if step == 1:\n",
    "        x = x-1\n",
    "    if step == 2:\n",
    "        y = y+1\n",
    "    if step == 3:\n",
    "        y = y-1\n",
    "    if step == 4:\n",
    "        z = z+1\n",
    "    if step == 5:\n",
    "        z = z-1\n",
    "    #Turn counter\n",
    "    turn = turn + 1\n",
    "    #Goal check\n",
    "    if x == 0 and y == 0 and z == 0:\n",
    "        nights = nights + 1\n",
    "        print(\"The Bird Has Made It Home After \", turn, \"Turns\")\n",
    "        turns.append(turn)\n",
    "        turn = 0\n",
    "    if turn/1000 % 1000 == 0 and x + y + z != 0:\n",
    "        print(\"(\", x,y, \") \",\"| \", z)\n",
    "    #Too long Stoper\n",
    "    if (turn > 10000000):\n",
    "        stopped = stopped + 1\n",
    "        turn = 0\n",
    "        x = 0\n",
    "        y = 0\n",
    "        z = 0\n",
    "        nights = nights + 1\n",
    "        print(\"Caped\")\n",
    "\n",
    "average = sum(turns) / len(turns)\n",
    "print(\"Avaerage\", average,\"Ones that when't too long \", stopped)"
   ]
  },
  {
   "attachments": {},
   "cell_type": "markdown",
   "metadata": {},
   "source": [
    "# Simulations in the wild\n",
    "\n",
    "Simulations are used extremely frequently in real life applications. One of the most common examples of simulations are video games. A games physics engine can accurately simulate objects colliding \n",
    "\n",
    "Another example is Blender, the software used in 3d animations class, here at Del Norte. Blender is made up of many small simulations, but one big one it uses is simulating the way light bounces off of and interacts with objects. "
   ]
  },
  {
   "attachments": {},
   "cell_type": "markdown",
   "metadata": {},
   "source": [
    "# HW !!!\n",
    "\n",
    "Create a simulation. It can be anything, just has to simulate something.\n",
    "\n",
    "Some ideas:\n",
    "\n",
    "- Two objects colliding\n",
    "- Gravity on other planets\n",
    "\n",
    "AND\n",
    "\n",
    "Find an example of a simulation in a software/game you use, screenshot, and explain how it is a simulation"
   ]
  },
  {
   "cell_type": "code",
   "execution_count": 12,
   "metadata": {},
   "outputs": [
    {
     "name": "stdout",
     "output_type": "stream",
     "text": [
      "Gravity of planet: 54212767.98021029\n",
      "Gravity of planet: 28951451.382520344\n",
      "Gravity of planet: 67084535.02285952\n",
      "Gravity of planet: 23315153.5014559\n"
     ]
    },
    {
     "ename": "ValueError",
     "evalue": "could not convert string to float: ''",
     "output_type": "error",
     "traceback": [
      "\u001b[0;31m---------------------------------------------------------------------------\u001b[0m",
      "\u001b[0;31mValueError\u001b[0m                                Traceback (most recent call last)",
      "\u001b[1;32m/Users/dmsol/Tera/_notebooks/2022-12-13-Studentlesson8.ipynb Cell 15\u001b[0m in \u001b[0;36m<cell line: 17>\u001b[0;34m()\u001b[0m\n\u001b[1;32m     <a href='vscode-notebook-cell:/Users/dmsol/Tera/_notebooks/2022-12-13-Studentlesson8.ipynb#X22sZmlsZQ%3D%3D?line=14'>15</a>\u001b[0m \u001b[39m# Run the simulation indefinitely\u001b[39;00m\n\u001b[1;32m     <a href='vscode-notebook-cell:/Users/dmsol/Tera/_notebooks/2022-12-13-Studentlesson8.ipynb#X22sZmlsZQ%3D%3D?line=15'>16</a>\u001b[0m \u001b[39mwhile\u001b[39;00m \u001b[39mTrue\u001b[39;00m:\n\u001b[0;32m---> <a href='vscode-notebook-cell:/Users/dmsol/Tera/_notebooks/2022-12-13-Studentlesson8.ipynb#X22sZmlsZQ%3D%3D?line=16'>17</a>\u001b[0m   update_simulation()\n\u001b[1;32m     <a href='vscode-notebook-cell:/Users/dmsol/Tera/_notebooks/2022-12-13-Studentlesson8.ipynb#X22sZmlsZQ%3D%3D?line=17'>18</a>\u001b[0m   time\u001b[39m.\u001b[39msleep(\u001b[39m1\u001b[39m)\n",
      "\u001b[1;32m/Users/dmsol/Tera/_notebooks/2022-12-13-Studentlesson8.ipynb Cell 15\u001b[0m in \u001b[0;36mupdate_simulation\u001b[0;34m()\u001b[0m\n\u001b[1;32m      <a href='vscode-notebook-cell:/Users/dmsol/Tera/_notebooks/2022-12-13-Studentlesson8.ipynb#X22sZmlsZQ%3D%3D?line=3'>4</a>\u001b[0m \u001b[39mdef\u001b[39;00m \u001b[39mupdate_simulation\u001b[39m():\n\u001b[1;32m      <a href='vscode-notebook-cell:/Users/dmsol/Tera/_notebooks/2022-12-13-Studentlesson8.ipynb#X22sZmlsZQ%3D%3D?line=4'>5</a>\u001b[0m   \u001b[39m# Update the state of the simulation here...\u001b[39;00m\n\u001b[1;32m      <a href='vscode-notebook-cell:/Users/dmsol/Tera/_notebooks/2022-12-13-Studentlesson8.ipynb#X22sZmlsZQ%3D%3D?line=5'>6</a>\u001b[0m   \n\u001b[1;32m      <a href='vscode-notebook-cell:/Users/dmsol/Tera/_notebooks/2022-12-13-Studentlesson8.ipynb#X22sZmlsZQ%3D%3D?line=6'>7</a>\u001b[0m   \u001b[39m# Prompt the user to enter the mass and radius of a planet\u001b[39;00m\n\u001b[0;32m----> <a href='vscode-notebook-cell:/Users/dmsol/Tera/_notebooks/2022-12-13-Studentlesson8.ipynb#X22sZmlsZQ%3D%3D?line=7'>8</a>\u001b[0m   mass \u001b[39m=\u001b[39m \u001b[39mfloat\u001b[39;49m(\u001b[39minput\u001b[39;49m(\u001b[39m\"\u001b[39;49m\u001b[39mEnter the mass of the planet (in kilograms): \u001b[39;49m\u001b[39m\"\u001b[39;49m))\n\u001b[1;32m      <a href='vscode-notebook-cell:/Users/dmsol/Tera/_notebooks/2022-12-13-Studentlesson8.ipynb#X22sZmlsZQ%3D%3D?line=8'>9</a>\u001b[0m   radius \u001b[39m=\u001b[39m \u001b[39mfloat\u001b[39m(\u001b[39minput\u001b[39m(\u001b[39m\"\u001b[39m\u001b[39mEnter the radius of the planet (in kilometers): \u001b[39m\u001b[39m\"\u001b[39m))\n\u001b[1;32m     <a href='vscode-notebook-cell:/Users/dmsol/Tera/_notebooks/2022-12-13-Studentlesson8.ipynb#X22sZmlsZQ%3D%3D?line=10'>11</a>\u001b[0m   \u001b[39m# Calculate the gravity of the planet\u001b[39;00m\n",
      "\u001b[0;31mValueError\u001b[0m: could not convert string to float: ''"
     ]
    }
   ],
   "source": [
    "import time\n",
    "\n",
    "# Define a function that updates the simulation\n",
    "def update_simulation():\n",
    "  # Update the state of the simulation here...\n",
    "  \n",
    "  # Prompt the user to enter the mass and radius of a planet\n",
    "  mass = float(input(\"Enter the mass of the planet (in kilograms): \"))\n",
    "  radius = float(input(\"Enter the radius of the planet (in kilometers): \"))\n",
    "  \n",
    "  # Calculate the gravity of the planet\n",
    "  gravity = (6.67 * 10**-11 * mass) / (radius**2)\n",
    "  print(f\"Gravity of planet: {gravity}\")\n",
    "  #Gravity of planet 1: Neptune\n",
    "  #Gravity of planet 2: Saturn\n",
    "  #Gravity of planet 3: Jupiter\n",
    "  #Gravity of planet 4: Uranus\n",
    "\n",
    "# Run the simulation indefinitely\n",
    "while True:\n",
    "  update_simulation()\n",
    "  time.sleep(1) # Pause for 1 second between each update"
   ]
  },
  {
   "cell_type": "markdown",
   "metadata": {},
   "source": [
    "# Example of a Simulation"
   ]
  },
  {
   "cell_type": "markdown",
   "metadata": {},
   "source": [
    "<img width=\"940\" alt=\"2k\" file.ext param=\"https://user-images.githubusercontent.com/111466901/207758879-04425ec0-a60c-460a-baf2-e27f4065a494.png\">\n"
   ]
  },
  {
   "cell_type": "markdown",
   "metadata": {},
   "source": [
    "In terms of coding, NBA 2K is a simulation because it uses a computer program to simulate the behavior and interactions of the various elements that make up a game of basketball. This includes the players, the ball, the court, and the rules of the game. To create this simulation, the developers of NBA 2K use a combination of algorithms, data structures, and mathematical calculations to model the behavior of these elements. For example, they may use algorithms to simulate the movement of the ball and the players on the court, and use data structures to store information about the teams, players, and game rules. Additionally, the developers may use mathematical calculations to model the physics of the game, such as the effects of gravity on the ball and the players, and the interactions between different objects on the court. "
   ]
  }
 ],
 "metadata": {
  "kernelspec": {
   "display_name": "Python 3.8.2 64-bit",
   "language": "python",
   "name": "python3"
  },
  "language_info": {
   "codemirror_mode": {
    "name": "ipython",
    "version": 3
   },
   "file_extension": ".py",
   "mimetype": "text/x-python",
   "name": "python",
   "nbconvert_exporter": "python",
   "pygments_lexer": "ipython3",
   "version": "3.8.2"
  },
  "orig_nbformat": 4,
  "vscode": {
   "interpreter": {
    "hash": "31f2aee4e71d21fbe5cf8b01ff0e069b9275f58929596ceb00d14d90e3e16cd6"
   }
  }
 },
 "nbformat": 4,
 "nbformat_minor": 2
}
