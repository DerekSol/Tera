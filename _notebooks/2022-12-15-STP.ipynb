{
 "cells": [
  {
   "cell_type": "markdown",
   "metadata": {},
   "source": [
    "# Student Teaching Portfolio\n",
    "\n",
    "- title: Student Teaching Portfolio\n",
    "- toc:true\n",
    "- branch: master\n",
    "- badges: true\n",
    "- comments: true\n",
    "- author: Derek Sol\n",
    "- categories: [APCSP Week 14-17]"
   ]
  },
  {
   "cell_type": "markdown",
   "metadata": {},
   "source": [
    "# Unit 3 Sections 1-2"
   ]
  },
  {
   "cell_type": "markdown",
   "metadata": {},
   "source": [
    "## <mark>Notes</mark>"
   ]
  },
  {
   "cell_type": "markdown",
   "metadata": {},
   "source": [
    "- Variable is an abstraction inside a program that can hold a value\n",
    "- organizes data by labeling it with descriptive name\n",
    "- consists of three parts: name, value, and type\n",
    "- When naming variables, keep it easy and simple to read, because it can be messy and confusing later on\n",
    "- types of data, integer is a number, text/string is a word, and Boolean is data that determines if something is true or false\n",
    "- assignment operator allows a program to change the value represented by a variable, used to assign values to variables\n",
    "- value stored in a variable will be the most recent value assigned\n",
    "\n",
    "### Data Abstraction\n",
    "\n",
    "- Method used in coding to represent data in a useful form, by taking away aspects of data that aren't being used in the situation\n",
    "- Variables and lists are primary tools in data abstraction\n",
    "- Provides a separation between the abstract properties of a data type and the concrete details of its representation\n",
    "\n",
    "### Lists & Strings\n",
    "\n",
    "- List = ordered sequence of elements\n",
    "- Element = individual value in a list that is assigned to a unique index\n",
    "- Index = a way to reference the elements in a list or string using natural numbers; each element of a string is referenced by an index\n",
    "- String = ordered sequence of characters (Letters, numbers, special characters)\n",
    "\n",
    "**What are Lists?**\n",
    "\n",
    "- Allow for data abstraction\n",
    "- Bundle variables together\n",
    "- Store multiple elements\n",
    "- Allows multiple related items to be treated as a single value\n",
    "- Give one name to a set of memory cells\n",
    "- Can keep adding elements to it as needed\n",
    "- Can store elements as a single variable by using a list\n",
    "\n",
    "**3 Types of List Operations**\n",
    "\n",
    "1. Assigning values to a list at certain indices\n",
    "2. Creating an empty list and assigning it to a variable\n",
    "3. Assigning a copy of one list to another list (setting one list equal to another list)"
   ]
  },
  {
   "cell_type": "markdown",
   "metadata": {},
   "source": [
    "## Practice"
   ]
  },
  {
   "cell_type": "code",
   "execution_count": 7,
   "metadata": {},
   "outputs": [
    {
     "name": "stdout",
     "output_type": "stream",
     "text": [
      "['green', 'red', 'pink', 'purple', 'blue', 'brown']\n"
     ]
    }
   ],
   "source": [
    "colorList=[\"green\", \"red\", \"pink\", \"purple\", \"blue\", \"brown\"]\n",
    "\n",
    "print(str(colorList))"
   ]
  },
  {
   "cell_type": "markdown",
   "metadata": {},
   "source": [
    "## <mark> Homework </mark>"
   ]
  },
  {
   "cell_type": "code",
   "execution_count": 27,
   "metadata": {},
   "outputs": [
    {
     "name": "stdout",
     "output_type": "stream",
     "text": [
      "General Knowledge Trivia\n",
      "Current number of questions: 5\n",
      "#1) What is the largest mammal?\n",
      "Correct!\n",
      "#2) What is the largest organ in the body?\n",
      "heart is incorrect \n",
      "#3) What galaxy do we live in?\n",
      "Correct!\n",
      "#4) Who founded Amazon?\n",
      "Correct!\n",
      "#5) What is the world's largest ocean?\n",
      "atlantic ocean is incorrect \n",
      "You scored 3/5\n",
      "Which is also, 60.0%\n"
     ]
    }
   ],
   "source": [
    "print(\"General Knowledge Trivia\")\n",
    "QandA = { \n",
    "    \"#1) What is the largest mammal?\": \"blue whale\", \n",
    "    \"#2) What is the largest organ in the body?\": \"skin\", \n",
    "    \"#3) What galaxy do we live in?\": \"milky way\", \n",
    "    \"#4) Who founded Amazon?\": \"jeff bezos\", \n",
    "    \"#5) What is the world's largest ocean?\": \"pacific ocean\", \n",
    "}\n",
    "\n",
    "def qandresp(question): # display question, return inputted response\n",
    "    print(question)\n",
    "    resp = input()\n",
    "    return resp\n",
    "\n",
    "correct = 0 \n",
    "\n",
    "# Setup\n",
    "print(\"Current number of questions: \" + str(len(QandA)))\n",
    "\n",
    "# iterate over each key\n",
    "for key in QandA:\n",
    "    rsp = qandresp(key) # save user's response to a variable rsp\n",
    "    rsp = rsp.lower() # answer is case sensitive, so match response to lowercase for answer key to work\n",
    "    if rsp == QandA[key]: # check if the response is equal to the answer in the dictionary\n",
    "        print(f\"Correct!\")\n",
    "        correct += 1\n",
    "    else:\n",
    "        print(f\"{rsp} is incorrect \") \n",
    "\n",
    "percent = str(round(correct/len(QandA), 2)*100) # calculate percentage\n",
    "\n",
    "print(\"You scored \" + str(correct) +\"/\" + str(len(QandA)))\n",
    "print(f\"Which is also, {percent}%\") # print score and percentage"
   ]
  },
  {
   "cell_type": "markdown",
   "metadata": {},
   "source": [
    "# Unit 3 Sections 3-4"
   ]
  },
  {
   "cell_type": "markdown",
   "metadata": {},
   "source": [
    "## <mark>Notes</mark>\n"
   ]
  },
  {
   "cell_type": "markdown",
   "metadata": {},
   "source": [
    "- An algorithm has three components: sequencing, selection, and iteration\n",
    "- sequencing is algorithms doing tasks in the order of specification\n",
    "- selection is allowing is to choose two different outcomes based off a decision\n",
    "- iteration is that if a condition is true, then the code is repeated\n",
    "\n",
    "### Algorithm Can Be Represented In Two Ways\n",
    "- flowcharts, which uses shapes and arrows to represent steps of an algorithm\n",
    "- pseudocode, which is a blend of human language and coding format\n",
    "\n",
    "### Basic Operations\n",
    "- subtraction, represented by -\n",
    "- addition, represented by +\n",
    "- multiplication, represented by *\n",
    "- division, represented by /\n",
    "- getting the remainder, represented by MOD(% in python)\n",
    "\n",
    "### Different Ways Values Are Stored in Variables\n",
    "- numerical value stored in variable\n",
    "- value of another variable stored in variable\n",
    "- result of an operation stored in a variable\n",
    "- result of a procedure call stored in a variable\n",
    "\n",
    "### Strings\n",
    "What is a String?\n",
    "A String: A string is a collection of characters. What is a character as character can be anything from numbers, letters, spaces, special symbols, etc.\n",
    "\n",
    "A string is a collection of characters. What is a character as character can be anything from numbers, letters, spaces, special symbols, etc.\n",
    "\n",
    "Certain procedures may be used with strings and they vary from programming language to language Python examples\n",
    "\n",
    "len() to find the length of a string\n",
    "\n",
    "lower() to convert to lowercase\n",
    "\n",
    "etc. Pseudocode examples\n",
    "\n",
    "len() returns the length of a string\n",
    "\n",
    "concat() returns a string made up of the concatenated strings ex. concat(\"string1\", \"string2\") would return string1string2\n",
    "\n",
    "substring() returns the characters from the string beginning at the at the first position to the last so an example of this would be substring (\"abcdefghijk\", 2, 5) would print bcde (pseudocode starts at 1)\n"
   ]
  },
  {
   "cell_type": "markdown",
   "metadata": {},
   "source": [
    "## <mark> Homework </mark>"
   ]
  },
  {
   "cell_type": "markdown",
   "metadata": {},
   "source": [
    "### Tracking Variables Hack"
   ]
  },
  {
   "cell_type": "code",
   "execution_count": 30,
   "metadata": {},
   "outputs": [],
   "source": [
    "Num1 = 50\n",
    "Num2 = Num1 % 9 + 15\n",
    "Num3 = Num2 / Num1 + ( Num2 * 2 )\n",
    "Num4 = Num3 + Num1 / 5 - 10\n",
    "Result = Num4 - Num2\n",
    "# Result is 20.4"
   ]
  },
  {
   "cell_type": "code",
   "execution_count": 31,
   "metadata": {},
   "outputs": [],
   "source": [
    "Num1 = 10\n",
    "Num2 = Num1 % 3 * 4\n",
    "Num1 = Num2\n",
    "Num3 = Num1 * 3\n",
    "Result = Num3 % 2\n",
    "# Result is 0"
   ]
  },
  {
   "cell_type": "code",
   "execution_count": 33,
   "metadata": {},
   "outputs": [
    {
     "name": "stdout",
     "output_type": "stream",
     "text": [
      "17\n"
     ]
    }
   ],
   "source": [
    "valueA = 4\n",
    "valueB = 90\n",
    "valueC = 17\n",
    "valueB = valueC - valueA\n",
    "valueA = valueA * 10\n",
    "if valueB > 10:\n",
    "    print(valueC)\n",
    "# Result is 17 "
   ]
  },
  {
   "cell_type": "code",
   "execution_count": 35,
   "metadata": {},
   "outputs": [
    {
     "name": "stdout",
     "output_type": "stream",
     "text": [
      "straightbrownshort\n"
     ]
    }
   ],
   "source": [
    "type = \"curly\"\n",
    "color = \"brown\"\n",
    "length = \"short\"\n",
    "type = \"straight\"\n",
    "hair = type + color + length\n",
    "print(hair)\n",
    "# Result is straightbrownshort"
   ]
  },
  {
   "cell_type": "markdown",
   "metadata": {},
   "source": [
    "### String Hacks"
   ]
  },
  {
   "cell_type": "markdown",
   "metadata": {},
   "source": [
    "##### Problem 1"
   ]
  },
  {
   "cell_type": "code",
   "execution_count": 54,
   "metadata": {},
   "outputs": [
    {
     "name": "stdout",
     "output_type": "stream",
     "text": [
      "Mr.Mort is Very handsome.\n"
     ]
    }
   ],
   "source": [
    "Noun = \"Mr.Mortenson\"\n",
    "Adjective = \"handsome\"\n",
    "Adjective2 = \"Very\"\n",
    "Verb = \"is\"\n",
    "abrev = Noun[:7]\n",
    "yoda = abrev + \" \" + Verb + \" \" + Adjective2 + \" \" + Adjective + \".\"\n",
    "print(yoda)"
   ]
  },
  {
   "cell_type": "markdown",
   "metadata": {},
   "source": [
    "##### Problem 2"
   ]
  },
  {
   "cell_type": "code",
   "execution_count": 55,
   "metadata": {},
   "outputs": [
    {
     "name": "stdout",
     "output_type": "stream",
     "text": [
      "choclate vote 225 rasin vote 4.0\n"
     ]
    }
   ],
   "source": [
    "cookie = \"choclate\"\n",
    "cookie2 = \"rasin\"\n",
    "len1 = len(cookie) / 2\n",
    "len2 = len(cookie2) * 45\n",
    "vote1 = (str(cookie) + \" vote \" + str(len2))\n",
    "vote2 = (str(cookie2) + \" vote \" + str(len1))\n",
    "votes = (str(vote1) + \" \" + str(vote2))\n",
    "print(votes)"
   ]
  },
  {
   "cell_type": "markdown",
   "metadata": {},
   "source": [
    "# Unit 3 Sections 8-10"
   ]
  },
  {
   "cell_type": "markdown",
   "metadata": {},
   "source": [
    "## <mark>Notes</mark>\n",
    "Lists: a sequence of variables\n",
    "- we can use lists to store multiple items into one variable\n",
    "- used to store collections of data\n",
    "- changeable, ordered, allow duplicates\n",
    "\n",
    "There is list, then four total collection data types in Python\n",
    "\n",
    "- Tuple: collection that is ordered, unchangeable, allows duplicates\n",
    "- Set: collection that is unordered, unchangeable, doesn't allow duplicates\n",
    "- Dictionary: collection that is ordered, changeable, doesn't allow duplicates\n",
    "\n",
    "More Terms\n",
    "\n",
    "- Index: a term used to sort data in order to reference to an element in a list (allows for duplicates)\n",
    "- Elements: the values in the list assigned to an index\n",
    "\n",
    "Methods\n",
    "\n",
    "| Method | Definition | Example |\n",
    "|-|-|-|\n",
    "| append() | adds element to the end of the list | fruits.append(\"watermelon\") |\n",
    "| index() | returns the index of the first element with the specified value | fruits.index(\"apple\") |\n",
    "| insert() | adds element at given position | fruits.insert(1, \"watermelon\")|\n",
    "| remove() | removes the first item with the specified value | fruits.remove(\"strawberry\") |\n",
    "| reverse() | reverses the list order | fruits.reverse() |\n",
    "| sort() | sorts the list | fruits.sort() |\n",
    "| count() | returns the amount of elements with the specified value | fruits.count(\"apple\") |\n",
    "| copy() | returns a copy of the list | fruits.copy() |\n",
    "| clear() | removes the elements from the list | fruits.clear() |\n",
    "\n",
    "Iteration\n",
    "- Iteration is the repetition of a process or utterance applied to the result or taken from a previous statement.\n",
    "- There's a lot of types of iteration though, what to use? How do we apply iteration to lists? \n",
    "- Some methods include using a \"for loop\", using a \"for loop and range()\", using a \"while loop\", and using comprehension \n",
    "- here are 2 types of iteration: definite and indefinite. Definite iteration clarifies how many times the loop is going to run, while indefinite specifies a condition that must be met\n",
    "\n",
    "Else, elif, break\n",
    "- Else: when the condition does not meet, do statement()\n",
    "- Elif: when the condition does not meet, but meets another condition, do statement()\n",
    "- Break: stop the loop"
   ]
  },
  {
   "cell_type": "markdown",
   "metadata": {},
   "source": [
    "## <mark>Homework</mark>\n"
   ]
  },
  {
   "cell_type": "markdown",
   "metadata": {},
   "source": [
    "### HW Iteration"
   ]
  },
  {
   "cell_type": "code",
   "execution_count": 49,
   "metadata": {},
   "outputs": [
    {
     "name": "stdout",
     "output_type": "stream",
     "text": [
      "derek ->\n",
      "delta\n",
      "echo\n",
      "romeo\n",
      "echo\n",
      "kilo\n"
     ]
    }
   ],
   "source": [
    "words = [\"alfa\", \"bravo\", \"charlie\", \"delta\", \"echo\", \"foxtrot\", \"golf\", \"hotel\", \"india\", \"juliett\", \"kilo\",\n",
    "\"lima\", \"mike\", \"november\", \"oscar\", \"papa\", \"quebec\", \"romeo\", \"sierra\", \"tango\", \"uniform\", \"victor\", \"whiskey\", \"xray\", \"yankee\", \"zulu\"]\n",
    "\n",
    "inp = input().lower()\n",
    "print(inp + \" ->\")\n",
    "for i in range(len(inp)):\n",
    "    for j in range(len(words)):\n",
    "        if inp[i] == words [j][0]:\n",
    "            print(words[j])"
   ]
  },
  {
   "cell_type": "markdown",
   "metadata": {},
   "source": [
    "### Other way to print matrix "
   ]
  },
  {
   "cell_type": "code",
   "execution_count": 3,
   "metadata": {},
   "outputs": [],
   "source": [
    "keypad =   [[1, 2, 3],\n",
    "            [4, 5, 6],\n",
    "            [7, 8, 9],\n",
    "            [\" \", 0, \" \"]]"
   ]
  },
  {
   "cell_type": "code",
   "execution_count": 4,
   "metadata": {},
   "outputs": [
    {
     "name": "stdout",
     "output_type": "stream",
     "text": [
      "1 2 3\n",
      "4 5 6\n",
      "7 8 9\n",
      "  0  \n"
     ]
    }
   ],
   "source": [
    "def print_matrix3(matrix):\n",
    "    for i in range(len(keypad)):\n",
    "        print(*keypad[i])\n",
    "print_matrix3(keypad)"
   ]
  },
  {
   "cell_type": "markdown",
   "metadata": {},
   "source": [
    "### Birth Month HW"
   ]
  },
  {
   "cell_type": "code",
   "execution_count": 53,
   "metadata": {},
   "outputs": [
    {
     "name": "stdout",
     "output_type": "stream",
     "text": [
      "1/17/2005\n",
      "17\n"
     ]
    }
   ],
   "source": [
    "keyboard = [[\"`\", 1, 2, 3, 4, 5, 6, 7, 8, 9, 0, \"-\", \"=\"],\n",
    "            [\"Q\", \"W\", \"E\", \"R\", \"T\", \"Y\", \"U\", \"I\", \"O\", \"P\", \"[\", \"]\"],\n",
    "            [\"A\", \"S\", \"D\", \"F\", \"G\", \"H\", \"J\", \"K\", \"L\", \";\", \"'\"],\n",
    "            [\"Z\", \"X\", \"C\", \"V\", \"B\", \"N\", \"M\", \",\", \".\", \"/\"]]\n",
    "\n",
    "      \n",
    "print(str(keyboard[0][1]) + str(keyboard[3][9]) + str(keyboard[0][1]) + str(keyboard[0][7]) + str(keyboard[3][9]) + str(keyboard[0][2]) + str(keyboard[0][10]) + str(keyboard[0][10]) + str(keyboard[0][5]) + \"\\n\" + str(keyboard[0][1]) + str(keyboard[0][7]))"
   ]
  },
  {
   "cell_type": "markdown",
   "metadata": {},
   "source": [
    "# Unit 3 Sections 9-11"
   ]
  },
  {
   "cell_type": "markdown",
   "metadata": {},
   "source": [
    "## <mark>Notes</mark>"
   ]
  },
  {
   "cell_type": "markdown",
   "metadata": {},
   "source": [
    "Algorithms\n",
    "- Algorithms can be written in different ways and still accomplish the same tasks\n",
    "- Algorithms that appear similar can yield different side effects or results.\n",
    "- Some conditional statements can be written as the same as Boolean expressions (VICE VERSA)\n",
    "- Different algorithms can be developed or use to solve the same problem. \n",
    "\n",
    "Conditionals vs. Boolean\n",
    "\n",
    "The condition and instructions are what differ, that's where the magic happens. The condition is a boolean expression when an expression outputs either true or false. Boolean values are another type of data type in programming languages, and they can only ever hold true or false. \n",
    "\n",
    "Selection vs. Iteration\n",
    "\n",
    "Selection:\n",
    "- A process used in algorithms where a conditional if-statement leads to one of two outcomes\n",
    "- Outcome 1: if the conditional statement is true, something will happen\n",
    "- Outcome 2: if the conditional statement is false, something else will happen\n",
    "\n",
    "Iteration\n",
    "- A process used in algorithms that allows certain things to happen until a condition is satisfied\n",
    "- Once the condition is satisfied, then an outcome is produced\n",
    "- This can take the form of a for-loop, while-loop, and/or if-statement\n",
    "\n",
    "Takeaways\n",
    "\n",
    "- You can use code you've previously wrote in order to make a project easier.\n",
    "- Breaking algorithms down into steps can make things easier and more simple.\n",
    "\n",
    "\n",
    "\n",
    "\n"
   ]
  },
  {
   "cell_type": "markdown",
   "metadata": {},
   "source": [
    "## <mark>Homework</mark>"
   ]
  },
  {
   "cell_type": "markdown",
   "metadata": {},
   "source": [
    "Flowchart\n",
    "\n",
    "[Link to flowchart](https://docs.google.com/drawings/d/1RG3qCP_ceElZI8CWEa3RScGCkcGYlpJTxrFzJigK7PA/edit)"
   ]
  },
  {
   "cell_type": "code",
   "execution_count": 1,
   "metadata": {},
   "outputs": [
    {
     "name": "stdout",
     "output_type": "stream",
     "text": [
      "[1, 16, 18]\n"
     ]
    },
    {
     "data": {
      "text/plain": [
       "18"
      ]
     },
     "execution_count": 1,
     "metadata": {},
     "output_type": "execute_result"
    }
   ],
   "source": [
    "import random\n",
    "\n",
    "def RandomNumGen(x):\n",
    "    RandomNumGenList = []\n",
    "    \n",
    "    while x > 0:\n",
    "        RandomNumGenList.append(random.randint(1,20))\n",
    "        x -= 1\n",
    "\n",
    "    print(RandomNumGenList)\n",
    "    return max(RandomNumGenList)\n",
    "\n",
    "RandomNumGen(3)"
   ]
  },
  {
   "cell_type": "markdown",
   "metadata": {},
   "source": [
    "# Unit 3 Sections 12-13"
   ]
  },
  {
   "cell_type": "markdown",
   "metadata": {},
   "source": [
    "## <mark>Notes</mark>"
   ]
  },
  {
   "cell_type": "markdown",
   "metadata": {},
   "source": [
    "## Calling Procedures\n",
    "\n",
    "Slide 1:\n",
    "- A procedure is a named group of programming instructions that may have parameters and return values.\n",
    "- Procedures are referred to by different names, such as method or function, depending on the programing language.\n",
    "- Parameters are input values of a procedure. Arguments specify the values of the parameters when procedure is called.\n",
    "- A procedure call interrupts the sequential execution of statements causing the program to execute the statements within the procedure before continuing. One the last statement in the procedure (or a return statement) has executed, flow or control is returned to the point immediately following where the procedure was called.\n",
    "\n",
    "Slide 2:\n",
    "- When calling procedures, it's important to take notice to whether it returns data, or a block of statements.\n",
    "- If the procedure just returns a block of statements, you call the procedure by referring to the procedure name, and inputting the arguments.\n",
    "- If the procedure returns some sort of data like a boolean or value, then you will assign that value to a variable\n",
    "\n",
    "Slide 3:\n",
    "\n",
    "- Assume the Temperature outside is Fahrenheit. \n",
    "- The procedure convertFahrenheit is intended to convert from Fahrenheit to Celsius.\n",
    "- Convert the following psuedocode to python\n",
    "\n",
    "## Developing Procedures\n",
    "\n",
    "Slide 8: \n",
    "\n",
    "Picking a descriptive name is important in case you revisit the code later on (separate words with capitals)\n",
    "There are 2 different types of procedures- ones that return a value and those that simply execute a block of statements\n",
    "Steps of developing procedure: picking a useful name, thinking of parameters (what data does the procedure need to know), making a flowchart or writing procedure in pseudocode, and actually developing the procedure.\n",
    "\n",
    "Slide 9: \n",
    "\n",
    "In this example, a teacher is writing a program that will replace the grade on a previous quiz if the new grade is better than the previous.\n",
    "\n",
    "- What would be a good name for this procedure?\n",
    "- What parameters do we need for this procedure?\n",
    "- Try writing this procedure out in python based on the given pseudocode\n",
    "\n",
    "## Procedural Abstraction\n",
    "\n",
    "- One type of abstraction is procedural abstraction which provides a name for a process and allows a procedure to be used only knowing what it does and not how it does it\n",
    "- This is very helpful in managing complexity in a program\n",
    "- Subdivision of a program into separate subprograms is called modularity\n",
    "- A procedural abstraction may extract shared features to generalize functionality instead of duplicating code. This allows for program reuse, which helps manage complexity\n",
    "- When a pre-written procedure is called, you don’t necessarily need to know the details of this, just what it does and how to call it\n",
    "- Simply, procedural abstraction is naming and calling a pre-written procedure\n",
    "- Making sure to include the right arguments so the procedure can do what its supposed to do is crucial"
   ]
  },
  {
   "cell_type": "code",
   "execution_count": 3,
   "metadata": {},
   "outputs": [
    {
     "name": "stdout",
     "output_type": "stream",
     "text": [
      "your new grade is 87.5%\n"
     ]
    }
   ],
   "source": [
    "#input any number 25 and below to have it output \"else,\" input any number 26 and above to have it output \"if\"\n",
    "quizGrade = 25\n",
    "def currentGrade(currentPoints):    \n",
    "    currentGrade = currentPoints / 40\n",
    "    currentGrade = currentGrade * 100\n",
    "    return currentGrade\n",
    "\n",
    "newPoints = int(input(\"What did you get out of 40?\"))\n",
    "newPercent = (currentGrade(int(newPoints)))\n",
    "\n",
    "if (newPoints > quizGrade):\n",
    "    newquizGrade = newPercent\n",
    "    print(\"your new grade is \" + str(newquizGrade) + \"%\")\n",
    "else:\n",
    "    print(\"your grade is still \" + str(quizGrade) + \"/40\")\n",
    "    "
   ]
  },
  {
   "cell_type": "markdown",
   "metadata": {},
   "source": [
    "## <mark>Homework</mark>"
   ]
  },
  {
   "cell_type": "code",
   "execution_count": 2,
   "metadata": {},
   "outputs": [
    {
     "name": "stdout",
     "output_type": "stream",
     "text": [
      "Roll Call Number:  26\n",
      "Name is:  Derek Sol\n",
      "Grade in subject 1:  81\n",
      "Grade in subject 2:  84\n",
      "Grade in subject 3:  93\n",
      "Average Grade of:  86.0\n",
      "your a B Student\n"
     ]
    }
   ],
   "source": [
    "#This can be used by teachers to know and store data about their students, still school related\n",
    "class Student:\n",
    "    marks = []\n",
    "    def getData(self, rn, name, m1, m2, m3):\n",
    "        Student.rn = rn\n",
    "        Student.name = name\n",
    "        Student.marks.append(m1)\n",
    "        Student.marks.append(m2)\n",
    "        Student.marks.append(m3)\n",
    "    \n",
    "    def displayData(self):\n",
    "        print(\"Roll Call Number: \", Student.rn)\n",
    "        print(\"Name is: \", Student.name)\n",
    "        print(\"Grade in subject 1: \", Student.marks[0])\n",
    "        print(\"Grade in subject 2: \", Student.marks[1])\n",
    "        print(\"Grade in subject 3: \", Student.marks[2])\n",
    "        print(\"Average Grade of: \", self.average())\n",
    "        GradeAverage = self.average()\n",
    "        if (GradeAverage > 90):\n",
    "            print(\"your an A student\")\n",
    "        elif (GradeAverage > 80):\n",
    "            print(\"your a B Student\")\n",
    "        else:\n",
    "            print(\"do better\")\n",
    "    \n",
    "    def total(self):\n",
    "        m = Student.marks\n",
    "        return(Student.marks[0] + Student.marks[1] +Student.marks[2])\n",
    "    \n",
    "    def average(self):\n",
    "        return ((Student.marks[0] + Student.marks[1] +Student.marks[2])/3)\n",
    "\n",
    "r = int (input(\"Enter the roll call number: \"))\n",
    "name = input(\"Enter the name: \")\n",
    "m1 = int (input(\"Enter the Grade in first subject: \"))\n",
    "m2 = int (input(\"Enter the Grade in second subject: \"))\n",
    "m3 = int (input(\"Enter the Grade in third subject: \"))\n",
    "\n",
    "s1 = Student()\n",
    "s1.getData(r, name, m1, m2, m3)\n",
    "s1.displayData()"
   ]
  },
  {
   "cell_type": "markdown",
   "metadata": {},
   "source": [
    "# Unit 3 Sections 14-15"
   ]
  },
  {
   "cell_type": "markdown",
   "metadata": {},
   "source": [
    "## <mark>Notes</mark>"
   ]
  },
  {
   "cell_type": "markdown",
   "metadata": {},
   "source": [
    "### Libraries\n",
    "- A library is a collection of precompiled codes that can be used later on in a program for some specific well-defined operations.\n",
    "- These precompiled codes can be referred to as modules. Each module contains bundles of code that can be used repeatedly in different programs.\n",
    "- A library may also contain documentation, configuration data, message templates, classes, and values, etc.\n",
    "\n",
    "### A few libraries that simplify coding processes:\n",
    "- Pillow allows you to work with images.\n",
    "- Tensor Flow helps with data automation and monitors performance.\n",
    "- Matplotlib allows you to make 2D graphs and plots.\n",
    "\n",
    "### API’s\n",
    "- An Application Program Interface, or API, contains specific direction for how the procedures in a library behave and can be used.\n",
    "- An API acts as a gateway for the imported procedures from a library to interact with the rest of your code.\n",
    "\n",
    "## Random Values\n",
    "- Random number generation (RNG) produces a random number (crazy right?)\n",
    "- This means that a procedure with RNG can return different values even if the parameters (inputs) do not change"
   ]
  },
  {
   "cell_type": "markdown",
   "metadata": {},
   "source": [
    "## <mark>Homework</mark>"
   ]
  },
  {
   "cell_type": "code",
   "execution_count": 6,
   "metadata": {},
   "outputs": [
    {
     "name": "stdout",
     "output_type": "stream",
     "text": [
      "[46, 78, 12, 78, 76, 8, 18, 92, 98, 42, 64, 30]\n",
      "[83, 95, 7, 97, 39, 61, 73, 21]\n"
     ]
    }
   ],
   "source": [
    "import random\n",
    "\n",
    "n = int(input(\"How many numbers would you like to generate?\"))\n",
    "a = int(input(\"Give the lowest number you want all numbers to be picked from?\"))\n",
    "b = int(input(\"Give the highest number you want all numbers to be picked from?\"))\n",
    "numbers = [random.randint(a, b) for _ in range(n)]\n",
    "# I input the range from numbers 1-100\n",
    "\n",
    "evens = []\n",
    "odds = []\n",
    "for number in numbers:\n",
    "    if number % 2 == 0:\n",
    "        evens.append(number)\n",
    "    else:\n",
    "        odds.append(number)\n",
    "\n",
    "print(evens)\n",
    "print(odds)"
   ]
  },
  {
   "cell_type": "code",
   "execution_count": 1,
   "metadata": {},
   "outputs": [
    {
     "name": "stdout",
     "output_type": "stream",
     "text": [
      "The derivative of \n",
      "   5     2\n",
      "2 x - 6 x + 24 x\n",
      "is\n",
      "    4\n",
      "10 x - 12 x + 24\n"
     ]
    }
   ],
   "source": [
    "import numpy as np\n",
    "\n",
    "poly = np.poly1d([2, 0, 0, -6, 24, 0])\n",
    "\n",
    "derivative = poly.deriv()\n",
    "\n",
    "print(\"The derivative of \\n\" + str(poly) + \"\\n\" + \"is\" + \"\\n\" + str(derivative))"
   ]
  },
  {
   "cell_type": "code",
   "execution_count": 2,
   "metadata": {},
   "outputs": [
    {
     "name": "stdout",
     "output_type": "stream",
     "text": [
      "The derivative of \n",
      "    4     2\n",
      "13 x + 4 x\n",
      " divided by \n",
      "2\n",
      "is: \n",
      "    3\n",
      "26 x + 4 x\n",
      "\n",
      "When x = 9,  f'(x) = \n",
      "18990\n"
     ]
    }
   ],
   "source": [
    "import numpy as np\n",
    "\n",
    "n = np.poly1d([13, 0, 4, 0, 0])\n",
    "\n",
    "d = np.poly1d([2])\n",
    "\n",
    "derivative = ((d * n.deriv()) - (d.deriv() * n)) / 4\n",
    "\n",
    "result = derivative(9)\n",
    "\n",
    "\n",
    "print(\"The derivative of \\n\" + str(n) + \"\\n divided by\" + str(d) + \"\\nis: \\n\" + str(derivative))\n",
    "print(\"\\nWhen x = 9,  f'(x) = \\n\" + str(round(result)))"
   ]
  },
  {
   "cell_type": "code",
   "execution_count": 4,
   "metadata": {},
   "outputs": [
    {
     "name": "stdout",
     "output_type": "stream",
     "text": [
      "['dog10', 'cat8', 'cat4', 'dog3', 'cat1', 'dog1', 'cat10', 'dog2', 'cat6', 'dog6', 'dog4', 'dog7', 'cat2', 'dog5', 'cat9', 'cat7', 'dog9', 'cat5', 'dog8', 'cat3']\n"
     ]
    }
   ],
   "source": [
    "import random\n",
    "\n",
    "animals = ['dog1', 'dog2', 'dog3', 'dog4', 'dog5', 'dog6', 'dog7', 'dog8', 'dog9', 'dog10', 'cat1', 'cat2', 'cat3', 'cat4', 'cat5', 'cat6', 'cat7', 'cat8', 'cat9', 'cat10']\n",
    "\n",
    "random.shuffle(animals)\n",
    "\n",
    "print(animals)"
   ]
  },
  {
   "cell_type": "markdown",
   "metadata": {},
   "source": [
    "## Two Other Python Libraries\n",
    "\n",
    "### Keras\n",
    "- Keras is a deep learning API written in Python, running on top of the machine learning platform TensorFlow. It was developed with a focus on enabling fast experimentation. Being able to go from idea to result as fast as possible is key to doing good research.\n",
    "- It is simple, flexible, and powerful.\n",
    "- Keras reduces developer cognitive load to free you to focus on the parts of the problem that really matter.\n",
    "- Keras adopts the principle of progressive disclosure of complexity: simple workflows should be quick and easy, while arbitrarily advanced workflows should be possible via a clear path that builds upon what you've already learned. \n",
    "- Keras provides industry-strength performance and scalability: it is used by organizations and companies including NASA, YouTube, or Waymo.\n",
    "\n",
    "### Pandas\n",
    "- Pandas is an open source Python package that is most widely used for data science/data analysis and machine learning tasks. It is built on top of another package named Numpy, which provides support for multi-dimensional arrays.\n",
    "-Pandas makes it simple to do many of the time consuming, repetitive tasks associated with working with data such as; data cleansing, data fill, data normalization, merges and joins, data visualization, statistical analysis, data inspection, loading and saving data, etc.\n",
    "- Pretty much used to analyze data fast, powerfully, and flexibly "
   ]
  },
  {
   "cell_type": "markdown",
   "metadata": {},
   "source": [
    "# Unit 3 Sections 16"
   ]
  },
  {
   "cell_type": "markdown",
   "metadata": {},
   "source": [
    "## <mark>Notes</mark>"
   ]
  },
  {
   "cell_type": "markdown",
   "metadata": {},
   "source": [
    "## <mark>Homework</mark>"
   ]
  },
  {
   "cell_type": "code",
   "execution_count": 2,
   "metadata": {},
   "outputs": [
    {
     "name": "stdout",
     "output_type": "stream",
     "text": [
      "Gravity of planet: 29180968.4670602\n",
      "Gravity of planet: 28951451.382520344\n",
      "Gravity of planet: 67089129.85402547\n",
      "Gravity of planet: 23315153.5014559\n"
     ]
    },
    {
     "ename": "ValueError",
     "evalue": "could not convert string to float: ''",
     "output_type": "error",
     "traceback": [
      "\u001b[0;31m---------------------------------------------------------------------------\u001b[0m",
      "\u001b[0;31mValueError\u001b[0m                                Traceback (most recent call last)",
      "\u001b[1;32m/Users/dmsol/Tera/_notebooks/2022-12-15-STP.ipynb Cell 57\u001b[0m in \u001b[0;36m<cell line: 21>\u001b[0;34m()\u001b[0m\n\u001b[1;32m     <a href='vscode-notebook-cell:/Users/dmsol/Tera/_notebooks/2022-12-15-STP.ipynb#Y113sZmlsZQ%3D%3D?line=13'>14</a>\u001b[0m   \u001b[39m#Gravity of planet 1: Neptune\u001b[39;00m\n\u001b[1;32m     <a href='vscode-notebook-cell:/Users/dmsol/Tera/_notebooks/2022-12-15-STP.ipynb#Y113sZmlsZQ%3D%3D?line=14'>15</a>\u001b[0m   \u001b[39m#Gravity of planet 2: Saturn\u001b[39;00m\n\u001b[1;32m     <a href='vscode-notebook-cell:/Users/dmsol/Tera/_notebooks/2022-12-15-STP.ipynb#Y113sZmlsZQ%3D%3D?line=15'>16</a>\u001b[0m   \u001b[39m#Gravity of planet 3: Jupiter\u001b[39;00m\n\u001b[1;32m     <a href='vscode-notebook-cell:/Users/dmsol/Tera/_notebooks/2022-12-15-STP.ipynb#Y113sZmlsZQ%3D%3D?line=16'>17</a>\u001b[0m   \u001b[39m#Gravity of planet 4: Uranus\u001b[39;00m\n\u001b[1;32m     <a href='vscode-notebook-cell:/Users/dmsol/Tera/_notebooks/2022-12-15-STP.ipynb#Y113sZmlsZQ%3D%3D?line=17'>18</a>\u001b[0m \n\u001b[1;32m     <a href='vscode-notebook-cell:/Users/dmsol/Tera/_notebooks/2022-12-15-STP.ipynb#Y113sZmlsZQ%3D%3D?line=18'>19</a>\u001b[0m \u001b[39m# Run the simulation indefinitely\u001b[39;00m\n\u001b[1;32m     <a href='vscode-notebook-cell:/Users/dmsol/Tera/_notebooks/2022-12-15-STP.ipynb#Y113sZmlsZQ%3D%3D?line=19'>20</a>\u001b[0m \u001b[39mwhile\u001b[39;00m \u001b[39mTrue\u001b[39;00m:\n\u001b[0;32m---> <a href='vscode-notebook-cell:/Users/dmsol/Tera/_notebooks/2022-12-15-STP.ipynb#Y113sZmlsZQ%3D%3D?line=20'>21</a>\u001b[0m   update_simulation()\n\u001b[1;32m     <a href='vscode-notebook-cell:/Users/dmsol/Tera/_notebooks/2022-12-15-STP.ipynb#Y113sZmlsZQ%3D%3D?line=21'>22</a>\u001b[0m   time\u001b[39m.\u001b[39msleep(\u001b[39m1\u001b[39m)\n",
      "\u001b[1;32m/Users/dmsol/Tera/_notebooks/2022-12-15-STP.ipynb Cell 57\u001b[0m in \u001b[0;36mupdate_simulation\u001b[0;34m()\u001b[0m\n\u001b[1;32m      <a href='vscode-notebook-cell:/Users/dmsol/Tera/_notebooks/2022-12-15-STP.ipynb#Y113sZmlsZQ%3D%3D?line=3'>4</a>\u001b[0m \u001b[39mdef\u001b[39;00m \u001b[39mupdate_simulation\u001b[39m():\n\u001b[1;32m      <a href='vscode-notebook-cell:/Users/dmsol/Tera/_notebooks/2022-12-15-STP.ipynb#Y113sZmlsZQ%3D%3D?line=4'>5</a>\u001b[0m   \u001b[39m# Update the state of the simulation here...\u001b[39;00m\n\u001b[1;32m      <a href='vscode-notebook-cell:/Users/dmsol/Tera/_notebooks/2022-12-15-STP.ipynb#Y113sZmlsZQ%3D%3D?line=5'>6</a>\u001b[0m   \n\u001b[1;32m      <a href='vscode-notebook-cell:/Users/dmsol/Tera/_notebooks/2022-12-15-STP.ipynb#Y113sZmlsZQ%3D%3D?line=6'>7</a>\u001b[0m   \u001b[39m# Prompt the user to enter the mass and radius of a planet\u001b[39;00m\n\u001b[0;32m----> <a href='vscode-notebook-cell:/Users/dmsol/Tera/_notebooks/2022-12-15-STP.ipynb#Y113sZmlsZQ%3D%3D?line=7'>8</a>\u001b[0m   mass \u001b[39m=\u001b[39m \u001b[39mfloat\u001b[39;49m(\u001b[39minput\u001b[39;49m(\u001b[39m\"\u001b[39;49m\u001b[39mEnter the mass of the planet (in kilograms): \u001b[39;49m\u001b[39m\"\u001b[39;49m))\n\u001b[1;32m      <a href='vscode-notebook-cell:/Users/dmsol/Tera/_notebooks/2022-12-15-STP.ipynb#Y113sZmlsZQ%3D%3D?line=8'>9</a>\u001b[0m   radius \u001b[39m=\u001b[39m \u001b[39mfloat\u001b[39m(\u001b[39minput\u001b[39m(\u001b[39m\"\u001b[39m\u001b[39mEnter the radius of the planet (in kilometers): \u001b[39m\u001b[39m\"\u001b[39m))\n\u001b[1;32m     <a href='vscode-notebook-cell:/Users/dmsol/Tera/_notebooks/2022-12-15-STP.ipynb#Y113sZmlsZQ%3D%3D?line=10'>11</a>\u001b[0m   \u001b[39m# Calculate the gravity of the planet\u001b[39;00m\n",
      "\u001b[0;31mValueError\u001b[0m: could not convert string to float: ''"
     ]
    }
   ],
   "source": [
    "import time\n",
    "\n",
    "# Define a function that updates the simulation\n",
    "def update_simulation():\n",
    "  # Update the state of the simulation here...\n",
    "  \n",
    "  # Prompt the user to enter the mass and radius of a planet\n",
    "  mass = float(input(\"Enter the mass of the planet (in kilograms): \"))\n",
    "  radius = float(input(\"Enter the radius of the planet (in kilometers): \"))\n",
    "  \n",
    "  # Calculate the gravity of the planet\n",
    "  gravity = (6.67 * 10**-11 * mass) / (radius**2)\n",
    "  print(f\"Gravity of planet: {gravity}\")\n",
    "  #Gravity of planet 1: Neptune\n",
    "  #Gravity of planet 2: Saturn\n",
    "  #Gravity of planet 3: Jupiter\n",
    "  #Gravity of planet 4: Uranus\n",
    "\n",
    "# Run the simulation indefinitely\n",
    "while True:\n",
    "  update_simulation()\n",
    "  time.sleep(1) # Pause for 1 second between each update"
   ]
  },
  {
   "cell_type": "markdown",
   "metadata": {},
   "source": [
    "# Example of a Simulation"
   ]
  },
  {
   "cell_type": "markdown",
   "metadata": {},
   "source": [
    "In terms of coding, NBA 2K is a simulation because it uses a computer program to simulate the behavior and interactions of the various elements that make up a game of basketball. This includes the players, the ball, the court, and the rules of the game. To create this simulation, the developers of NBA 2K use a combination of algorithms, data structures, and mathematical calculations to model the behavior of these elements. For example, they may use algorithms to simulate the movement of the ball and the players on the court, and use data structures to store information about the teams, players, and game rules. Additionally, the developers may use mathematical calculations to model the physics of the game, such as the effects of gravity on the ball and the players, and the interactions between different objects on the court. "
   ]
  },
  {
   "cell_type": "markdown",
   "metadata": {},
   "source": [
    "# Unit 3 Sections 17-18"
   ]
  },
  {
   "cell_type": "markdown",
   "metadata": {},
   "source": [
    "## <mark>Notes</mark>"
   ]
  },
  {
   "cell_type": "markdown",
   "metadata": {},
   "source": [
    "## <mark>Homework</mark>"
   ]
  }
 ],
 "metadata": {
  "kernelspec": {
   "display_name": "Python 3.9.12 ('base')",
   "language": "python",
   "name": "python3"
  },
  "language_info": {
   "codemirror_mode": {
    "name": "ipython",
    "version": 3
   },
   "file_extension": ".py",
   "mimetype": "text/x-python",
   "name": "python",
   "nbconvert_exporter": "python",
   "pygments_lexer": "ipython3",
   "version": "3.9.12"
  },
  "orig_nbformat": 4,
  "vscode": {
   "interpreter": {
    "hash": "40d3a090f54c6569ab1632332b64b2c03c39dcf918b08424e98f38b5ae0af88f"
   }
  }
 },
 "nbformat": 4,
 "nbformat_minor": 2
}
