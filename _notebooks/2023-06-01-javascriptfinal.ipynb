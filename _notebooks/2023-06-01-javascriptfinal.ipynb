{
 "cells": [
  {
   "cell_type": "code",
   "execution_count": 16,
   "metadata": {},
   "outputs": [
    {
     "data": {
      "application/javascript": "<head>\n    <!-- Load jQuery, DataTables style and scripts -->\n    <link rel=\"stylesheet\" type=\"text/css\" href=\"https://cdn.datatables.net/1.13.4/css/jquery.dataTables.min.css\">\n    <script type=\"text/javascript\" language=\"javascript\" src=\"https://code.jquery.com/jquery-3.6.0.min.js\"></script>\n    <script type=\"text/javascript\" language=\"javascript\" src=\"https://cdn.datatables.net/1.13.4/js/jquery.dataTables.min.js\"></script>\n</head>\n\n<input type=\"text\" id=\"searchBar\" placeholder=\"Search for character\">\n\n<table id=\"overwatchTable\" class=\"table\" style=\"width:100%\">\n    <thead id=\"overwatchHead\">\n        <tr>\n            <th>ID</th>\n            <th>Name</th>\n            <th>Role</th>\n            <th>Ultimate Ability</th>\n        </tr>\n    </thead>\n    <tbody id=\"overwatchBody\"></tbody>\n</table>\n\n<script>\n    $(document).ready(function() {\n        // Define Overwatch character data\n        var characters = [\n            { id: 1, name: \"Tracer\", role: \"Damage\", ultimate: \"Pulse Bomb\" },\n            { id: 2, name: \"Reinhardt\", role: \"Tank\", ultimate: \"Earthshatter\" },\n            { id: 3, name: \"Mercy\", role: \"Support\", ultimate: \"Valkyrie\" },\n            { id: 4, name: \"Genji\", role: \"Damage\", ultimate: \"Dragonblade\" }\n            // Add more character objects as needed\n        ];\n\n        // Populate the table with character data\n        for (const character of characters) {\n            $('#overwatchBody').append('<tr><td>' +\n                character.id + '</td><td>' +\n                character.name + '</td><td>' +\n                character.role + '</td><td>' +\n                character.ultimate + '</td></tr>');\n        }\n\n        // Initialize DataTables with custom options\n        var table = $('#overwatchTable').DataTable({\n            paging: true, // Enable pagination\n            ordering: true, // Enable sorting\n            searching: true, // Disable default searching\n            responsive: true, // Enable responsive design\n            // Add additional options or callbacks as needed\n        });\n\n        // Add event listener for search bar input\n        $('#searchBar').on('keyup', function() {\n            table.search(this.value).draw();\n        });\n\n        // Custom search function\n        function customSearch(value) {\n            table.search(value).draw();\n        }\n\n        // Override default DataTables search behavior\n        $.fn.dataTable.ext.search.push(function(settings, searchData, index, rowData, counter) {\n            var searchValue = $('#searchBar').val().toLowerCase();\n            var rowDataLowerCase = searchData.join(' ').toLowerCase();\n            return rowDataLowerCase.includes(searchValue);\n        });\n    });\n</script>\n",
      "text/plain": [
       "<IPython.core.display.Javascript object>"
      ]
     },
     "metadata": {},
     "output_type": "display_data"
    }
   ],
   "source": [
    "%%js\n",
    "<head>\n",
    "    <!-- Load jQuery, DataTables style and scripts -->\n",
    "    <link rel=\"stylesheet\" type=\"text/css\" href=\"https://cdn.datatables.net/1.13.4/css/jquery.dataTables.min.css\">\n",
    "    <script type=\"text/javascript\" language=\"javascript\" src=\"https://code.jquery.com/jquery-3.6.0.min.js\"></script>\n",
    "    <script type=\"text/javascript\" language=\"javascript\" src=\"https://cdn.datatables.net/1.13.4/js/jquery.dataTables.min.js\"></script>\n",
    "</head>\n",
    "\n",
    "<input type=\"text\" id=\"searchBar\" placeholder=\"Search for character\">\n",
    "\n",
    "<table id=\"overwatchTable\" class=\"table\" style=\"width:100%\">\n",
    "    <thead id=\"overwatchHead\">\n",
    "        <tr>\n",
    "            <th>ID</th>\n",
    "            <th>Name</th>\n",
    "            <th>Role</th>\n",
    "            <th>Ultimate Ability</th>\n",
    "        </tr>\n",
    "    </thead>\n",
    "    <tbody id=\"overwatchBody\"></tbody>\n",
    "</table>\n",
    "\n",
    "<script>\n",
    "    $(document).ready(function() {\n",
    "        // Define Overwatch character data\n",
    "        var characters = [\n",
    "            { id: 1, name: \"Tracer\", role: \"Damage\", ultimate: \"Pulse Bomb\" },\n",
    "            { id: 2, name: \"Reinhardt\", role: \"Tank\", ultimate: \"Earthshatter\" },\n",
    "            { id: 3, name: \"Mercy\", role: \"Support\", ultimate: \"Valkyrie\" },\n",
    "            { id: 4, name: \"Genji\", role: \"Damage\", ultimate: \"Dragonblade\" }\n",
    "            // Add more character objects as needed\n",
    "        ];\n",
    "\n",
    "        // Populate the table with character data\n",
    "        for (const character of characters) {\n",
    "            $('#overwatchBody').append('<tr><td>' +\n",
    "                character.id + '</td><td>' +\n",
    "                character.name + '</td><td>' +\n",
    "                character.role + '</td><td>' +\n",
    "                character.ultimate + '</td></tr>');\n",
    "        }\n",
    "\n",
    "        // Initialize DataTables with custom options\n",
    "        var table = $('#overwatchTable').DataTable({\n",
    "            paging: true, // Enable pagination\n",
    "            ordering: true, // Enable sorting\n",
    "            searching: true, // Disable default searching\n",
    "            responsive: true, // Enable responsive design\n",
    "            // Add additional options or callbacks as needed\n",
    "        });\n",
    "\n",
    "        // Add event listener for search bar input\n",
    "        $('#searchBar').on('keyup', function() {\n",
    "            table.search(this.value).draw();\n",
    "        });\n",
    "\n",
    "        // Custom search function\n",
    "        function customSearch(value) {\n",
    "            table.search(value).draw();\n",
    "        }\n",
    "\n",
    "        // Override default DataTables search behavior\n",
    "        $.fn.dataTable.ext.search.push(function(settings, searchData, index, rowData, counter) {\n",
    "            var searchValue = $('#searchBar').val().toLowerCase();\n",
    "            var rowDataLowerCase = searchData.join(' ').toLowerCase();\n",
    "            return rowDataLowerCase.includes(searchValue);\n",
    "        });\n",
    "    });\n",
    "</script>"
   ]
  }
 ],
 "metadata": {
  "kernelspec": {
   "display_name": "Python 3.10.10 64-bit",
   "language": "python",
   "name": "python3"
  },
  "language_info": {
   "codemirror_mode": {
    "name": "ipython",
    "version": 3
   },
   "file_extension": ".py",
   "mimetype": "text/x-python",
   "name": "python",
   "nbconvert_exporter": "python",
   "pygments_lexer": "ipython3",
   "version": "3.10.11"
  },
  "orig_nbformat": 4,
  "vscode": {
   "interpreter": {
    "hash": "7e1998ff7f8aa20ada591c520b972326324e5ea05489af9e422744c7c09f6dad"
   }
  }
 },
 "nbformat": 4,
 "nbformat_minor": 2
}
