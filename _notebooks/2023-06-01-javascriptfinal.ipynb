{
 "cells": [
  {
   "cell_type": "markdown",
   "metadata": {},
   "source": [
    "# Javascript Tutorial Final"
   ]
  },
  {
   "cell_type": "code",
   "execution_count": 39,
   "metadata": {},
   "outputs": [
    {
     "data": {
      "application/javascript": "<head>\n    <!-- Load jQuery, DataTables style and scripts -->\n    <link rel=\"stylesheet\" type=\"text/css\" href=\"https://cdn.datatables.net/1.13.4/css/jquery.dataTables.min.css\">\n    <script type=\"text/javascript\" language=\"javascript\" src=\"https://code.jquery.com/jquery-3.6.0.min.js\"></script>\n    <script type=\"text/javascript\" language=\"javascript\" src=\"https://cdn.datatables.net/1.13.4/js/jquery.dataTables.min.js\"></script>\n</head> \n    <!-- the head section contains the jquery library to handle DOM manipulation -->\n    <!-- DOM means Document Object Model, defines logical structure, the way document is accessed/manipulated -->\n    <!-- also has DataTables, gives the functionality to create the interactive table -->\n    \n<input type=\"text\" id=\"searchBar\" placeholder=\"Search\"> \n\n<table id=\"overwatchTable\" class=\"table\" style=\"width:100%\">\n    <thead id=\"overwatchHead\">\n        <tr>\n            <th>ID</th>\n            <th>Name</th>\n            <th>Role</th>\n            <th>Ultimate Ability</th>\n        </tr>\n    </thead>\n    <tbody id=\"overwatchBody\"></tbody>\n</table>\n    <!-- This defines all the parts of the table with the table, thead, and tbody tags. -->\n    <!-- The <th> tag is responsible for making the four columns -->\n\n<script>\n    $(document).ready(function() {\n        // Define Overwatch character data\n        var characters = [\n            { id: 1, name: \"Tracer\", role: \"Damage\", ultimate: \"Pulse Bomb\" },\n            { id: 2, name: \"Reinhardt\", role: \"Tank\", ultimate: \"Earthshatter\" },\n            { id: 3, name: \"Mercy\", role: \"Support\", ultimate: \"Valkyrie\" },\n            { id: 4, name: \"Genji\", role: \"Damage\", ultimate: \"Dragonblade\" },\n            { id: 5, name: \"Hanzo\", role: \"Damage\", ultimate: \"Dragonstrike\" },\n            { id: 6, name: \"Ashe\", role: \"Damage\", ultimate: \"B.O.B.\" },\n            { id: 7, name: \"Doomfist\", role: \"Tank\", ultimate: \"Meteor Strike\" },\n            { id: 8, name: \"Orisa\", role: \"Tank\", ultimate: \"Terra Surge\" },\n            { id: 9, name: \"Moira\", role: \"Tank\", ultimate: \"Coalescence\" },\n            // Add more character objects as needed\n        ];\n    <!-- responsible for defining the array of character objects -->\n    <!-- Each character makes up a row in the data table -->\n    <!-- They have properties  that correspond to the column --> \n    <!-- array is a container object that holds a fixed number of values of a single type -->\n\n        // Populate the table with character data\n        for (const character of characters) {\n            $('#overwatchBody').append('<tr><td>' +\n                character.id + '</td><td>' +\n                character.name + '</td><td>' +\n                character.role + '</td><td>' +\n                character.ultimate + '</td></tr>');\n        }\n    <!-- uses a for loop that iterates through the character data array and generates the row of the tables through the .append() function -->\n    <!-- retrieves the values from each character object and inserts them into the respective <td> elements within the table. -->\n\n        // Initialize DataTables with custom options\n        var table = $('#overwatchTable').DataTable({\n            paging: true, // Enable pagination\n            ordering: true, // Enable sorting\n            searching: true, // Enable searching\n            lengthChange: false, // Disable showing entries\n            responsive: true, // Enable responsive design\n            // Add additional options or callbacks as needed\n        });\n<!-- the $('#overwatchTable').DataTable({ initializes the table -->\n<!-- options to customize the behavior and appearance of the table -->\n\n        // Add event listener for search bar input\n        $('#searchBar').on('keyup', function() {\n            table.search(this.value).draw();\n        });\n<!-- when using a search bar, triggers a callback function that performs the search operation -->\n<!-- search() function to filter the table data based on the users input and redraws the table to reflect the filtered results. -->\n\n        // Override default DataTables search behavior\n        $.fn.dataTable.ext.search.push(function(settings, searchData, index, rowData, counter) {\n            var searchValue = $('#searchBar').val().toLowerCase();\n            var rowDataLowerCase = searchData.join(' ').toLowerCase();\n            return rowDataLowerCase.includes(searchValue);\n        });\n    });\n<!-- this changes the default search behavior to a custom one -->\n<!-- custom search function compares the search value entered by the user with the combined data of each row (converted to lowercase) and returns true if the search value is found within the row data. -->\n</script>\n",
      "text/plain": [
       "<IPython.core.display.Javascript object>"
      ]
     },
     "metadata": {},
     "output_type": "display_data"
    }
   ],
   "source": [
    "%%javascript\n",
    "<head>\n",
    "    <!-- Load jQuery, DataTables style and scripts -->\n",
    "    <link rel=\"stylesheet\" type=\"text/css\" href=\"https://cdn.datatables.net/1.13.4/css/jquery.dataTables.min.css\">\n",
    "    <script type=\"text/javascript\" language=\"javascript\" src=\"https://code.jquery.com/jquery-3.6.0.min.js\"></script>\n",
    "    <script type=\"text/javascript\" language=\"javascript\" src=\"https://cdn.datatables.net/1.13.4/js/jquery.dataTables.min.js\"></script>\n",
    "</head> \n",
    "    <!-- the head section contains the jquery library to handle DOM manipulation -->\n",
    "    <!-- DOM means Document Object Model, defines logical structure, the way document is accessed/manipulated -->\n",
    "    <!-- also has DataTables, gives the functionality to create the interactive table -->\n",
    "    \n",
    "<input type=\"text\" id=\"searchBar\" placeholder=\"Search\"> \n",
    "\n",
    "<table id=\"overwatchTable\" class=\"table\" style=\"width:100%\">\n",
    "    <thead id=\"overwatchHead\">\n",
    "        <tr>\n",
    "            <th>ID</th>\n",
    "            <th>Name</th>\n",
    "            <th>Role</th>\n",
    "            <th>Ultimate Ability</th>\n",
    "        </tr>\n",
    "    </thead>\n",
    "    <tbody id=\"overwatchBody\"></tbody>\n",
    "</table>\n",
    "    <!-- This defines all the parts of the table with the table, thead, and tbody tags. -->\n",
    "    <!-- The <th> tag is responsible for making the four columns -->\n",
    "\n",
    "<script>\n",
    "    $(document).ready(function() {\n",
    "        // Define Overwatch character data\n",
    "        var characters = [\n",
    "            { id: 1, name: \"Tracer\", role: \"Damage\", ultimate: \"Pulse Bomb\" },\n",
    "            { id: 2, name: \"Reinhardt\", role: \"Tank\", ultimate: \"Earthshatter\" },\n",
    "            { id: 3, name: \"Mercy\", role: \"Support\", ultimate: \"Valkyrie\" },\n",
    "            { id: 4, name: \"Genji\", role: \"Damage\", ultimate: \"Dragonblade\" },\n",
    "            { id: 5, name: \"Hanzo\", role: \"Damage\", ultimate: \"Dragonstrike\" },\n",
    "            { id: 6, name: \"Ashe\", role: \"Damage\", ultimate: \"B.O.B.\" },\n",
    "            { id: 7, name: \"Doomfist\", role: \"Tank\", ultimate: \"Meteor Strike\" },\n",
    "            { id: 8, name: \"Orisa\", role: \"Tank\", ultimate: \"Terra Surge\" },\n",
    "            { id: 9, name: \"Moira\", role: \"Tank\", ultimate: \"Coalescence\" },\n",
    "            // Add more character objects as needed\n",
    "        ];\n",
    "    <!-- responsible for defining the array of character objects -->\n",
    "    <!-- Each character makes up a row in the data table -->\n",
    "    <!-- They have properties  that correspond to the column --> \n",
    "    <!-- array is a container object that holds a fixed number of values of a single type -->\n",
    "\n",
    "        // Populate the table with character data\n",
    "        for (const character of characters) {\n",
    "            $('#overwatchBody').append('<tr><td>' +\n",
    "                character.id + '</td><td>' +\n",
    "                character.name + '</td><td>' +\n",
    "                character.role + '</td><td>' +\n",
    "                character.ultimate + '</td></tr>');\n",
    "        }\n",
    "    <!-- uses a for loop that iterates through the character data array and generates the row of the tables through the .append() function -->\n",
    "    <!-- retrieves the values from each character object and inserts them into the respective <td> elements within the table. -->\n",
    "\n",
    "        // Initialize DataTables with custom options\n",
    "        var table = $('#overwatchTable').DataTable({\n",
    "            paging: true, // Enable pagination\n",
    "            ordering: true, // Enable sorting\n",
    "            searching: true, // Enable searching\n",
    "            lengthChange: false, // Disable showing entries\n",
    "            responsive: true, // Enable responsive design\n",
    "            // Add additional options or callbacks as needed\n",
    "        });\n",
    "<!-- the $('#overwatchTable').DataTable({ initializes the table -->\n",
    "<!-- options to customize the behavior and appearance of the table -->\n",
    "\n",
    "        // Add event listener for search bar input\n",
    "        $('#searchBar').on('keyup', function() {\n",
    "            table.search(this.value).draw();\n",
    "        });\n",
    "<!-- when using a search bar, triggers a callback function that performs the search operation -->\n",
    "<!-- search() function to filter the table data based on the users input and redraws the table to reflect the filtered results. -->\n",
    "\n",
    "        // Override default DataTables search behavior\n",
    "        $.fn.dataTable.ext.search.push(function(settings, searchData, index, rowData, counter) {\n",
    "            var searchValue = $('#searchBar').val().toLowerCase();\n",
    "            var rowDataLowerCase = searchData.join(' ').toLowerCase();\n",
    "            return rowDataLowerCase.includes(searchValue);\n",
    "        });\n",
    "    });\n",
    "<!-- this changes the default search behavior to a custom one -->\n",
    "<!-- custom search function compares the search value entered by the user with the combined data of each row (converted to lowercase) and returns true if the search value is found within the row data. -->\n",
    "</script>"
   ]
  }
 ],
 "metadata": {
  "kernelspec": {
   "display_name": "Python 3.9.12 ('base')",
   "language": "python",
   "name": "python3"
  },
  "language_info": {
   "codemirror_mode": {
    "name": "ipython",
    "version": 3
   },
   "file_extension": ".py",
   "mimetype": "text/x-python",
   "name": "python",
   "nbconvert_exporter": "python",
   "pygments_lexer": "ipython3",
   "version": "3.9.12"
  },
  "orig_nbformat": 4,
  "vscode": {
   "interpreter": {
    "hash": "40d3a090f54c6569ab1632332b64b2c03c39dcf918b08424e98f38b5ae0af88f"
   }
  }
 },
 "nbformat": 4,
 "nbformat_minor": 2
}
